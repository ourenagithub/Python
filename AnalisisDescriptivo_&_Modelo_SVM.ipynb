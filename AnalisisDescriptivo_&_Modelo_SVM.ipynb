{
  "cells": [
    {
      "cell_type": "markdown",
      "metadata": {
        "id": "bAwd60tdWVWH"
      },
      "source": [
        "\n",
        "### **Apredisaje Supervisado**\n",
        "\n",
        "### Omar Urena\n",
        "\n"
      ]
    },
    {
      "cell_type": "markdown",
      "metadata": {
        "id": "zbBShwtJWOQO"
      },
      "source": [
        "####***Descripcion Dataset***\n",
        "\n",
        "Las complicaciones en el parto son una de las principales causas de mortalidad perinatal. El cardiotocógrafo fetal (CTG) se puede utilizar como una herramienta de seguimiento durante el parto ya que puede permitir evaluar el estado de salud del bebé durante el nacimiento.\n",
        "\n",
        "La cardiotocografía registra simultáneamente la frecuencia cardíaca fetal, los movimientos fetales y las contracciones uterinas. El registro permite al profesional sanitario valorar el latido cardíaco fetal durante la última etapa de la gestación y la respuesta del bebé a las contracciones durante todo el parto hasta el nacimiento.\n",
        "\n",
        "En este sentido, se recogieron datos de 2.126 cardiotocogramas fetales (CTG) y se midieron las características de diagnóstico respectivas. Los CTG también fueron clasificados por tres obstetras expertos y se asignó una etiqueta de clasificación de consenso a cada uno de ellos. De esta manera las características de diagnóstico representan el conjunto de variables explicativas que va a permitir estimar el estado fetal (target) en normal o anormal."
      ]
    },
    {
      "cell_type": "markdown",
      "metadata": {
        "id": "t7U84oZwW-Am"
      },
      "source": [
        "## **CARGA DE DATOS**"
      ]
    },
    {
      "cell_type": "code",
      "execution_count": null,
      "metadata": {
        "id": "OCb_HWlptnCO"
      },
      "outputs": [],
      "source": [
        "# Libreria Pandas para leer y explorar los datos\n",
        "import pandas as pd\n",
        "import numpy as np\n",
        "\n",
        "# libreria para graficos\n",
        "import seaborn as sns\n",
        "import matplotlib.pyplot as plt"
      ]
    },
    {
      "cell_type": "code",
      "execution_count": null,
      "metadata": {
        "id": "4VhaNUtluLZa"
      },
      "outputs": [],
      "source": [
        "# Carga de Datos\n",
        "\n",
        "df = pd.read_csv('/content/ASI_casoPractico.csv', sep = ';')"
      ]
    },
    {
      "cell_type": "markdown",
      "metadata": {
        "id": "jaucfpziuJNy"
      },
      "source": [
        "## **Analisis Exploratorio**"
      ]
    },
    {
      "cell_type": "code",
      "execution_count": null,
      "metadata": {
        "colab": {
          "base_uri": "https://localhost:8080/",
          "height": 235
        },
        "id": "k-xqQfyMvC96",
        "outputId": "c5adf145-a59f-4866-98d9-5b8427dd714d"
      },
      "outputs": [
        {
          "data": {
            "text/html": [
              "\n",
              "  <div id=\"df-b8182f86-72e2-40de-b2c5-85f3c792b7d1\">\n",
              "    <div class=\"colab-df-container\">\n",
              "      <div>\n",
              "<style scoped>\n",
              "    .dataframe tbody tr th:only-of-type {\n",
              "        vertical-align: middle;\n",
              "    }\n",
              "\n",
              "    .dataframe tbody tr th {\n",
              "        vertical-align: top;\n",
              "    }\n",
              "\n",
              "    .dataframe thead th {\n",
              "        text-align: right;\n",
              "    }\n",
              "</style>\n",
              "<table border=\"1\" class=\"dataframe\">\n",
              "  <thead>\n",
              "    <tr style=\"text-align: right;\">\n",
              "      <th></th>\n",
              "      <th>ID</th>\n",
              "      <th>b</th>\n",
              "      <th>e</th>\n",
              "      <th>LBE</th>\n",
              "      <th>AC</th>\n",
              "      <th>FM</th>\n",
              "      <th>UC</th>\n",
              "      <th>ASTV</th>\n",
              "      <th>MSTV</th>\n",
              "      <th>ALTV</th>\n",
              "      <th>...</th>\n",
              "      <th>Min</th>\n",
              "      <th>Max</th>\n",
              "      <th>Nmax</th>\n",
              "      <th>Nzeros</th>\n",
              "      <th>Mode</th>\n",
              "      <th>Mean</th>\n",
              "      <th>Median</th>\n",
              "      <th>Variance</th>\n",
              "      <th>Tendency</th>\n",
              "      <th>Target</th>\n",
              "    </tr>\n",
              "  </thead>\n",
              "  <tbody>\n",
              "    <tr>\n",
              "      <th>0</th>\n",
              "      <td>1</td>\n",
              "      <td>240</td>\n",
              "      <td>357</td>\n",
              "      <td>120</td>\n",
              "      <td>0</td>\n",
              "      <td>0</td>\n",
              "      <td>0</td>\n",
              "      <td>73</td>\n",
              "      <td>0.5</td>\n",
              "      <td>43</td>\n",
              "      <td>...</td>\n",
              "      <td>62</td>\n",
              "      <td>126</td>\n",
              "      <td>2</td>\n",
              "      <td>0</td>\n",
              "      <td>120</td>\n",
              "      <td>137</td>\n",
              "      <td>121</td>\n",
              "      <td>73</td>\n",
              "      <td>1</td>\n",
              "      <td>1</td>\n",
              "    </tr>\n",
              "    <tr>\n",
              "      <th>1</th>\n",
              "      <td>2</td>\n",
              "      <td>5</td>\n",
              "      <td>632</td>\n",
              "      <td>132</td>\n",
              "      <td>4</td>\n",
              "      <td>0</td>\n",
              "      <td>4</td>\n",
              "      <td>17</td>\n",
              "      <td>2.1</td>\n",
              "      <td>0</td>\n",
              "      <td>...</td>\n",
              "      <td>68</td>\n",
              "      <td>198</td>\n",
              "      <td>6</td>\n",
              "      <td>1</td>\n",
              "      <td>141</td>\n",
              "      <td>136</td>\n",
              "      <td>140</td>\n",
              "      <td>12</td>\n",
              "      <td>0</td>\n",
              "      <td>0</td>\n",
              "    </tr>\n",
              "    <tr>\n",
              "      <th>2</th>\n",
              "      <td>3</td>\n",
              "      <td>177</td>\n",
              "      <td>779</td>\n",
              "      <td>133</td>\n",
              "      <td>2</td>\n",
              "      <td>0</td>\n",
              "      <td>5</td>\n",
              "      <td>16</td>\n",
              "      <td>2.1</td>\n",
              "      <td>0</td>\n",
              "      <td>...</td>\n",
              "      <td>68</td>\n",
              "      <td>198</td>\n",
              "      <td>5</td>\n",
              "      <td>1</td>\n",
              "      <td>141</td>\n",
              "      <td>135</td>\n",
              "      <td>138</td>\n",
              "      <td>13</td>\n",
              "      <td>0</td>\n",
              "      <td>0</td>\n",
              "    </tr>\n",
              "    <tr>\n",
              "      <th>3</th>\n",
              "      <td>4</td>\n",
              "      <td>411</td>\n",
              "      <td>1192</td>\n",
              "      <td>134</td>\n",
              "      <td>2</td>\n",
              "      <td>0</td>\n",
              "      <td>6</td>\n",
              "      <td>16</td>\n",
              "      <td>2.4</td>\n",
              "      <td>0</td>\n",
              "      <td>...</td>\n",
              "      <td>53</td>\n",
              "      <td>170</td>\n",
              "      <td>11</td>\n",
              "      <td>0</td>\n",
              "      <td>137</td>\n",
              "      <td>134</td>\n",
              "      <td>137</td>\n",
              "      <td>13</td>\n",
              "      <td>1</td>\n",
              "      <td>0</td>\n",
              "    </tr>\n",
              "    <tr>\n",
              "      <th>4</th>\n",
              "      <td>5</td>\n",
              "      <td>533</td>\n",
              "      <td>1147</td>\n",
              "      <td>132</td>\n",
              "      <td>4</td>\n",
              "      <td>0</td>\n",
              "      <td>5</td>\n",
              "      <td>16</td>\n",
              "      <td>2.4</td>\n",
              "      <td>0</td>\n",
              "      <td>...</td>\n",
              "      <td>53</td>\n",
              "      <td>170</td>\n",
              "      <td>9</td>\n",
              "      <td>0</td>\n",
              "      <td>137</td>\n",
              "      <td>136</td>\n",
              "      <td>138</td>\n",
              "      <td>11</td>\n",
              "      <td>1</td>\n",
              "      <td>0</td>\n",
              "    </tr>\n",
              "  </tbody>\n",
              "</table>\n",
              "<p>5 rows × 26 columns</p>\n",
              "</div>\n",
              "      <button class=\"colab-df-convert\" onclick=\"convertToInteractive('df-b8182f86-72e2-40de-b2c5-85f3c792b7d1')\"\n",
              "              title=\"Convert this dataframe to an interactive table.\"\n",
              "              style=\"display:none;\">\n",
              "        \n",
              "  <svg xmlns=\"http://www.w3.org/2000/svg\" height=\"24px\"viewBox=\"0 0 24 24\"\n",
              "       width=\"24px\">\n",
              "    <path d=\"M0 0h24v24H0V0z\" fill=\"none\"/>\n",
              "    <path d=\"M18.56 5.44l.94 2.06.94-2.06 2.06-.94-2.06-.94-.94-2.06-.94 2.06-2.06.94zm-11 1L8.5 8.5l.94-2.06 2.06-.94-2.06-.94L8.5 2.5l-.94 2.06-2.06.94zm10 10l.94 2.06.94-2.06 2.06-.94-2.06-.94-.94-2.06-.94 2.06-2.06.94z\"/><path d=\"M17.41 7.96l-1.37-1.37c-.4-.4-.92-.59-1.43-.59-.52 0-1.04.2-1.43.59L10.3 9.45l-7.72 7.72c-.78.78-.78 2.05 0 2.83L4 21.41c.39.39.9.59 1.41.59.51 0 1.02-.2 1.41-.59l7.78-7.78 2.81-2.81c.8-.78.8-2.07 0-2.86zM5.41 20L4 18.59l7.72-7.72 1.47 1.35L5.41 20z\"/>\n",
              "  </svg>\n",
              "      </button>\n",
              "      \n",
              "  <style>\n",
              "    .colab-df-container {\n",
              "      display:flex;\n",
              "      flex-wrap:wrap;\n",
              "      gap: 12px;\n",
              "    }\n",
              "\n",
              "    .colab-df-convert {\n",
              "      background-color: #E8F0FE;\n",
              "      border: none;\n",
              "      border-radius: 50%;\n",
              "      cursor: pointer;\n",
              "      display: none;\n",
              "      fill: #1967D2;\n",
              "      height: 32px;\n",
              "      padding: 0 0 0 0;\n",
              "      width: 32px;\n",
              "    }\n",
              "\n",
              "    .colab-df-convert:hover {\n",
              "      background-color: #E2EBFA;\n",
              "      box-shadow: 0px 1px 2px rgba(60, 64, 67, 0.3), 0px 1px 3px 1px rgba(60, 64, 67, 0.15);\n",
              "      fill: #174EA6;\n",
              "    }\n",
              "\n",
              "    [theme=dark] .colab-df-convert {\n",
              "      background-color: #3B4455;\n",
              "      fill: #D2E3FC;\n",
              "    }\n",
              "\n",
              "    [theme=dark] .colab-df-convert:hover {\n",
              "      background-color: #434B5C;\n",
              "      box-shadow: 0px 1px 3px 1px rgba(0, 0, 0, 0.15);\n",
              "      filter: drop-shadow(0px 1px 2px rgba(0, 0, 0, 0.3));\n",
              "      fill: #FFFFFF;\n",
              "    }\n",
              "  </style>\n",
              "\n",
              "      <script>\n",
              "        const buttonEl =\n",
              "          document.querySelector('#df-b8182f86-72e2-40de-b2c5-85f3c792b7d1 button.colab-df-convert');\n",
              "        buttonEl.style.display =\n",
              "          google.colab.kernel.accessAllowed ? 'block' : 'none';\n",
              "\n",
              "        async function convertToInteractive(key) {\n",
              "          const element = document.querySelector('#df-b8182f86-72e2-40de-b2c5-85f3c792b7d1');\n",
              "          const dataTable =\n",
              "            await google.colab.kernel.invokeFunction('convertToInteractive',\n",
              "                                                     [key], {});\n",
              "          if (!dataTable) return;\n",
              "\n",
              "          const docLinkHtml = 'Like what you see? Visit the ' +\n",
              "            '<a target=\"_blank\" href=https://colab.research.google.com/notebooks/data_table.ipynb>data table notebook</a>'\n",
              "            + ' to learn more about interactive tables.';\n",
              "          element.innerHTML = '';\n",
              "          dataTable['output_type'] = 'display_data';\n",
              "          await google.colab.output.renderOutput(dataTable, element);\n",
              "          const docLink = document.createElement('div');\n",
              "          docLink.innerHTML = docLinkHtml;\n",
              "          element.appendChild(docLink);\n",
              "        }\n",
              "      </script>\n",
              "    </div>\n",
              "  </div>\n",
              "  "
            ],
            "text/plain": [
              "   ID    b     e  LBE  AC  FM  UC  ASTV  MSTV  ALTV  ...  Min  Max  Nmax  \\\n",
              "0   1  240   357  120   0   0   0    73   0.5    43  ...   62  126     2   \n",
              "1   2    5   632  132   4   0   4    17   2.1     0  ...   68  198     6   \n",
              "2   3  177   779  133   2   0   5    16   2.1     0  ...   68  198     5   \n",
              "3   4  411  1192  134   2   0   6    16   2.4     0  ...   53  170    11   \n",
              "4   5  533  1147  132   4   0   5    16   2.4     0  ...   53  170     9   \n",
              "\n",
              "   Nzeros  Mode  Mean  Median  Variance  Tendency  Target  \n",
              "0       0   120   137     121        73         1       1  \n",
              "1       1   141   136     140        12         0       0  \n",
              "2       1   141   135     138        13         0       0  \n",
              "3       0   137   134     137        13         1       0  \n",
              "4       0   137   136     138        11         1       0  \n",
              "\n",
              "[5 rows x 26 columns]"
            ]
          },
          "execution_count": 24,
          "metadata": {},
          "output_type": "execute_result"
        }
      ],
      "source": [
        "#Explorar Dataset: visualizamos las primera filas del conjunto de datos para familiarizarnos con las informaciones almacenadas.\n",
        "df.head()"
      ]
    },
    {
      "cell_type": "code",
      "execution_count": null,
      "metadata": {
        "colab": {
          "base_uri": "https://localhost:8080/"
        },
        "id": "su48OTGVZpb6",
        "outputId": "2da1d83c-89e7-4eab-e996-821d92a3d100"
      },
      "outputs": [
        {
          "name": "stdout",
          "output_type": "stream",
          "text": [
            "<class 'pandas.core.frame.DataFrame'>\n",
            "RangeIndex: 2126 entries, 0 to 2125\n",
            "Data columns (total 26 columns):\n",
            " #   Column    Non-Null Count  Dtype  \n",
            "---  ------    --------------  -----  \n",
            " 0   ID        2126 non-null   int64  \n",
            " 1   b         2126 non-null   int64  \n",
            " 2   e         2126 non-null   int64  \n",
            " 3   LBE       2126 non-null   int64  \n",
            " 4   AC        2126 non-null   int64  \n",
            " 5   FM        2126 non-null   int64  \n",
            " 6   UC        2126 non-null   int64  \n",
            " 7   ASTV      2126 non-null   int64  \n",
            " 8   MSTV      2126 non-null   float64\n",
            " 9   ALTV      2126 non-null   int64  \n",
            " 10  MLTV      2126 non-null   float64\n",
            " 11  DL        2126 non-null   int64  \n",
            " 12  DS        2126 non-null   int64  \n",
            " 13  DP        2126 non-null   int64  \n",
            " 14  DR        2126 non-null   int64  \n",
            " 15  Width     2126 non-null   int64  \n",
            " 16  Min       2126 non-null   int64  \n",
            " 17  Max       2126 non-null   int64  \n",
            " 18  Nmax      2126 non-null   int64  \n",
            " 19  Nzeros    2126 non-null   int64  \n",
            " 20  Mode      2126 non-null   int64  \n",
            " 21  Mean      2126 non-null   int64  \n",
            " 22  Median    2126 non-null   int64  \n",
            " 23  Variance  2126 non-null   int64  \n",
            " 24  Tendency  2126 non-null   int64  \n",
            " 25  Target    2126 non-null   int64  \n",
            "dtypes: float64(2), int64(24)\n",
            "memory usage: 432.0 KB\n",
            "None Dimesión del dataset (Rows/Col) (2126, 26)\n"
          ]
        }
      ],
      "source": [
        "#Informaciones del dataset\n",
        "#(Nombres de variables o columnas, cantidad de columnas (26), cantidad filas(2,126))\n",
        "#(Tipo de datos (Entero & decimales (Variables cuantitativas discretas(24) y continúas(2))\n",
        "#De primera manos visualizamos que no hay 2,126 Non-Null de 2,126 filas existentes.\n",
        "print(df.info(),f'Dimesión del dataset (Rows/Col) {df.shape}')"
      ]
    },
    {
      "cell_type": "code",
      "execution_count": null,
      "metadata": {
        "colab": {
          "base_uri": "https://localhost:8080/",
          "height": 235
        },
        "id": "ZDgmxa31LxnX",
        "outputId": "23dded97-2f62-490c-b9c6-7919c1a4c610"
      },
      "outputs": [
        {
          "data": {
            "text/html": [
              "\n",
              "  <div id=\"df-f1db15fc-66c7-40db-860a-e5800c3310b3\">\n",
              "    <div class=\"colab-df-container\">\n",
              "      <div>\n",
              "<style scoped>\n",
              "    .dataframe tbody tr th:only-of-type {\n",
              "        vertical-align: middle;\n",
              "    }\n",
              "\n",
              "    .dataframe tbody tr th {\n",
              "        vertical-align: top;\n",
              "    }\n",
              "\n",
              "    .dataframe thead th {\n",
              "        text-align: right;\n",
              "    }\n",
              "</style>\n",
              "<table border=\"1\" class=\"dataframe\">\n",
              "  <thead>\n",
              "    <tr style=\"text-align: right;\">\n",
              "      <th></th>\n",
              "      <th>LBE</th>\n",
              "      <th>AC</th>\n",
              "      <th>FM</th>\n",
              "      <th>UC</th>\n",
              "      <th>ASTV</th>\n",
              "      <th>MSTV</th>\n",
              "      <th>ALTV</th>\n",
              "      <th>MLTV</th>\n",
              "      <th>DL</th>\n",
              "      <th>DS</th>\n",
              "      <th>...</th>\n",
              "      <th>Min</th>\n",
              "      <th>Max</th>\n",
              "      <th>Nmax</th>\n",
              "      <th>Nzeros</th>\n",
              "      <th>Mode</th>\n",
              "      <th>Mean</th>\n",
              "      <th>Median</th>\n",
              "      <th>Variance</th>\n",
              "      <th>Tendency</th>\n",
              "      <th>Target</th>\n",
              "    </tr>\n",
              "  </thead>\n",
              "  <tbody>\n",
              "    <tr>\n",
              "      <th>0</th>\n",
              "      <td>120</td>\n",
              "      <td>0</td>\n",
              "      <td>0</td>\n",
              "      <td>0</td>\n",
              "      <td>73</td>\n",
              "      <td>0.5</td>\n",
              "      <td>43</td>\n",
              "      <td>2.4</td>\n",
              "      <td>0</td>\n",
              "      <td>0</td>\n",
              "      <td>...</td>\n",
              "      <td>62</td>\n",
              "      <td>126</td>\n",
              "      <td>2</td>\n",
              "      <td>0</td>\n",
              "      <td>120</td>\n",
              "      <td>137</td>\n",
              "      <td>121</td>\n",
              "      <td>73</td>\n",
              "      <td>1</td>\n",
              "      <td>1</td>\n",
              "    </tr>\n",
              "    <tr>\n",
              "      <th>1</th>\n",
              "      <td>132</td>\n",
              "      <td>4</td>\n",
              "      <td>0</td>\n",
              "      <td>4</td>\n",
              "      <td>17</td>\n",
              "      <td>2.1</td>\n",
              "      <td>0</td>\n",
              "      <td>10.4</td>\n",
              "      <td>2</td>\n",
              "      <td>0</td>\n",
              "      <td>...</td>\n",
              "      <td>68</td>\n",
              "      <td>198</td>\n",
              "      <td>6</td>\n",
              "      <td>1</td>\n",
              "      <td>141</td>\n",
              "      <td>136</td>\n",
              "      <td>140</td>\n",
              "      <td>12</td>\n",
              "      <td>0</td>\n",
              "      <td>0</td>\n",
              "    </tr>\n",
              "    <tr>\n",
              "      <th>2</th>\n",
              "      <td>133</td>\n",
              "      <td>2</td>\n",
              "      <td>0</td>\n",
              "      <td>5</td>\n",
              "      <td>16</td>\n",
              "      <td>2.1</td>\n",
              "      <td>0</td>\n",
              "      <td>13.4</td>\n",
              "      <td>2</td>\n",
              "      <td>0</td>\n",
              "      <td>...</td>\n",
              "      <td>68</td>\n",
              "      <td>198</td>\n",
              "      <td>5</td>\n",
              "      <td>1</td>\n",
              "      <td>141</td>\n",
              "      <td>135</td>\n",
              "      <td>138</td>\n",
              "      <td>13</td>\n",
              "      <td>0</td>\n",
              "      <td>0</td>\n",
              "    </tr>\n",
              "    <tr>\n",
              "      <th>3</th>\n",
              "      <td>134</td>\n",
              "      <td>2</td>\n",
              "      <td>0</td>\n",
              "      <td>6</td>\n",
              "      <td>16</td>\n",
              "      <td>2.4</td>\n",
              "      <td>0</td>\n",
              "      <td>23.0</td>\n",
              "      <td>2</td>\n",
              "      <td>0</td>\n",
              "      <td>...</td>\n",
              "      <td>53</td>\n",
              "      <td>170</td>\n",
              "      <td>11</td>\n",
              "      <td>0</td>\n",
              "      <td>137</td>\n",
              "      <td>134</td>\n",
              "      <td>137</td>\n",
              "      <td>13</td>\n",
              "      <td>1</td>\n",
              "      <td>0</td>\n",
              "    </tr>\n",
              "    <tr>\n",
              "      <th>4</th>\n",
              "      <td>132</td>\n",
              "      <td>4</td>\n",
              "      <td>0</td>\n",
              "      <td>5</td>\n",
              "      <td>16</td>\n",
              "      <td>2.4</td>\n",
              "      <td>0</td>\n",
              "      <td>19.9</td>\n",
              "      <td>0</td>\n",
              "      <td>0</td>\n",
              "      <td>...</td>\n",
              "      <td>53</td>\n",
              "      <td>170</td>\n",
              "      <td>9</td>\n",
              "      <td>0</td>\n",
              "      <td>137</td>\n",
              "      <td>136</td>\n",
              "      <td>138</td>\n",
              "      <td>11</td>\n",
              "      <td>1</td>\n",
              "      <td>0</td>\n",
              "    </tr>\n",
              "  </tbody>\n",
              "</table>\n",
              "<p>5 rows × 22 columns</p>\n",
              "</div>\n",
              "      <button class=\"colab-df-convert\" onclick=\"convertToInteractive('df-f1db15fc-66c7-40db-860a-e5800c3310b3')\"\n",
              "              title=\"Convert this dataframe to an interactive table.\"\n",
              "              style=\"display:none;\">\n",
              "        \n",
              "  <svg xmlns=\"http://www.w3.org/2000/svg\" height=\"24px\"viewBox=\"0 0 24 24\"\n",
              "       width=\"24px\">\n",
              "    <path d=\"M0 0h24v24H0V0z\" fill=\"none\"/>\n",
              "    <path d=\"M18.56 5.44l.94 2.06.94-2.06 2.06-.94-2.06-.94-.94-2.06-.94 2.06-2.06.94zm-11 1L8.5 8.5l.94-2.06 2.06-.94-2.06-.94L8.5 2.5l-.94 2.06-2.06.94zm10 10l.94 2.06.94-2.06 2.06-.94-2.06-.94-.94-2.06-.94 2.06-2.06.94z\"/><path d=\"M17.41 7.96l-1.37-1.37c-.4-.4-.92-.59-1.43-.59-.52 0-1.04.2-1.43.59L10.3 9.45l-7.72 7.72c-.78.78-.78 2.05 0 2.83L4 21.41c.39.39.9.59 1.41.59.51 0 1.02-.2 1.41-.59l7.78-7.78 2.81-2.81c.8-.78.8-2.07 0-2.86zM5.41 20L4 18.59l7.72-7.72 1.47 1.35L5.41 20z\"/>\n",
              "  </svg>\n",
              "      </button>\n",
              "      \n",
              "  <style>\n",
              "    .colab-df-container {\n",
              "      display:flex;\n",
              "      flex-wrap:wrap;\n",
              "      gap: 12px;\n",
              "    }\n",
              "\n",
              "    .colab-df-convert {\n",
              "      background-color: #E8F0FE;\n",
              "      border: none;\n",
              "      border-radius: 50%;\n",
              "      cursor: pointer;\n",
              "      display: none;\n",
              "      fill: #1967D2;\n",
              "      height: 32px;\n",
              "      padding: 0 0 0 0;\n",
              "      width: 32px;\n",
              "    }\n",
              "\n",
              "    .colab-df-convert:hover {\n",
              "      background-color: #E2EBFA;\n",
              "      box-shadow: 0px 1px 2px rgba(60, 64, 67, 0.3), 0px 1px 3px 1px rgba(60, 64, 67, 0.15);\n",
              "      fill: #174EA6;\n",
              "    }\n",
              "\n",
              "    [theme=dark] .colab-df-convert {\n",
              "      background-color: #3B4455;\n",
              "      fill: #D2E3FC;\n",
              "    }\n",
              "\n",
              "    [theme=dark] .colab-df-convert:hover {\n",
              "      background-color: #434B5C;\n",
              "      box-shadow: 0px 1px 3px 1px rgba(0, 0, 0, 0.15);\n",
              "      filter: drop-shadow(0px 1px 2px rgba(0, 0, 0, 0.3));\n",
              "      fill: #FFFFFF;\n",
              "    }\n",
              "  </style>\n",
              "\n",
              "      <script>\n",
              "        const buttonEl =\n",
              "          document.querySelector('#df-f1db15fc-66c7-40db-860a-e5800c3310b3 button.colab-df-convert');\n",
              "        buttonEl.style.display =\n",
              "          google.colab.kernel.accessAllowed ? 'block' : 'none';\n",
              "\n",
              "        async function convertToInteractive(key) {\n",
              "          const element = document.querySelector('#df-f1db15fc-66c7-40db-860a-e5800c3310b3');\n",
              "          const dataTable =\n",
              "            await google.colab.kernel.invokeFunction('convertToInteractive',\n",
              "                                                     [key], {});\n",
              "          if (!dataTable) return;\n",
              "\n",
              "          const docLinkHtml = 'Like what you see? Visit the ' +\n",
              "            '<a target=\"_blank\" href=https://colab.research.google.com/notebooks/data_table.ipynb>data table notebook</a>'\n",
              "            + ' to learn more about interactive tables.';\n",
              "          element.innerHTML = '';\n",
              "          dataTable['output_type'] = 'display_data';\n",
              "          await google.colab.output.renderOutput(dataTable, element);\n",
              "          const docLink = document.createElement('div');\n",
              "          docLink.innerHTML = docLinkHtml;\n",
              "          element.appendChild(docLink);\n",
              "        }\n",
              "      </script>\n",
              "    </div>\n",
              "  </div>\n",
              "  "
            ],
            "text/plain": [
              "   LBE  AC  FM  UC  ASTV  MSTV  ALTV  MLTV  DL  DS  ...  Min  Max  Nmax  \\\n",
              "0  120   0   0   0    73   0.5    43   2.4   0   0  ...   62  126     2   \n",
              "1  132   4   0   4    17   2.1     0  10.4   2   0  ...   68  198     6   \n",
              "2  133   2   0   5    16   2.1     0  13.4   2   0  ...   68  198     5   \n",
              "3  134   2   0   6    16   2.4     0  23.0   2   0  ...   53  170    11   \n",
              "4  132   4   0   5    16   2.4     0  19.9   0   0  ...   53  170     9   \n",
              "\n",
              "   Nzeros  Mode  Mean  Median  Variance  Tendency  Target  \n",
              "0       0   120   137     121        73         1       1  \n",
              "1       1   141   136     140        12         0       0  \n",
              "2       1   141   135     138        13         0       0  \n",
              "3       0   137   134     137        13         1       0  \n",
              "4       0   137   136     138        11         1       0  \n",
              "\n",
              "[5 rows x 22 columns]"
            ]
          },
          "execution_count": 26,
          "metadata": {},
          "output_type": "execute_result"
        }
      ],
      "source": [
        "#Eliminar columnas no necesarias\n",
        "df = df.drop([\"ID\",\"b\",\"e\",\"DR\"], axis = 1)\n",
        "df.head()"
      ]
    },
    {
      "cell_type": "code",
      "execution_count": null,
      "metadata": {
        "colab": {
          "base_uri": "https://localhost:8080/",
          "height": 739
        },
        "id": "ly33AFtTahWe",
        "outputId": "f3f6565a-0b41-4caf-ffab-08cd7f655cdf"
      },
      "outputs": [
        {
          "data": {
            "text/html": [
              "\n",
              "  <div id=\"df-33cc2cc9-851a-4fd5-a6ed-8ae054a21f26\">\n",
              "    <div class=\"colab-df-container\">\n",
              "      <div>\n",
              "<style scoped>\n",
              "    .dataframe tbody tr th:only-of-type {\n",
              "        vertical-align: middle;\n",
              "    }\n",
              "\n",
              "    .dataframe tbody tr th {\n",
              "        vertical-align: top;\n",
              "    }\n",
              "\n",
              "    .dataframe thead th {\n",
              "        text-align: right;\n",
              "    }\n",
              "</style>\n",
              "<table border=\"1\" class=\"dataframe\">\n",
              "  <thead>\n",
              "    <tr style=\"text-align: right;\">\n",
              "      <th></th>\n",
              "      <th>count</th>\n",
              "      <th>mean</th>\n",
              "      <th>std</th>\n",
              "      <th>min</th>\n",
              "      <th>25%</th>\n",
              "      <th>50%</th>\n",
              "      <th>75%</th>\n",
              "      <th>max</th>\n",
              "    </tr>\n",
              "  </thead>\n",
              "  <tbody>\n",
              "    <tr>\n",
              "      <th>LBE</th>\n",
              "      <td>2126.0</td>\n",
              "      <td>133.303857</td>\n",
              "      <td>9.840844</td>\n",
              "      <td>106.0</td>\n",
              "      <td>126.0</td>\n",
              "      <td>133.0</td>\n",
              "      <td>140.0</td>\n",
              "      <td>160.0</td>\n",
              "    </tr>\n",
              "    <tr>\n",
              "      <th>AC</th>\n",
              "      <td>2126.0</td>\n",
              "      <td>2.722484</td>\n",
              "      <td>3.560850</td>\n",
              "      <td>0.0</td>\n",
              "      <td>0.0</td>\n",
              "      <td>1.0</td>\n",
              "      <td>4.0</td>\n",
              "      <td>26.0</td>\n",
              "    </tr>\n",
              "    <tr>\n",
              "      <th>FM</th>\n",
              "      <td>2126.0</td>\n",
              "      <td>7.241298</td>\n",
              "      <td>37.125309</td>\n",
              "      <td>0.0</td>\n",
              "      <td>0.0</td>\n",
              "      <td>0.0</td>\n",
              "      <td>2.0</td>\n",
              "      <td>564.0</td>\n",
              "    </tr>\n",
              "    <tr>\n",
              "      <th>UC</th>\n",
              "      <td>2126.0</td>\n",
              "      <td>3.659925</td>\n",
              "      <td>2.847094</td>\n",
              "      <td>0.0</td>\n",
              "      <td>1.0</td>\n",
              "      <td>3.0</td>\n",
              "      <td>5.0</td>\n",
              "      <td>23.0</td>\n",
              "    </tr>\n",
              "    <tr>\n",
              "      <th>ASTV</th>\n",
              "      <td>2126.0</td>\n",
              "      <td>46.990122</td>\n",
              "      <td>17.192814</td>\n",
              "      <td>12.0</td>\n",
              "      <td>32.0</td>\n",
              "      <td>49.0</td>\n",
              "      <td>61.0</td>\n",
              "      <td>87.0</td>\n",
              "    </tr>\n",
              "    <tr>\n",
              "      <th>MSTV</th>\n",
              "      <td>2126.0</td>\n",
              "      <td>1.332785</td>\n",
              "      <td>0.883241</td>\n",
              "      <td>0.2</td>\n",
              "      <td>0.7</td>\n",
              "      <td>1.2</td>\n",
              "      <td>1.7</td>\n",
              "      <td>7.0</td>\n",
              "    </tr>\n",
              "    <tr>\n",
              "      <th>ALTV</th>\n",
              "      <td>2126.0</td>\n",
              "      <td>9.846660</td>\n",
              "      <td>18.396880</td>\n",
              "      <td>0.0</td>\n",
              "      <td>0.0</td>\n",
              "      <td>0.0</td>\n",
              "      <td>11.0</td>\n",
              "      <td>91.0</td>\n",
              "    </tr>\n",
              "    <tr>\n",
              "      <th>MLTV</th>\n",
              "      <td>2126.0</td>\n",
              "      <td>8.187629</td>\n",
              "      <td>5.628247</td>\n",
              "      <td>0.0</td>\n",
              "      <td>4.6</td>\n",
              "      <td>7.4</td>\n",
              "      <td>10.8</td>\n",
              "      <td>50.7</td>\n",
              "    </tr>\n",
              "    <tr>\n",
              "      <th>DL</th>\n",
              "      <td>2126.0</td>\n",
              "      <td>1.570085</td>\n",
              "      <td>2.499229</td>\n",
              "      <td>0.0</td>\n",
              "      <td>0.0</td>\n",
              "      <td>0.0</td>\n",
              "      <td>3.0</td>\n",
              "      <td>16.0</td>\n",
              "    </tr>\n",
              "    <tr>\n",
              "      <th>DS</th>\n",
              "      <td>2126.0</td>\n",
              "      <td>0.003293</td>\n",
              "      <td>0.057300</td>\n",
              "      <td>0.0</td>\n",
              "      <td>0.0</td>\n",
              "      <td>0.0</td>\n",
              "      <td>0.0</td>\n",
              "      <td>1.0</td>\n",
              "    </tr>\n",
              "    <tr>\n",
              "      <th>DP</th>\n",
              "      <td>2126.0</td>\n",
              "      <td>0.126058</td>\n",
              "      <td>0.464361</td>\n",
              "      <td>0.0</td>\n",
              "      <td>0.0</td>\n",
              "      <td>0.0</td>\n",
              "      <td>0.0</td>\n",
              "      <td>4.0</td>\n",
              "    </tr>\n",
              "    <tr>\n",
              "      <th>Width</th>\n",
              "      <td>2126.0</td>\n",
              "      <td>70.445908</td>\n",
              "      <td>38.955693</td>\n",
              "      <td>3.0</td>\n",
              "      <td>37.0</td>\n",
              "      <td>67.5</td>\n",
              "      <td>100.0</td>\n",
              "      <td>180.0</td>\n",
              "    </tr>\n",
              "    <tr>\n",
              "      <th>Min</th>\n",
              "      <td>2126.0</td>\n",
              "      <td>93.579492</td>\n",
              "      <td>29.560212</td>\n",
              "      <td>50.0</td>\n",
              "      <td>67.0</td>\n",
              "      <td>93.0</td>\n",
              "      <td>120.0</td>\n",
              "      <td>159.0</td>\n",
              "    </tr>\n",
              "    <tr>\n",
              "      <th>Max</th>\n",
              "      <td>2126.0</td>\n",
              "      <td>164.025400</td>\n",
              "      <td>17.944183</td>\n",
              "      <td>122.0</td>\n",
              "      <td>152.0</td>\n",
              "      <td>162.0</td>\n",
              "      <td>174.0</td>\n",
              "      <td>238.0</td>\n",
              "    </tr>\n",
              "    <tr>\n",
              "      <th>Nmax</th>\n",
              "      <td>2126.0</td>\n",
              "      <td>4.068203</td>\n",
              "      <td>2.949386</td>\n",
              "      <td>0.0</td>\n",
              "      <td>2.0</td>\n",
              "      <td>3.0</td>\n",
              "      <td>6.0</td>\n",
              "      <td>18.0</td>\n",
              "    </tr>\n",
              "    <tr>\n",
              "      <th>Nzeros</th>\n",
              "      <td>2126.0</td>\n",
              "      <td>0.323612</td>\n",
              "      <td>0.706059</td>\n",
              "      <td>0.0</td>\n",
              "      <td>0.0</td>\n",
              "      <td>0.0</td>\n",
              "      <td>0.0</td>\n",
              "      <td>10.0</td>\n",
              "    </tr>\n",
              "    <tr>\n",
              "      <th>Mode</th>\n",
              "      <td>2126.0</td>\n",
              "      <td>137.452023</td>\n",
              "      <td>16.381289</td>\n",
              "      <td>60.0</td>\n",
              "      <td>129.0</td>\n",
              "      <td>139.0</td>\n",
              "      <td>148.0</td>\n",
              "      <td>187.0</td>\n",
              "    </tr>\n",
              "    <tr>\n",
              "      <th>Mean</th>\n",
              "      <td>2126.0</td>\n",
              "      <td>134.610536</td>\n",
              "      <td>15.593596</td>\n",
              "      <td>73.0</td>\n",
              "      <td>125.0</td>\n",
              "      <td>136.0</td>\n",
              "      <td>145.0</td>\n",
              "      <td>182.0</td>\n",
              "    </tr>\n",
              "    <tr>\n",
              "      <th>Median</th>\n",
              "      <td>2126.0</td>\n",
              "      <td>138.090310</td>\n",
              "      <td>14.466589</td>\n",
              "      <td>77.0</td>\n",
              "      <td>129.0</td>\n",
              "      <td>139.0</td>\n",
              "      <td>148.0</td>\n",
              "      <td>186.0</td>\n",
              "    </tr>\n",
              "    <tr>\n",
              "      <th>Variance</th>\n",
              "      <td>2126.0</td>\n",
              "      <td>18.808090</td>\n",
              "      <td>28.977636</td>\n",
              "      <td>0.0</td>\n",
              "      <td>2.0</td>\n",
              "      <td>7.0</td>\n",
              "      <td>24.0</td>\n",
              "      <td>269.0</td>\n",
              "    </tr>\n",
              "    <tr>\n",
              "      <th>Tendency</th>\n",
              "      <td>2126.0</td>\n",
              "      <td>0.320320</td>\n",
              "      <td>0.610829</td>\n",
              "      <td>-1.0</td>\n",
              "      <td>0.0</td>\n",
              "      <td>0.0</td>\n",
              "      <td>1.0</td>\n",
              "      <td>1.0</td>\n",
              "    </tr>\n",
              "    <tr>\n",
              "      <th>Target</th>\n",
              "      <td>2126.0</td>\n",
              "      <td>0.221543</td>\n",
              "      <td>0.415383</td>\n",
              "      <td>0.0</td>\n",
              "      <td>0.0</td>\n",
              "      <td>0.0</td>\n",
              "      <td>0.0</td>\n",
              "      <td>1.0</td>\n",
              "    </tr>\n",
              "  </tbody>\n",
              "</table>\n",
              "</div>\n",
              "      <button class=\"colab-df-convert\" onclick=\"convertToInteractive('df-33cc2cc9-851a-4fd5-a6ed-8ae054a21f26')\"\n",
              "              title=\"Convert this dataframe to an interactive table.\"\n",
              "              style=\"display:none;\">\n",
              "        \n",
              "  <svg xmlns=\"http://www.w3.org/2000/svg\" height=\"24px\"viewBox=\"0 0 24 24\"\n",
              "       width=\"24px\">\n",
              "    <path d=\"M0 0h24v24H0V0z\" fill=\"none\"/>\n",
              "    <path d=\"M18.56 5.44l.94 2.06.94-2.06 2.06-.94-2.06-.94-.94-2.06-.94 2.06-2.06.94zm-11 1L8.5 8.5l.94-2.06 2.06-.94-2.06-.94L8.5 2.5l-.94 2.06-2.06.94zm10 10l.94 2.06.94-2.06 2.06-.94-2.06-.94-.94-2.06-.94 2.06-2.06.94z\"/><path d=\"M17.41 7.96l-1.37-1.37c-.4-.4-.92-.59-1.43-.59-.52 0-1.04.2-1.43.59L10.3 9.45l-7.72 7.72c-.78.78-.78 2.05 0 2.83L4 21.41c.39.39.9.59 1.41.59.51 0 1.02-.2 1.41-.59l7.78-7.78 2.81-2.81c.8-.78.8-2.07 0-2.86zM5.41 20L4 18.59l7.72-7.72 1.47 1.35L5.41 20z\"/>\n",
              "  </svg>\n",
              "      </button>\n",
              "      \n",
              "  <style>\n",
              "    .colab-df-container {\n",
              "      display:flex;\n",
              "      flex-wrap:wrap;\n",
              "      gap: 12px;\n",
              "    }\n",
              "\n",
              "    .colab-df-convert {\n",
              "      background-color: #E8F0FE;\n",
              "      border: none;\n",
              "      border-radius: 50%;\n",
              "      cursor: pointer;\n",
              "      display: none;\n",
              "      fill: #1967D2;\n",
              "      height: 32px;\n",
              "      padding: 0 0 0 0;\n",
              "      width: 32px;\n",
              "    }\n",
              "\n",
              "    .colab-df-convert:hover {\n",
              "      background-color: #E2EBFA;\n",
              "      box-shadow: 0px 1px 2px rgba(60, 64, 67, 0.3), 0px 1px 3px 1px rgba(60, 64, 67, 0.15);\n",
              "      fill: #174EA6;\n",
              "    }\n",
              "\n",
              "    [theme=dark] .colab-df-convert {\n",
              "      background-color: #3B4455;\n",
              "      fill: #D2E3FC;\n",
              "    }\n",
              "\n",
              "    [theme=dark] .colab-df-convert:hover {\n",
              "      background-color: #434B5C;\n",
              "      box-shadow: 0px 1px 3px 1px rgba(0, 0, 0, 0.15);\n",
              "      filter: drop-shadow(0px 1px 2px rgba(0, 0, 0, 0.3));\n",
              "      fill: #FFFFFF;\n",
              "    }\n",
              "  </style>\n",
              "\n",
              "      <script>\n",
              "        const buttonEl =\n",
              "          document.querySelector('#df-33cc2cc9-851a-4fd5-a6ed-8ae054a21f26 button.colab-df-convert');\n",
              "        buttonEl.style.display =\n",
              "          google.colab.kernel.accessAllowed ? 'block' : 'none';\n",
              "\n",
              "        async function convertToInteractive(key) {\n",
              "          const element = document.querySelector('#df-33cc2cc9-851a-4fd5-a6ed-8ae054a21f26');\n",
              "          const dataTable =\n",
              "            await google.colab.kernel.invokeFunction('convertToInteractive',\n",
              "                                                     [key], {});\n",
              "          if (!dataTable) return;\n",
              "\n",
              "          const docLinkHtml = 'Like what you see? Visit the ' +\n",
              "            '<a target=\"_blank\" href=https://colab.research.google.com/notebooks/data_table.ipynb>data table notebook</a>'\n",
              "            + ' to learn more about interactive tables.';\n",
              "          element.innerHTML = '';\n",
              "          dataTable['output_type'] = 'display_data';\n",
              "          await google.colab.output.renderOutput(dataTable, element);\n",
              "          const docLink = document.createElement('div');\n",
              "          docLink.innerHTML = docLinkHtml;\n",
              "          element.appendChild(docLink);\n",
              "        }\n",
              "      </script>\n",
              "    </div>\n",
              "  </div>\n",
              "  "
            ],
            "text/plain": [
              "           count        mean        std    min    25%    50%    75%    max\n",
              "LBE       2126.0  133.303857   9.840844  106.0  126.0  133.0  140.0  160.0\n",
              "AC        2126.0    2.722484   3.560850    0.0    0.0    1.0    4.0   26.0\n",
              "FM        2126.0    7.241298  37.125309    0.0    0.0    0.0    2.0  564.0\n",
              "UC        2126.0    3.659925   2.847094    0.0    1.0    3.0    5.0   23.0\n",
              "ASTV      2126.0   46.990122  17.192814   12.0   32.0   49.0   61.0   87.0\n",
              "MSTV      2126.0    1.332785   0.883241    0.2    0.7    1.2    1.7    7.0\n",
              "ALTV      2126.0    9.846660  18.396880    0.0    0.0    0.0   11.0   91.0\n",
              "MLTV      2126.0    8.187629   5.628247    0.0    4.6    7.4   10.8   50.7\n",
              "DL        2126.0    1.570085   2.499229    0.0    0.0    0.0    3.0   16.0\n",
              "DS        2126.0    0.003293   0.057300    0.0    0.0    0.0    0.0    1.0\n",
              "DP        2126.0    0.126058   0.464361    0.0    0.0    0.0    0.0    4.0\n",
              "Width     2126.0   70.445908  38.955693    3.0   37.0   67.5  100.0  180.0\n",
              "Min       2126.0   93.579492  29.560212   50.0   67.0   93.0  120.0  159.0\n",
              "Max       2126.0  164.025400  17.944183  122.0  152.0  162.0  174.0  238.0\n",
              "Nmax      2126.0    4.068203   2.949386    0.0    2.0    3.0    6.0   18.0\n",
              "Nzeros    2126.0    0.323612   0.706059    0.0    0.0    0.0    0.0   10.0\n",
              "Mode      2126.0  137.452023  16.381289   60.0  129.0  139.0  148.0  187.0\n",
              "Mean      2126.0  134.610536  15.593596   73.0  125.0  136.0  145.0  182.0\n",
              "Median    2126.0  138.090310  14.466589   77.0  129.0  139.0  148.0  186.0\n",
              "Variance  2126.0   18.808090  28.977636    0.0    2.0    7.0   24.0  269.0\n",
              "Tendency  2126.0    0.320320   0.610829   -1.0    0.0    0.0    1.0    1.0\n",
              "Target    2126.0    0.221543   0.415383    0.0    0.0    0.0    0.0    1.0"
            ]
          },
          "execution_count": 27,
          "metadata": {},
          "output_type": "execute_result"
        }
      ],
      "source": [
        "#Principales estadisticas descriptivas del dataset\n",
        "df.describe().T"
      ]
    },
    {
      "cell_type": "code",
      "execution_count": null,
      "metadata": {
        "colab": {
          "base_uri": "https://localhost:8080/",
          "height": 739
        },
        "id": "jYqU68xlanPn",
        "outputId": "b57f9df0-cde9-487c-d440-911110eae501"
      },
      "outputs": [
        {
          "data": {
            "text/html": [
              "\n",
              "  <div id=\"df-0b2cebf0-30ec-449d-ba4a-9f5c1f154ea3\">\n",
              "    <div class=\"colab-df-container\">\n",
              "      <div>\n",
              "<style scoped>\n",
              "    .dataframe tbody tr th:only-of-type {\n",
              "        vertical-align: middle;\n",
              "    }\n",
              "\n",
              "    .dataframe tbody tr th {\n",
              "        vertical-align: top;\n",
              "    }\n",
              "\n",
              "    .dataframe thead th {\n",
              "        text-align: right;\n",
              "    }\n",
              "</style>\n",
              "<table border=\"1\" class=\"dataframe\">\n",
              "  <thead>\n",
              "    <tr style=\"text-align: right;\">\n",
              "      <th></th>\n",
              "      <th>Missing</th>\n",
              "    </tr>\n",
              "  </thead>\n",
              "  <tbody>\n",
              "    <tr>\n",
              "      <th>LBE</th>\n",
              "      <td>0</td>\n",
              "    </tr>\n",
              "    <tr>\n",
              "      <th>AC</th>\n",
              "      <td>0</td>\n",
              "    </tr>\n",
              "    <tr>\n",
              "      <th>FM</th>\n",
              "      <td>0</td>\n",
              "    </tr>\n",
              "    <tr>\n",
              "      <th>UC</th>\n",
              "      <td>0</td>\n",
              "    </tr>\n",
              "    <tr>\n",
              "      <th>ASTV</th>\n",
              "      <td>0</td>\n",
              "    </tr>\n",
              "    <tr>\n",
              "      <th>MSTV</th>\n",
              "      <td>0</td>\n",
              "    </tr>\n",
              "    <tr>\n",
              "      <th>ALTV</th>\n",
              "      <td>0</td>\n",
              "    </tr>\n",
              "    <tr>\n",
              "      <th>MLTV</th>\n",
              "      <td>0</td>\n",
              "    </tr>\n",
              "    <tr>\n",
              "      <th>DL</th>\n",
              "      <td>0</td>\n",
              "    </tr>\n",
              "    <tr>\n",
              "      <th>DS</th>\n",
              "      <td>0</td>\n",
              "    </tr>\n",
              "    <tr>\n",
              "      <th>DP</th>\n",
              "      <td>0</td>\n",
              "    </tr>\n",
              "    <tr>\n",
              "      <th>Width</th>\n",
              "      <td>0</td>\n",
              "    </tr>\n",
              "    <tr>\n",
              "      <th>Min</th>\n",
              "      <td>0</td>\n",
              "    </tr>\n",
              "    <tr>\n",
              "      <th>Max</th>\n",
              "      <td>0</td>\n",
              "    </tr>\n",
              "    <tr>\n",
              "      <th>Nmax</th>\n",
              "      <td>0</td>\n",
              "    </tr>\n",
              "    <tr>\n",
              "      <th>Nzeros</th>\n",
              "      <td>0</td>\n",
              "    </tr>\n",
              "    <tr>\n",
              "      <th>Mode</th>\n",
              "      <td>0</td>\n",
              "    </tr>\n",
              "    <tr>\n",
              "      <th>Mean</th>\n",
              "      <td>0</td>\n",
              "    </tr>\n",
              "    <tr>\n",
              "      <th>Median</th>\n",
              "      <td>0</td>\n",
              "    </tr>\n",
              "    <tr>\n",
              "      <th>Variance</th>\n",
              "      <td>0</td>\n",
              "    </tr>\n",
              "    <tr>\n",
              "      <th>Tendency</th>\n",
              "      <td>0</td>\n",
              "    </tr>\n",
              "    <tr>\n",
              "      <th>Target</th>\n",
              "      <td>0</td>\n",
              "    </tr>\n",
              "  </tbody>\n",
              "</table>\n",
              "</div>\n",
              "      <button class=\"colab-df-convert\" onclick=\"convertToInteractive('df-0b2cebf0-30ec-449d-ba4a-9f5c1f154ea3')\"\n",
              "              title=\"Convert this dataframe to an interactive table.\"\n",
              "              style=\"display:none;\">\n",
              "        \n",
              "  <svg xmlns=\"http://www.w3.org/2000/svg\" height=\"24px\"viewBox=\"0 0 24 24\"\n",
              "       width=\"24px\">\n",
              "    <path d=\"M0 0h24v24H0V0z\" fill=\"none\"/>\n",
              "    <path d=\"M18.56 5.44l.94 2.06.94-2.06 2.06-.94-2.06-.94-.94-2.06-.94 2.06-2.06.94zm-11 1L8.5 8.5l.94-2.06 2.06-.94-2.06-.94L8.5 2.5l-.94 2.06-2.06.94zm10 10l.94 2.06.94-2.06 2.06-.94-2.06-.94-.94-2.06-.94 2.06-2.06.94z\"/><path d=\"M17.41 7.96l-1.37-1.37c-.4-.4-.92-.59-1.43-.59-.52 0-1.04.2-1.43.59L10.3 9.45l-7.72 7.72c-.78.78-.78 2.05 0 2.83L4 21.41c.39.39.9.59 1.41.59.51 0 1.02-.2 1.41-.59l7.78-7.78 2.81-2.81c.8-.78.8-2.07 0-2.86zM5.41 20L4 18.59l7.72-7.72 1.47 1.35L5.41 20z\"/>\n",
              "  </svg>\n",
              "      </button>\n",
              "      \n",
              "  <style>\n",
              "    .colab-df-container {\n",
              "      display:flex;\n",
              "      flex-wrap:wrap;\n",
              "      gap: 12px;\n",
              "    }\n",
              "\n",
              "    .colab-df-convert {\n",
              "      background-color: #E8F0FE;\n",
              "      border: none;\n",
              "      border-radius: 50%;\n",
              "      cursor: pointer;\n",
              "      display: none;\n",
              "      fill: #1967D2;\n",
              "      height: 32px;\n",
              "      padding: 0 0 0 0;\n",
              "      width: 32px;\n",
              "    }\n",
              "\n",
              "    .colab-df-convert:hover {\n",
              "      background-color: #E2EBFA;\n",
              "      box-shadow: 0px 1px 2px rgba(60, 64, 67, 0.3), 0px 1px 3px 1px rgba(60, 64, 67, 0.15);\n",
              "      fill: #174EA6;\n",
              "    }\n",
              "\n",
              "    [theme=dark] .colab-df-convert {\n",
              "      background-color: #3B4455;\n",
              "      fill: #D2E3FC;\n",
              "    }\n",
              "\n",
              "    [theme=dark] .colab-df-convert:hover {\n",
              "      background-color: #434B5C;\n",
              "      box-shadow: 0px 1px 3px 1px rgba(0, 0, 0, 0.15);\n",
              "      filter: drop-shadow(0px 1px 2px rgba(0, 0, 0, 0.3));\n",
              "      fill: #FFFFFF;\n",
              "    }\n",
              "  </style>\n",
              "\n",
              "      <script>\n",
              "        const buttonEl =\n",
              "          document.querySelector('#df-0b2cebf0-30ec-449d-ba4a-9f5c1f154ea3 button.colab-df-convert');\n",
              "        buttonEl.style.display =\n",
              "          google.colab.kernel.accessAllowed ? 'block' : 'none';\n",
              "\n",
              "        async function convertToInteractive(key) {\n",
              "          const element = document.querySelector('#df-0b2cebf0-30ec-449d-ba4a-9f5c1f154ea3');\n",
              "          const dataTable =\n",
              "            await google.colab.kernel.invokeFunction('convertToInteractive',\n",
              "                                                     [key], {});\n",
              "          if (!dataTable) return;\n",
              "\n",
              "          const docLinkHtml = 'Like what you see? Visit the ' +\n",
              "            '<a target=\"_blank\" href=https://colab.research.google.com/notebooks/data_table.ipynb>data table notebook</a>'\n",
              "            + ' to learn more about interactive tables.';\n",
              "          element.innerHTML = '';\n",
              "          dataTable['output_type'] = 'display_data';\n",
              "          await google.colab.output.renderOutput(dataTable, element);\n",
              "          const docLink = document.createElement('div');\n",
              "          docLink.innerHTML = docLinkHtml;\n",
              "          element.appendChild(docLink);\n",
              "        }\n",
              "      </script>\n",
              "    </div>\n",
              "  </div>\n",
              "  "
            ],
            "text/plain": [
              "          Missing\n",
              "LBE             0\n",
              "AC              0\n",
              "FM              0\n",
              "UC              0\n",
              "ASTV            0\n",
              "MSTV            0\n",
              "ALTV            0\n",
              "MLTV            0\n",
              "DL              0\n",
              "DS              0\n",
              "DP              0\n",
              "Width           0\n",
              "Min             0\n",
              "Max             0\n",
              "Nmax            0\n",
              "Nzeros          0\n",
              "Mode            0\n",
              "Mean            0\n",
              "Median          0\n",
              "Variance        0\n",
              "Tendency        0\n",
              "Target          0"
            ]
          },
          "execution_count": 28,
          "metadata": {},
          "output_type": "execute_result"
        }
      ],
      "source": [
        "#Revisar si existen missing values o valores perdidos\n",
        "df.isnull().sum().to_frame(\"Missing\")"
      ]
    },
    {
      "cell_type": "markdown",
      "metadata": {
        "id": "Pu9ZnxwQaSiG"
      },
      "source": [
        "Observamos que contamos con 2 variables cuantitativas continuas y las demas son son cuantitativas discretas 20 variables ya que 4 fueron eliminadas por no aportan valor para un total de 26 variables en el dataset.\n",
        "\n"
      ]
    },
    {
      "cell_type": "code",
      "execution_count": null,
      "metadata": {
        "cellView": "form",
        "colab": {
          "base_uri": "https://localhost:8080/"
        },
        "id": "hVVNmunuazXY",
        "outputId": "79b82fa0-cb43-4785-b09d-74831f992b43"
      },
      "outputs": [
        {
          "name": "stdout",
          "output_type": "stream",
          "text": [
            "Variables Cuantitativas continuas(Float64) ['MSTV', 'MLTV']\n",
            "Variables Cuantitativas Discretas (Int64) ['LBE', 'AC', 'FM', 'UC', 'ASTV', 'ALTV', 'DL', 'DS', 'DP', 'Width', 'Min', 'Max', 'Nmax', 'Nzeros', 'Mode', 'Mean', 'Median', 'Variance', 'Tendency', 'Target']\n"
          ]
        }
      ],
      "source": [
        "#@title\n",
        "#Cuantitativas continuas\n",
        "\n",
        "c = df.select_dtypes(include=['float64']).columns.to_list()\n",
        "d = df.select_dtypes(include=['int64']).columns.to_list()\n",
        "\n",
        "print(f'Variables Cuantitativas continuas(Float64) { c }')\n",
        "\n",
        "print(f'Variables Cuantitativas Discretas (Int64) { d }')\n"
      ]
    },
    {
      "cell_type": "markdown",
      "metadata": {
        "id": "DYFCejqDgCwH"
      },
      "source": [
        "Observamos que contamos con 1,655 pacientes o casos normales para un 78 % y 471 casos anormales para un 22%, la data esta desbalanceada respecto a la variable objetivo, por lo que seria recomedable utilizar la tenica de muestreo de validacion cruzada."
      ]
    },
    {
      "cell_type": "code",
      "execution_count": null,
      "metadata": {
        "cellView": "form",
        "colab": {
          "base_uri": "https://localhost:8080/",
          "height": 466
        },
        "id": "yOwDZQErhqmN",
        "outputId": "04986911-3371-42d8-df69-286ff94c3463"
      },
      "outputs": [
        {
          "name": "stdout",
          "output_type": "stream",
          "text": [
            "0    1655\n",
            "1     471\n",
            "Name: Target, dtype: int64\n"
          ]
        },
        {
          "data": {
            "image/png": "[encoded data removed]",
            "text/plain": [
              "<Figure size 1080x720 with 1 Axes>"
            ]
          },
          "metadata": {},
          "output_type": "display_data"
        }
      ],
      "source": [
        "#@title\n",
        "#Distribucion o frecuencia de la variable repuesta\n",
        "\n",
        "a, b = df['Target'].value_counts()\n",
        "plt.figure(figsize = (15,10))\n",
        "plt.subplot(121)\n",
        "plt.pie([a, b], labels=[\"Normal\", \"Anormal\"], autopct=\"%1.0f%%\")\n",
        "print(df[\"Target\"].value_counts())"
      ]
    },
    {
      "cell_type": "markdown",
      "metadata": {
        "id": "NTm8EyOcpRn8"
      },
      "source": [
        "1. (FM) Observamos una media del 7.24 con una desviacion de 37.1 cuando su valor minimos es 0 y su maximo es 564, la mitad de sus datos estan entre 0 y 2 esto nos indica posibles outliers.\n",
        "\n",
        "2. (ALTV) Observmos una media de 9.8 con una desviacion de 18.4 cuando su valor minimo es 0 y su maximo 91, la mitad de sus datos esta entre 0 y 11 esto nos indica posibles outliers.\n",
        "\n",
        "3. (Median) Observamos una media de 138 con una desviacion de 17.5 cuando su minimo es 77 y su maximo es 186, la mitad de sus datos oscilan entre 129 y 148 con una mediana de 139 nos indica buena distribucion de los datos. ya que la media y la mediana son casi similar."
      ]
    },
    {
      "cell_type": "code",
      "execution_count": null,
      "metadata": {
        "cellView": "form",
        "colab": {
          "base_uri": "https://localhost:8080/",
          "height": 143
        },
        "id": "VKerxOyRpVDN",
        "outputId": "8c1d9a72-4184-4f12-b665-d85380a94adc"
      },
      "outputs": [
        {
          "data": {
            "text/html": [
              "\n",
              "  <div id=\"df-72cb521f-6e2d-4018-baa5-2ff3e00fdcd8\">\n",
              "    <div class=\"colab-df-container\">\n",
              "      <div>\n",
              "<style scoped>\n",
              "    .dataframe tbody tr th:only-of-type {\n",
              "        vertical-align: middle;\n",
              "    }\n",
              "\n",
              "    .dataframe tbody tr th {\n",
              "        vertical-align: top;\n",
              "    }\n",
              "\n",
              "    .dataframe thead th {\n",
              "        text-align: right;\n",
              "    }\n",
              "</style>\n",
              "<table border=\"1\" class=\"dataframe\">\n",
              "  <thead>\n",
              "    <tr style=\"text-align: right;\">\n",
              "      <th></th>\n",
              "      <th>count</th>\n",
              "      <th>mean</th>\n",
              "      <th>std</th>\n",
              "      <th>min</th>\n",
              "      <th>25%</th>\n",
              "      <th>50%</th>\n",
              "      <th>75%</th>\n",
              "      <th>max</th>\n",
              "    </tr>\n",
              "  </thead>\n",
              "  <tbody>\n",
              "    <tr>\n",
              "      <th>FM</th>\n",
              "      <td>2126.0</td>\n",
              "      <td>7.241298</td>\n",
              "      <td>37.125309</td>\n",
              "      <td>0.0</td>\n",
              "      <td>0.0</td>\n",
              "      <td>0.0</td>\n",
              "      <td>2.0</td>\n",
              "      <td>564.0</td>\n",
              "    </tr>\n",
              "    <tr>\n",
              "      <th>ALTV</th>\n",
              "      <td>2126.0</td>\n",
              "      <td>9.846660</td>\n",
              "      <td>18.396880</td>\n",
              "      <td>0.0</td>\n",
              "      <td>0.0</td>\n",
              "      <td>0.0</td>\n",
              "      <td>11.0</td>\n",
              "      <td>91.0</td>\n",
              "    </tr>\n",
              "    <tr>\n",
              "      <th>Median</th>\n",
              "      <td>2126.0</td>\n",
              "      <td>138.090310</td>\n",
              "      <td>14.466589</td>\n",
              "      <td>77.0</td>\n",
              "      <td>129.0</td>\n",
              "      <td>139.0</td>\n",
              "      <td>148.0</td>\n",
              "      <td>186.0</td>\n",
              "    </tr>\n",
              "  </tbody>\n",
              "</table>\n",
              "</div>\n",
              "      <button class=\"colab-df-convert\" onclick=\"convertToInteractive('df-72cb521f-6e2d-4018-baa5-2ff3e00fdcd8')\"\n",
              "              title=\"Convert this dataframe to an interactive table.\"\n",
              "              style=\"display:none;\">\n",
              "        \n",
              "  <svg xmlns=\"http://www.w3.org/2000/svg\" height=\"24px\"viewBox=\"0 0 24 24\"\n",
              "       width=\"24px\">\n",
              "    <path d=\"M0 0h24v24H0V0z\" fill=\"none\"/>\n",
              "    <path d=\"M18.56 5.44l.94 2.06.94-2.06 2.06-.94-2.06-.94-.94-2.06-.94 2.06-2.06.94zm-11 1L8.5 8.5l.94-2.06 2.06-.94-2.06-.94L8.5 2.5l-.94 2.06-2.06.94zm10 10l.94 2.06.94-2.06 2.06-.94-2.06-.94-.94-2.06-.94 2.06-2.06.94z\"/><path d=\"M17.41 7.96l-1.37-1.37c-.4-.4-.92-.59-1.43-.59-.52 0-1.04.2-1.43.59L10.3 9.45l-7.72 7.72c-.78.78-.78 2.05 0 2.83L4 21.41c.39.39.9.59 1.41.59.51 0 1.02-.2 1.41-.59l7.78-7.78 2.81-2.81c.8-.78.8-2.07 0-2.86zM5.41 20L4 18.59l7.72-7.72 1.47 1.35L5.41 20z\"/>\n",
              "  </svg>\n",
              "      </button>\n",
              "      \n",
              "  <style>\n",
              "    .colab-df-container {\n",
              "      display:flex;\n",
              "      flex-wrap:wrap;\n",
              "      gap: 12px;\n",
              "    }\n",
              "\n",
              "    .colab-df-convert {\n",
              "      background-color: #E8F0FE;\n",
              "      border: none;\n",
              "      border-radius: 50%;\n",
              "      cursor: pointer;\n",
              "      display: none;\n",
              "      fill: #1967D2;\n",
              "      height: 32px;\n",
              "      padding: 0 0 0 0;\n",
              "      width: 32px;\n",
              "    }\n",
              "\n",
              "    .colab-df-convert:hover {\n",
              "      background-color: #E2EBFA;\n",
              "      box-shadow: 0px 1px 2px rgba(60, 64, 67, 0.3), 0px 1px 3px 1px rgba(60, 64, 67, 0.15);\n",
              "      fill: #174EA6;\n",
              "    }\n",
              "\n",
              "    [theme=dark] .colab-df-convert {\n",
              "      background-color: #3B4455;\n",
              "      fill: #D2E3FC;\n",
              "    }\n",
              "\n",
              "    [theme=dark] .colab-df-convert:hover {\n",
              "      background-color: #434B5C;\n",
              "      box-shadow: 0px 1px 3px 1px rgba(0, 0, 0, 0.15);\n",
              "      filter: drop-shadow(0px 1px 2px rgba(0, 0, 0, 0.3));\n",
              "      fill: #FFFFFF;\n",
              "    }\n",
              "  </style>\n",
              "\n",
              "      <script>\n",
              "        const buttonEl =\n",
              "          document.querySelector('#df-72cb521f-6e2d-4018-baa5-2ff3e00fdcd8 button.colab-df-convert');\n",
              "        buttonEl.style.display =\n",
              "          google.colab.kernel.accessAllowed ? 'block' : 'none';\n",
              "\n",
              "        async function convertToInteractive(key) {\n",
              "          const element = document.querySelector('#df-72cb521f-6e2d-4018-baa5-2ff3e00fdcd8');\n",
              "          const dataTable =\n",
              "            await google.colab.kernel.invokeFunction('convertToInteractive',\n",
              "                                                     [key], {});\n",
              "          if (!dataTable) return;\n",
              "\n",
              "          const docLinkHtml = 'Like what you see? Visit the ' +\n",
              "            '<a target=\"_blank\" href=https://colab.research.google.com/notebooks/data_table.ipynb>data table notebook</a>'\n",
              "            + ' to learn more about interactive tables.';\n",
              "          element.innerHTML = '';\n",
              "          dataTable['output_type'] = 'display_data';\n",
              "          await google.colab.output.renderOutput(dataTable, element);\n",
              "          const docLink = document.createElement('div');\n",
              "          docLink.innerHTML = docLinkHtml;\n",
              "          element.appendChild(docLink);\n",
              "        }\n",
              "      </script>\n",
              "    </div>\n",
              "  </div>\n",
              "  "
            ],
            "text/plain": [
              "         count        mean        std   min    25%    50%    75%    max\n",
              "FM      2126.0    7.241298  37.125309   0.0    0.0    0.0    2.0  564.0\n",
              "ALTV    2126.0    9.846660  18.396880   0.0    0.0    0.0   11.0   91.0\n",
              "Median  2126.0  138.090310  14.466589  77.0  129.0  139.0  148.0  186.0"
            ]
          },
          "execution_count": 31,
          "metadata": {},
          "output_type": "execute_result"
        }
      ],
      "source": [
        "#@title\n",
        "df[['FM', 'ALTV' , 'Median']].describe().T"
      ]
    },
    {
      "cell_type": "markdown",
      "metadata": {
        "id": "NoenlYUwp2Z4"
      },
      "source": [
        "### 4-***Obtenga el histograma para las variables: LBE, DS y Min.***"
      ]
    },
    {
      "cell_type": "code",
      "execution_count": null,
      "metadata": {
        "cellView": "form",
        "colab": {
          "base_uri": "https://localhost:8080/",
          "height": 373
        },
        "id": "rwwO63eJp5cG",
        "outputId": "23dfd1c0-f4c0-41d1-8eaa-a0b2a4a37189"
      },
      "outputs": [
        {
          "data": {
            "image/png": "[encoded data removed]",
            "text/plain": [
              "<Figure size 1080x360 with 3 Axes>"
            ]
          },
          "metadata": {
            "needs_background": "light"
          },
          "output_type": "display_data"
        }
      ],
      "source": [
        "#@title\n",
        "fig, axes = plt.subplots(nrows=1, ncols=3, figsize=(15, 5))\n",
        "axes = axes.flat\n",
        "columnas= ['LBE', 'DS' , 'Min']\n",
        "\n",
        "for i, colum in enumerate(columnas):\n",
        "    sns.histplot(\n",
        "        data    = df,\n",
        "        x       = colum,\n",
        "        stat    = \"count\",\n",
        "        kde     = True,\n",
        "        color   = (list(plt.rcParams['axes.prop_cycle'])*2)[i][\"color\"],\n",
        "        line_kws= {'linewidth': 2},\n",
        "        alpha   = 0.3,\n",
        "        ax      = axes[i]\n",
        "    )\n",
        "    axes[i].set_title(colum, fontsize = 10, fontweight = \"bold\")\n",
        "    axes[i].tick_params(labelsize = 10)\n",
        "    axes[i].set_xlabel(\"\")\n",
        "\n",
        "fig.tight_layout()\n",
        "plt.subplots_adjust(top = 0.9)\n",
        "fig.suptitle('Distribución variables', fontsize = 12, fontweight = \"bold\");"
      ]
    },
    {
      "cell_type": "markdown",
      "metadata": {
        "id": "ryOyjUnIrLtn"
      },
      "source": [
        "1. (AC) Observamos que la variable AC contiene outliers que van por encima de 11 cuando el 50% de sus datos se concentran entre 0 y 4 con una mediana 1.\n",
        "\n",
        "2. (ASTV) Observamos que esta variable no contiene aoutliers y la mitad de sus datos se concentran entre 32 y 61 con una mediana 49 con una buena distribucion ya que su minimo se posiciona alrrededor de 11 y su maximo 89.\n",
        "\n",
        "3. (Mean) Observamos que contienes outliers en ambos extremos sin emabrgo su distribucion es buena, solo se debe corregir estos valores extremos que afectan las mayorias de algoritmos."
      ]
    },
    {
      "cell_type": "code",
      "execution_count": null,
      "metadata": {
        "cellView": "form",
        "colab": {
          "base_uri": "https://localhost:8080/",
          "height": 373
        },
        "id": "RyZxfu_rrKhw",
        "outputId": "54a945c2-8b70-47eb-f126-30edb65c7b75"
      },
      "outputs": [
        {
          "data": {
            "image/png": "[encoded data removed]",
            "text/plain": [
              "<Figure size 1080x360 with 3 Axes>"
            ]
          },
          "metadata": {
            "needs_background": "light"
          },
          "output_type": "display_data"
        }
      ],
      "source": [
        "#@title\n",
        "fig, axes = plt.subplots(nrows=3, ncols=1, figsize=(15, 5))\n",
        "axes = axes.flat\n",
        "columnas_ = ['AC', 'ASTV' , 'Mean']\n",
        "\n",
        "for i, colum in enumerate(columnas_):\n",
        "    sns.boxplot(\n",
        "        data    = df,\n",
        "        x       = colum,\n",
        "        color   = (list(plt.rcParams['axes.prop_cycle'])*2)[i][\"color\"],\n",
        "        ax      = axes[i]\n",
        "    )\n",
        "    axes[i].set_title(colum, fontsize = 10, fontweight = \"bold\")\n",
        "    axes[i].tick_params(labelsize = 10)\n",
        "    axes[i].set_xlabel(\"\")\n",
        "\n",
        "\n",
        "\n",
        "fig.tight_layout()\n",
        "plt.subplots_adjust(top = 0.9)\n",
        "fig.suptitle('Distribucion e Identificacion de Outliers', fontsize = 12, fontweight = \"bold\");"
      ]
    },
    {
      "cell_type": "markdown",
      "metadata": {
        "id": "FqYVjfjiJ_Rq"
      },
      "source": [
        "#### **Matriz de Correlación**"
      ]
    },
    {
      "cell_type": "markdown",
      "metadata": {
        "id": "8Bz9SzPwbiyR"
      },
      "source": [
        "Observamos que las tres variables explicativas con mayor correlación con el target son:\n",
        "1. ASTV (Percentage of time with abnormal short-term variability)\n",
        "2. ALTV (Percentage of time with abnormal long-term variability)\n",
        "3. DP (Number of prolonged decelerations per second)\n",
        "\n",
        "Esto nos quiere decir que estas variables tendran un efecto significtivo a la hora del algorimo clasificar si es enfermo o no por encima de las demas.\n",
        "\n"
      ]
    },
    {
      "cell_type": "code",
      "execution_count": null,
      "metadata": {
        "cellView": "form",
        "colab": {
          "base_uri": "https://localhost:8080/",
          "height": 378
        },
        "id": "NM9ligrgRpED",
        "outputId": "4e2aeda9-bdcd-492a-d4e1-3a10fc625865"
      },
      "outputs": [
        {
          "data": {
            "image/png": "[encoded data removed]",
            "text/plain": [
              "<Figure size 648x432 with 2 Axes>"
            ]
          },
          "metadata": {
            "needs_background": "light"
          },
          "output_type": "display_data"
        }
      ],
      "source": [
        "#@title\n",
        "#Observamos el nivel de correlacion de todas las variables independientes con respectos 'price' la dependiente\n",
        "plt.figure(figsize = (9,6))\n",
        "sns.heatmap(df.corr()[['Target']].sort_values(by='Target', ascending=False), annot = True)\n",
        "plt.show()"
      ]
    },
    {
      "cell_type": "code",
      "execution_count": null,
      "metadata": {
        "colab": {
          "base_uri": "https://localhost:8080/",
          "height": 350
        },
        "id": "MWzXjRIXNVdF",
        "outputId": "176fa8c9-4978-4e0e-b0cc-74c12c7c961e"
      },
      "outputs": [
        {
          "data": {
            "image/png": "[encoded data removed]",
            "text/plain": [
              "<Figure size 1440x360 with 3 Axes>"
            ]
          },
          "metadata": {
            "needs_background": "light"
          },
          "output_type": "display_data"
        }
      ],
      "source": [
        "# 3 - RELACION UNIVARIANTE DEL TARGET CON LAS VARIABLES EXPLICATIVAS MAS SIGNIFICATIVAS\n",
        "f = plt.figure(figsize = (20,5))\n",
        "ax = f.add_subplot(131)\n",
        "sns.boxplot(x = 'Target', y= 'ASTV', data = df, palette=\"Blues\", ax=ax)\n",
        "ax.set_title('Baseline Fetal Heart Rate (FHR) for each status')\n",
        "\n",
        "ax = f.add_subplot(132)\n",
        "sns.boxplot(x = 'Target', y= 'ALTV', data = df, palette=\"Blues\", ax=ax)\n",
        "ax.set_title('Baseline Fetal Heart Rate (FHR) for each status')\n",
        "\n",
        "ax = f.add_subplot(133)\n",
        "sns.boxplot(x = 'Target', y= 'DP', data = df, palette=\"Blues\", ax=ax)\n",
        "ax.set_title('Baseline Fetal Heart Rate (FHR) for each status')\n",
        "\n",
        "plt.show()\n"
      ]
    },
    {
      "cell_type": "markdown",
      "metadata": {
        "id": "H1_NPk81QNCT"
      },
      "source": [
        "### **Fase de entrenamiento.**"
      ]
    },
    {
      "cell_type": "markdown",
      "metadata": {
        "id": "VHyQtKZjQdTD"
      },
      "source": [
        "**Muestreo**"
      ]
    },
    {
      "cell_type": "code",
      "execution_count": null,
      "metadata": {
        "id": "Zem9Bd9kQUNr"
      },
      "outputs": [],
      "source": [
        "#selecionamos nuestra variable dependiente y las independientes\n",
        "from sklearn.model_selection import train_test_split\n",
        "\n",
        "X = df.drop(\"Target\", axis = 1)\n",
        "y = df[\"Target\"]"
      ]
    },
    {
      "cell_type": "markdown",
      "metadata": {
        "id": "0Mjp_tqbcJBd"
      },
      "source": [
        "Dividimos nuestro dataset indicando que el 40% sea utilizado para la parte de prueba, lo que nos deja un dataset del 60% para entrenar el modelo y guardado con la seed 0 para que no cambien los datos del muestreo."
      ]
    },
    {
      "cell_type": "code",
      "execution_count": null,
      "metadata": {
        "id": "ghU0xqJhRJs-"
      },
      "outputs": [],
      "source": [
        "#Preparamos nuestro set de entrenamiento y prueba\n",
        "\n",
        "X_train, X_test, y_train, y_test = train_test_split(X, y, test_size = 0.40, random_state = 0)"
      ]
    },
    {
      "cell_type": "markdown",
      "metadata": {
        "id": "O3egAJS_cbJU"
      },
      "source": [
        "Hemos creado un modelo NB Gaussiano debido a que la mayoria de nuestros datos son de tipo cuantitativas continuas, de esta manera ajustamos nuestro modelo con el conjunto de entrenamiento y realizamos prediciones probabilisticas continua indicando la predicion (_prob) esto hace que el output sea continuo entre 0 y 1 a diferencia que sean 1 y 0."
      ]
    },
    {
      "cell_type": "markdown",
      "metadata": {
        "id": "67YVurPYTlCQ"
      },
      "source": [
        "**Modelización GNB**"
      ]
    },
    {
      "cell_type": "code",
      "execution_count": null,
      "metadata": {
        "id": "N4GQ3Fy8Tw4m"
      },
      "outputs": [],
      "source": [
        "#Importamos el modelo de la libreria sklearn\n",
        "from sklearn.naive_bayes import GaussianNB\n",
        "\n",
        "#Modelo GNB porque la mayorias de variables son de tipo continuas.\n",
        "GNB = GaussianNB()\n",
        "\n",
        "##Entrenamiento\n",
        "modelNB = GNB.fit(X_train, y_train.values.ravel())\n",
        "\n",
        "#Predicion de probablidad continua (_prob) de y_train con los datos usado en el entrenamiento\n",
        "y_pred_train = modelNB.predict_proba(X_train)\n",
        "#Predicion de probabilidad continua (_prob) de y_test con los datos de prueba\n",
        "y_pred_test = modelNB.predict_proba(X_test)"
      ]
    },
    {
      "cell_type": "markdown",
      "metadata": {
        "id": "Z80vUqrCVcto"
      },
      "source": [
        "### **Evaluación y análisis de los resultados.**"
      ]
    },
    {
      "cell_type": "code",
      "execution_count": null,
      "metadata": {
        "id": "CMafzyr4VrDm"
      },
      "outputs": [],
      "source": [
        "#Importamos las metricas de validacion ROC_AUC_SCORE, ROC_CURVE y  AUC\n",
        "\n",
        "from sklearn.metrics import roc_auc_score\n",
        "from sklearn.metrics import roc_curve, auc"
      ]
    },
    {
      "cell_type": "code",
      "execution_count": null,
      "metadata": {
        "id": "BZRCKIemXHQG"
      },
      "outputs": [],
      "source": [
        "# CURVA ROC Y AUC para Training\n",
        "fpr_train, tpr_train, _ = roc_curve(y_train, y_pred_train[:, 1])\n",
        "roc_auc_train = auc(fpr_train, tpr_train)"
      ]
    },
    {
      "cell_type": "code",
      "execution_count": null,
      "metadata": {
        "id": "JFhZU8BBXdu9"
      },
      "outputs": [],
      "source": [
        "# CURVA ROC Y AUC para Test\n",
        "fpr_test, tpr_test, _ = roc_curve(y_test, y_pred_test[:, 1])\n",
        "roc_auc_test = auc(fpr_test, tpr_test)"
      ]
    },
    {
      "cell_type": "markdown",
      "metadata": {
        "id": "jFTmQRehdAlI"
      },
      "source": [
        "Observamos como el modelo se ajusta bien ya que con el set de prueba el cual contiene los datos que el modelo no habia visto, tambien nos arroja resultados muy parecido al set de entrenamiento con un area del 93% en comparacion con el entrenamiento de 95% por lo que su precision es muy buena a la hora de clasificar a un nuevo paciente."
      ]
    },
    {
      "cell_type": "markdown",
      "metadata": {
        "id": "QC7c7ogGXmBH"
      },
      "source": [
        "**Gráfica**"
      ]
    },
    {
      "cell_type": "code",
      "execution_count": null,
      "metadata": {
        "cellView": "form",
        "colab": {
          "base_uri": "https://localhost:8080/",
          "height": 404
        },
        "id": "Qg6DesqPX0gT",
        "outputId": "43bfb5bb-7c11-45a6-fd53-03af0a0b0cca"
      },
      "outputs": [
        {
          "data": {
            "image/png": "[encoded data removed]",
            "text/plain": [
              "<Figure size 648x432 with 1 Axes>"
            ]
          },
          "metadata": {
            "needs_background": "light"
          },
          "output_type": "display_data"
        }
      ],
      "source": [
        "#@title\n",
        "plt.figure(figsize = (9,6))\n",
        "lw = 2\n",
        "\n",
        "plt.plot(fpr_train,tpr_train,color=\"darkgreen\",lw=lw,label=\"ROC curve GNB (area = %0.2f)\" % roc_auc_train,)\n",
        "plt.plot(fpr_test,tpr_test,color=\"darkred\",lw=lw,label=\"ROC curve GNB (area = %0.2f)\" % roc_auc_test,)\n",
        "\n",
        "plt.plot([0, 1], [0, 1], color=\"navy\", lw=lw, linestyle=\"--\")\n",
        "plt.xlim([0.0, 1.0])\n",
        "plt.ylim([0.0, 1.05])\n",
        "plt.xlabel(\"False Positive Rate\")\n",
        "plt.ylabel(\"True Positive Rate\")\n",
        "plt.title(\"ROC\")\n",
        "plt.legend(loc=\"lower right\")\n",
        "plt.show()\n"
      ]
    },
    {
      "cell_type": "markdown",
      "metadata": {
        "id": "_jMYAmEW-emx"
      },
      "source": [
        "**Modelización SVC**"
      ]
    },
    {
      "cell_type": "markdown",
      "metadata": {
        "id": "LkpI2K7yMVQn"
      },
      "source": [
        "Ya hemos realizado el Split de los datos por lo que ajustamos el modelo SVM.SVC con los paremetros por defecto C=1.0, kernel='rbf', degree=3, gamma='scale', coef0=0.0, shrinking=True, probability=False, tol=0.001, cache_size=200, class_weight=None, verbose=False, max_iter=-1, decision_function_shape='ovr', break_ties=False, random_state=None)"
      ]
    },
    {
      "cell_type": "code",
      "execution_count": null,
      "metadata": {
        "id": "B02MTC6O-mOs"
      },
      "outputs": [],
      "source": [
        "#Importamos el modelo de la libreria sklearn\n",
        "from sklearn.svm import SVC\n",
        "\n",
        "#Modelo SVC de la familia SVM para clasificacion solo con el cambio del parametro Prob a True para calculo binario.\n",
        "#este cambio es necesario para utilizar predict_prob.\n",
        "SV = SVC( probability = True)\n",
        "\n",
        "##Entrenamiento\n",
        "modelSVM = SV.fit(X_train, y_train)\n",
        "\n",
        "#Predicion de probablidad continua (_prob) de y_train con los datos usado en el entrenamiento\n",
        "y_pred_train_sv = modelSVM.predict_proba(X_train)\n",
        "#Predicion de probabilidad continua (_prob) de y_test con los datos de prueba\n",
        "y_pred_test_sv = modelSVM.predict_proba(X_test)"
      ]
    },
    {
      "cell_type": "markdown",
      "metadata": {
        "id": "p3Ex53UQEVlY"
      },
      "source": [
        "### **Evaluación de los modelos y análisis de los resultados.**"
      ]
    },
    {
      "cell_type": "code",
      "execution_count": null,
      "metadata": {
        "id": "hv1CmSO9EgLT"
      },
      "outputs": [],
      "source": [
        "#Importamos la metrica de validacion Accuracy, ya la demas ROC y AUC estan cargadas.\n",
        "from sklearn.metrics import accuracy_score"
      ]
    },
    {
      "cell_type": "markdown",
      "metadata": {
        "id": "S9kWTe1AOtzG"
      },
      "source": [
        "**2- Obtenga la curva ROC y el área bajo la curva para los conjuntos de entrenamiento y test.**\n",
        "\n",
        "Codificamos los calculos para obtener la curva Roc y el area bajo de la curva."
      ]
    },
    {
      "cell_type": "code",
      "execution_count": null,
      "metadata": {
        "id": "Z06UtMbTFXPM"
      },
      "outputs": [],
      "source": [
        "# CURVA ROC Y AUC para Training\n",
        "fpr_train_sv, tpr_train_sv, _ = roc_curve(y_train, y_pred_train_sv[:, 1])\n",
        "roc_auc_train_sv = auc(fpr_train_sv, tpr_train_sv)"
      ]
    },
    {
      "cell_type": "code",
      "execution_count": null,
      "metadata": {
        "id": "t5E34SjDFvNM"
      },
      "outputs": [],
      "source": [
        "# CURVA ROC Y AUC para Test\n",
        "fpr_test_sv, tpr_test_sv, _ = roc_curve(y_test, y_pred_test_sv[:, 1])\n",
        "roc_auc_test_sv = auc(fpr_test_sv, tpr_test_sv)"
      ]
    },
    {
      "cell_type": "markdown",
      "metadata": {
        "id": "E8vRASjTGCNy"
      },
      "source": [
        "#### **Gráficas Naive Bayes Vs Super Vector Machine Classification**"
      ]
    },
    {
      "cell_type": "markdown",
      "metadata": {
        "id": "sWoXrx9oPCon"
      },
      "source": [
        "Graficamos en un mismo plano los resultados de los dos modelos, donde observamos que ambos modelos se ajustan bien, sin embargo el GBN tiene un mejor ajuste y precision a este conjunto de datos por lo que este primer paso indica cual modelo selecionar para optimizar, no obtante en este caso entiendo que cualquiera de los dos seria una buena selecion, solo quedaria optimizar los hiperparametros, esto lo veremos para el proyecto final."
      ]
    },
    {
      "cell_type": "code",
      "execution_count": null,
      "metadata": {
        "cellView": "form",
        "colab": {
          "base_uri": "https://localhost:8080/",
          "height": 404
        },
        "id": "XAK-IBv6GNAn",
        "outputId": "80dff593-3e9d-4f59-e063-c1e5816d65c3"
      },
      "outputs": [
        {
          "data": {
            "image/png": "[encoded data removed]",
            "text/plain": [
              "<Figure size 648x432 with 1 Axes>"
            ]
          },
          "metadata": {
            "needs_background": "light"
          },
          "output_type": "display_data"
        }
      ],
      "source": [
        "#@title\n",
        "plt.figure(figsize = (9,6))\n",
        "lw = 2\n",
        "\n",
        "plt.plot(fpr_train_sv,tpr_train_sv,color=\"darkblue\",lw=lw,label=\"ROC_Train curve SVM (area = %0.2f)\" % roc_auc_train_sv,)\n",
        "plt.plot(fpr_test_sv,tpr_test_sv,color=\"yellow\",lw=lw,label=\"ROC_Test curve SVM (area = %0.2f)\" % roc_auc_test_sv,)\n",
        "plt.plot(fpr_train,tpr_train,color=\"darkgreen\",lw=lw,label=\"ROC_Train curve GNB (area = %0.2f)\" % roc_auc_train,)\n",
        "plt.plot(fpr_test,tpr_test,color=\"darkred\",lw=lw,label=\"ROC_Test curve GNB (area = %0.2f)\" % roc_auc_test,)\n",
        "\n",
        "plt.plot([0, 1], [0, 1], color=\"navy\", lw=lw, linestyle=\"--\")\n",
        "plt.xlim([0.0, 1.0])\n",
        "plt.ylim([0.0, 1.05])\n",
        "plt.xlabel(\"False Positive Rate\")\n",
        "plt.ylabel(\"True Positive Rate\")\n",
        "plt.title(\"ROC SVC Vs GNB\")\n",
        "plt.legend(loc=\"lower right\")\n",
        "plt.show()"
      ]
    },
    {
      "cell_type": "markdown",
      "metadata": {
        "id": "808NMs9bVGXX"
      },
      "source": [
        "####**Accuracy Score**"
      ]
    },
    {
      "cell_type": "code",
      "execution_count": null,
      "metadata": {
        "colab": {
          "base_uri": "https://localhost:8080/"
        },
        "id": "ZWLdbv08VPD0",
        "outputId": "eb8a5c44-44d2-49b9-dde7-15dcea844c01"
      },
      "outputs": [
        {
          "name": "stdout",
          "output_type": "stream",
          "text": [
            "El accuracy de training SVM es: 87.61%\n",
            "El accuracy de test SVM es: 86.02%\n"
          ]
        }
      ],
      "source": [
        "#@title\n",
        "#SVM Accuracy\n",
        "accuracy_sv1= accuracy_score(y_true = y_train,y_pred = modelSVM.predict(X_train)  ,normalize = True)\n",
        "print(f\"El accuracy de training SVM es: {100*accuracy_sv1:.2f}%\")\n",
        "\n",
        "accuracy_sv2 = accuracy_score(y_true = y_test,y_pred = modelSVM.predict(X_test) ,normalize = True)\n",
        "print(f\"El accuracy de test SVM es: {100*accuracy_sv2:.2f}%\")"
      ]
    },
    {
      "cell_type": "code",
      "execution_count": null,
      "metadata": {
        "cellView": "form",
        "colab": {
          "base_uri": "https://localhost:8080/"
        },
        "id": "q5_12BeuYYqc",
        "outputId": "8226b6e6-6452-424f-8da4-f9b32805fbe4"
      },
      "outputs": [
        {
          "name": "stdout",
          "output_type": "stream",
          "text": [
            "El accuracy de training GNB es: 88.71%\n",
            "El accuracy de test GNB es: 88.48%\n"
          ]
        }
      ],
      "source": [
        "#@title\n",
        "#GBN Accuracy\n",
        "accuracy_GBN1= accuracy_score(y_true = y_train, y_pred = modelNB.predict(X_train)  ,normalize = True)\n",
        "print(f\"El accuracy de training GNB es: {100*accuracy_GBN1:.2f}%\")\n",
        "\n",
        "accuracy_GBN2 = accuracy_score(y_true = y_test, y_pred = modelNB.predict(X_test) ,normalize = True)\n",
        "print(f\"El accuracy de test GNB es: {100*accuracy_GBN2:.2f}%\")"
      ]
    },
    {
      "cell_type": "markdown",
      "metadata": {
        "id": "oCfpOwkGVlPy"
      },
      "source": [
        "###**FASE FINAL**\n",
        "#### **Seleccion y Optimizcon de modelo SVM**"
      ]
    },
    {
      "cell_type": "markdown",
      "metadata": {
        "id": "NZ2CwtjjEro7"
      },
      "source": [
        "Luego de comparar los dos modelos GNB y SVC con sus parametros por defecto, escogemos el modelo SVC para optimzarlo y obtener la mejor optimacion posible."
      ]
    },
    {
      "cell_type": "code",
      "execution_count": null,
      "metadata": {
        "id": "pqKfXPTG9cdE"
      },
      "outputs": [],
      "source": [
        "#selecionamos nuestra variable dependiente y las independientes\n",
        "from sklearn.model_selection import train_test_split\n",
        "\n",
        "X = df.drop(\"Target\", axis = 1)\n",
        "y = df[\"Target\"]"
      ]
    },
    {
      "cell_type": "code",
      "execution_count": null,
      "metadata": {
        "id": "X9Dzgqul8S2D"
      },
      "outputs": [],
      "source": [
        "#Importamos la tecnica a utilizar para escalar la variable\n",
        "from sklearn.preprocessing import StandardScaler\n",
        "scaler = StandardScaler()\n",
        "\n",
        "#Pasamos la serie a un array de numpy ya que esta tecnica esta optimizada para trabajar con matrices\n",
        "y = scaler.fit_transform(y.to_numpy().reshape(-1,1))\n",
        "\n",
        "#Luego de escalar, volvemos a convertir el array  a su dimension original en 1xn\n",
        "y = y.reshape(1,-1)[0]"
      ]
    },
    {
      "cell_type": "code",
      "execution_count": null,
      "metadata": {
        "id": "EmbN7JuV9OwQ"
      },
      "outputs": [],
      "source": [
        "#Preparamos nuestro set de entrenamiento y prueba\n",
        "\n",
        "X_train, X_test, y_train, y_test = train_test_split(X, y.astype(int), test_size = 0.40, random_state = 0)"
      ]
    },
    {
      "cell_type": "code",
      "execution_count": null,
      "metadata": {
        "id": "RGXu_XAbWEZI"
      },
      "outputs": [],
      "source": [
        "#Importamos la libreria a utilizr para la optimizacion del modelo con los mejores parametros\n",
        "from sklearn.model_selection import GridSearchCV"
      ]
    },
    {
      "cell_type": "code",
      "execution_count": null,
      "metadata": {
        "id": "tZDFgER4WVxA"
      },
      "outputs": [],
      "source": [
        "# Hiperparametros\n",
        "#Creamos una lista de diccionarios para guardar los parametros de cada configuracion del modelo a utilizar para seleccionarlos que mejor se adecuen.\n",
        "param_grid = [\n",
        "    {\"kernel\": [\"rbf\"], \"gamma\": np.logspace(-9, 3, 13), \"C\": [0.001,0.01,0.02,0.03, 0.1, 1,2,3,4,5,6,7,8,9,10]},\n",
        "    {\"kernel\": [\"linear\"], \"C\": [0.001,0.01,0.02,0.03, 0.1, 1,2,3,4,5,6,7,8,9,10]},\n",
        "    {\"kernel\": [\"poly\"], \"C\": [0.001,0.01,0.02,0.03, 0.1, 1,2,3,4,5,6,7,8,9,10], \"degree\": [2,3]},]"
      ]
    },
    {
      "cell_type": "code",
      "execution_count": null,
      "metadata": {
        "id": "EdSAWF9DWfqE"
      },
      "outputs": [],
      "source": [
        "#Configuramos la regilla con los diferentes Kernel e hiperparametros con una validacion cruzada de 5 ciclos para obtener los mejores hiperparametros a traves del area de la curva.\n",
        "grid = GridSearchCV(\n",
        "        estimator  = SVC(),\n",
        "        param_grid = param_grid,\n",
        "        scoring    = 'roc_auc',\n",
        "        n_jobs     = -1,\n",
        "        cv         = 5,\n",
        "        verbose    = 0,\n",
        "        return_train_score = True\n",
        "      )"
      ]
    },
    {
      "cell_type": "code",
      "execution_count": null,
      "metadata": {
        "colab": {
          "base_uri": "https://localhost:8080/"
        },
        "id": "sM4V5GT1WxI8",
        "outputId": "3377887f-bcc5-45e6-abd3-006cbd95cea3"
      },
      "outputs": [
        {
          "data": {
            "text/plain": [
              "GridSearchCV(cv=5, estimator=SVC(), n_jobs=-1,\n",
              "             param_grid=[{'C': [0.001, 0.01, 0.02, 0.03, 0.1, 1, 2, 3, 4, 5, 6,\n",
              "                                7, 8, 9, 10],\n",
              "                          'gamma': array([1.e-09, 1.e-08, 1.e-07, 1.e-06, 1.e-05, 1.e-04, 1.e-03, 1.e-02,\n",
              "       1.e-01, 1.e+00, 1.e+01, 1.e+02, 1.e+03]),\n",
              "                          'kernel': ['rbf']},\n",
              "                         {'C': [0.001, 0.01, 0.02, 0.03, 0.1, 1, 2, 3, 4, 5, 6,\n",
              "                                7, 8, 9, 10],\n",
              "                          'kernel': ['linear']},\n",
              "                         {'C': [0.001, 0.01, 0.02, 0.03, 0.1, 1, 2, 3, 4, 5, 6,\n",
              "                                7, 8, 9, 10],\n",
              "                          'degree': [2, 3], 'kernel': ['poly']}],\n",
              "             return_train_score=True, scoring='roc_auc')"
            ]
          },
          "execution_count": 83,
          "metadata": {},
          "output_type": "execute_result"
        }
      ],
      "source": [
        "# Se asigna el resultado para que no se imprima por pantalla\n",
        "grid.fit(X = X_train, y = y_train)"
      ]
    },
    {
      "cell_type": "code",
      "execution_count": null,
      "metadata": {
        "colab": {
          "base_uri": "https://localhost:8080/",
          "height": 363
        },
        "id": "DQmpn_gTW-wB",
        "outputId": "2ac6ade0-f3e4-4804-9cde-f1bdda9e3a22"
      },
      "outputs": [
        {
          "data": {
            "text/html": [
              "\n",
              "  <div id=\"df-3be5bc77-e239-406d-8a3c-55c05e9f0197\">\n",
              "    <div class=\"colab-df-container\">\n",
              "      <div>\n",
              "<style scoped>\n",
              "    .dataframe tbody tr th:only-of-type {\n",
              "        vertical-align: middle;\n",
              "    }\n",
              "\n",
              "    .dataframe tbody tr th {\n",
              "        vertical-align: top;\n",
              "    }\n",
              "\n",
              "    .dataframe thead th {\n",
              "        text-align: right;\n",
              "    }\n",
              "</style>\n",
              "<table border=\"1\" class=\"dataframe\">\n",
              "  <thead>\n",
              "    <tr style=\"text-align: right;\">\n",
              "      <th></th>\n",
              "      <th>param_C</th>\n",
              "      <th>param_gamma</th>\n",
              "      <th>param_kernel</th>\n",
              "      <th>param_degree</th>\n",
              "      <th>mean_test_score</th>\n",
              "      <th>std_test_score</th>\n",
              "      <th>mean_train_score</th>\n",
              "      <th>std_train_score</th>\n",
              "    </tr>\n",
              "  </thead>\n",
              "  <tbody>\n",
              "    <tr>\n",
              "      <th>174</th>\n",
              "      <td>9</td>\n",
              "      <td>0.0001</td>\n",
              "      <td>rbf</td>\n",
              "      <td>NaN</td>\n",
              "      <td>0.966246</td>\n",
              "      <td>0.009178</td>\n",
              "      <td>0.981891</td>\n",
              "      <td>0.000912</td>\n",
              "    </tr>\n",
              "    <tr>\n",
              "      <th>187</th>\n",
              "      <td>10</td>\n",
              "      <td>0.0001</td>\n",
              "      <td>rbf</td>\n",
              "      <td>NaN</td>\n",
              "      <td>0.966194</td>\n",
              "      <td>0.009026</td>\n",
              "      <td>0.982547</td>\n",
              "      <td>0.001050</td>\n",
              "    </tr>\n",
              "    <tr>\n",
              "      <th>161</th>\n",
              "      <td>8</td>\n",
              "      <td>0.0001</td>\n",
              "      <td>rbf</td>\n",
              "      <td>NaN</td>\n",
              "      <td>0.965646</td>\n",
              "      <td>0.009618</td>\n",
              "      <td>0.981058</td>\n",
              "      <td>0.000960</td>\n",
              "    </tr>\n",
              "    <tr>\n",
              "      <th>148</th>\n",
              "      <td>7</td>\n",
              "      <td>0.0001</td>\n",
              "      <td>rbf</td>\n",
              "      <td>NaN</td>\n",
              "      <td>0.965356</td>\n",
              "      <td>0.010356</td>\n",
              "      <td>0.980361</td>\n",
              "      <td>0.001000</td>\n",
              "    </tr>\n",
              "    <tr>\n",
              "      <th>203</th>\n",
              "      <td>4</td>\n",
              "      <td>NaN</td>\n",
              "      <td>linear</td>\n",
              "      <td>NaN</td>\n",
              "      <td>0.964767</td>\n",
              "      <td>0.012448</td>\n",
              "      <td>0.971153</td>\n",
              "      <td>0.002084</td>\n",
              "    </tr>\n",
              "    <tr>\n",
              "      <th>135</th>\n",
              "      <td>6</td>\n",
              "      <td>0.0001</td>\n",
              "      <td>rbf</td>\n",
              "      <td>NaN</td>\n",
              "      <td>0.964755</td>\n",
              "      <td>0.011533</td>\n",
              "      <td>0.979236</td>\n",
              "      <td>0.001108</td>\n",
              "    </tr>\n",
              "    <tr>\n",
              "      <th>202</th>\n",
              "      <td>3</td>\n",
              "      <td>NaN</td>\n",
              "      <td>linear</td>\n",
              "      <td>NaN</td>\n",
              "      <td>0.964474</td>\n",
              "      <td>0.012954</td>\n",
              "      <td>0.971111</td>\n",
              "      <td>0.002021</td>\n",
              "    </tr>\n",
              "    <tr>\n",
              "      <th>122</th>\n",
              "      <td>5</td>\n",
              "      <td>0.0001</td>\n",
              "      <td>rbf</td>\n",
              "      <td>NaN</td>\n",
              "      <td>0.964391</td>\n",
              "      <td>0.012026</td>\n",
              "      <td>0.977623</td>\n",
              "      <td>0.001227</td>\n",
              "    </tr>\n",
              "    <tr>\n",
              "      <th>204</th>\n",
              "      <td>5</td>\n",
              "      <td>NaN</td>\n",
              "      <td>linear</td>\n",
              "      <td>NaN</td>\n",
              "      <td>0.964113</td>\n",
              "      <td>0.012281</td>\n",
              "      <td>0.971105</td>\n",
              "      <td>0.002046</td>\n",
              "    </tr>\n",
              "    <tr>\n",
              "      <th>201</th>\n",
              "      <td>2</td>\n",
              "      <td>NaN</td>\n",
              "      <td>linear</td>\n",
              "      <td>NaN</td>\n",
              "      <td>0.964055</td>\n",
              "      <td>0.013824</td>\n",
              "      <td>0.971048</td>\n",
              "      <td>0.001973</td>\n",
              "    </tr>\n",
              "  </tbody>\n",
              "</table>\n",
              "</div>\n",
              "      <button class=\"colab-df-convert\" onclick=\"convertToInteractive('df-3be5bc77-e239-406d-8a3c-55c05e9f0197')\"\n",
              "              title=\"Convert this dataframe to an interactive table.\"\n",
              "              style=\"display:none;\">\n",
              "        \n",
              "  <svg xmlns=\"http://www.w3.org/2000/svg\" height=\"24px\"viewBox=\"0 0 24 24\"\n",
              "       width=\"24px\">\n",
              "    <path d=\"M0 0h24v24H0V0z\" fill=\"none\"/>\n",
              "    <path d=\"M18.56 5.44l.94 2.06.94-2.06 2.06-.94-2.06-.94-.94-2.06-.94 2.06-2.06.94zm-11 1L8.5 8.5l.94-2.06 2.06-.94-2.06-.94L8.5 2.5l-.94 2.06-2.06.94zm10 10l.94 2.06.94-2.06 2.06-.94-2.06-.94-.94-2.06-.94 2.06-2.06.94z\"/><path d=\"M17.41 7.96l-1.37-1.37c-.4-.4-.92-.59-1.43-.59-.52 0-1.04.2-1.43.59L10.3 9.45l-7.72 7.72c-.78.78-.78 2.05 0 2.83L4 21.41c.39.39.9.59 1.41.59.51 0 1.02-.2 1.41-.59l7.78-7.78 2.81-2.81c.8-.78.8-2.07 0-2.86zM5.41 20L4 18.59l7.72-7.72 1.47 1.35L5.41 20z\"/>\n",
              "  </svg>\n",
              "      </button>\n",
              "      \n",
              "  <style>\n",
              "    .colab-df-container {\n",
              "      display:flex;\n",
              "      flex-wrap:wrap;\n",
              "      gap: 12px;\n",
              "    }\n",
              "\n",
              "    .colab-df-convert {\n",
              "      background-color: #E8F0FE;\n",
              "      border: none;\n",
              "      border-radius: 50%;\n",
              "      cursor: pointer;\n",
              "      display: none;\n",
              "      fill: #1967D2;\n",
              "      height: 32px;\n",
              "      padding: 0 0 0 0;\n",
              "      width: 32px;\n",
              "    }\n",
              "\n",
              "    .colab-df-convert:hover {\n",
              "      background-color: #E2EBFA;\n",
              "      box-shadow: 0px 1px 2px rgba(60, 64, 67, 0.3), 0px 1px 3px 1px rgba(60, 64, 67, 0.15);\n",
              "      fill: #174EA6;\n",
              "    }\n",
              "\n",
              "    [theme=dark] .colab-df-convert {\n",
              "      background-color: #3B4455;\n",
              "      fill: #D2E3FC;\n",
              "    }\n",
              "\n",
              "    [theme=dark] .colab-df-convert:hover {\n",
              "      background-color: #434B5C;\n",
              "      box-shadow: 0px 1px 3px 1px rgba(0, 0, 0, 0.15);\n",
              "      filter: drop-shadow(0px 1px 2px rgba(0, 0, 0, 0.3));\n",
              "      fill: #FFFFFF;\n",
              "    }\n",
              "  </style>\n",
              "\n",
              "      <script>\n",
              "        const buttonEl =\n",
              "          document.querySelector('#df-3be5bc77-e239-406d-8a3c-55c05e9f0197 button.colab-df-convert');\n",
              "        buttonEl.style.display =\n",
              "          google.colab.kernel.accessAllowed ? 'block' : 'none';\n",
              "\n",
              "        async function convertToInteractive(key) {\n",
              "          const element = document.querySelector('#df-3be5bc77-e239-406d-8a3c-55c05e9f0197');\n",
              "          const dataTable =\n",
              "            await google.colab.kernel.invokeFunction('convertToInteractive',\n",
              "                                                     [key], {});\n",
              "          if (!dataTable) return;\n",
              "\n",
              "          const docLinkHtml = 'Like what you see? Visit the ' +\n",
              "            '<a target=\"_blank\" href=https://colab.research.google.com/notebooks/data_table.ipynb>data table notebook</a>'\n",
              "            + ' to learn more about interactive tables.';\n",
              "          element.innerHTML = '';\n",
              "          dataTable['output_type'] = 'display_data';\n",
              "          await google.colab.output.renderOutput(dataTable, element);\n",
              "          const docLink = document.createElement('div');\n",
              "          docLink.innerHTML = docLinkHtml;\n",
              "          element.appendChild(docLink);\n",
              "        }\n",
              "      </script>\n",
              "    </div>\n",
              "  </div>\n",
              "  "
            ],
            "text/plain": [
              "    param_C param_gamma param_kernel param_degree  mean_test_score  \\\n",
              "174       9      0.0001          rbf          NaN         0.966246   \n",
              "187      10      0.0001          rbf          NaN         0.966194   \n",
              "161       8      0.0001          rbf          NaN         0.965646   \n",
              "148       7      0.0001          rbf          NaN         0.965356   \n",
              "203       4         NaN       linear          NaN         0.964767   \n",
              "135       6      0.0001          rbf          NaN         0.964755   \n",
              "202       3         NaN       linear          NaN         0.964474   \n",
              "122       5      0.0001          rbf          NaN         0.964391   \n",
              "204       5         NaN       linear          NaN         0.964113   \n",
              "201       2         NaN       linear          NaN         0.964055   \n",
              "\n",
              "     std_test_score  mean_train_score  std_train_score  \n",
              "174        0.009178          0.981891         0.000912  \n",
              "187        0.009026          0.982547         0.001050  \n",
              "161        0.009618          0.981058         0.000960  \n",
              "148        0.010356          0.980361         0.001000  \n",
              "203        0.012448          0.971153         0.002084  \n",
              "135        0.011533          0.979236         0.001108  \n",
              "202        0.012954          0.971111         0.002021  \n",
              "122        0.012026          0.977623         0.001227  \n",
              "204        0.012281          0.971105         0.002046  \n",
              "201        0.013824          0.971048         0.001973  "
            ]
          },
          "execution_count": 84,
          "metadata": {},
          "output_type": "execute_result"
        }
      ],
      "source": [
        "# Resultados del grid\n",
        "resultados = pd.DataFrame(grid.cv_results_)\n",
        "resultados.filter(regex = '(param.*|mean_t|std_t)')\\\n",
        "    .drop(columns = 'params')\\\n",
        "    .sort_values('mean_test_score', ascending = False) \\\n",
        "    .head(10)"
      ]
    },
    {
      "cell_type": "code",
      "execution_count": null,
      "metadata": {
        "colab": {
          "base_uri": "https://localhost:8080/"
        },
        "id": "VxGcV-boXLIB",
        "outputId": "6b7ac8d7-6d98-43f7-9fb2-f9a3497a9b80"
      },
      "outputs": [
        {
          "name": "stdout",
          "output_type": "stream",
          "text": [
            "{'C': 9, 'gamma': 0.0001, 'kernel': 'rbf'}\n",
            "SVC(C=9, gamma=0.0001)\n"
          ]
        }
      ],
      "source": [
        "# print best parameter luego de optimizar\n",
        "print(grid.best_params_)\n",
        "\n",
        "# print como se ve  nuestro modelo con los mejores hperparametros\n",
        "print(grid.best_estimator_)"
      ]
    },
    {
      "cell_type": "code",
      "execution_count": null,
      "metadata": {
        "id": "rTlAkdszX4ri"
      },
      "outputs": [],
      "source": [
        "#Modelo SVC de la familia SVM para clasificacion Optimizado con los hiperparametros que nos arrojo la regilla como la mejor configuracion ya nuevamente entrenamos el modelo y lo comparamos con el anterior.\n",
        "SV_tuning = SVC( C=9, gamma= 0.0001, probability = True)\n",
        "\n",
        "##Entrenamiento\n",
        "modelSVM_tuning = SV_tuning.fit(X_train, y_train)\n",
        "\n",
        "#Predicion de probablidad continua (_prob) de y_train con los datos usado en el entrenamiento\n",
        "y_pred_train_sv1 = modelSVM_tuning.predict_proba(X_train)\n",
        "#Predicion de probabilidad continua (_prob) de y_test con los datos de prueba\n",
        "y_pred_test_sv1 = modelSVM_tuning.predict_proba(X_test)"
      ]
    },
    {
      "cell_type": "code",
      "execution_count": null,
      "metadata": {
        "id": "MKhcbVXhY1Qc"
      },
      "outputs": [],
      "source": [
        "# CURVA ROC Y AUC para Training\n",
        "fpr_train_sv1, tpr_train_sv1, _ = roc_curve(y_train, y_pred_train_sv1[:, 1])\n",
        "roc_auc_train_sv1 = auc(fpr_train_sv1, tpr_train_sv1)"
      ]
    },
    {
      "cell_type": "code",
      "execution_count": null,
      "metadata": {
        "id": "aUWvx1Q4ZDOp"
      },
      "outputs": [],
      "source": [
        "# CURVA ROC Y AUC para Test\n",
        "fpr_test_sv1, tpr_test_sv1, _ = roc_curve(y_test, y_pred_test_sv1[:, 1])\n",
        "roc_auc_test_sv1 = auc(fpr_test_sv1, tpr_test_sv1)"
      ]
    },
    {
      "cell_type": "markdown",
      "metadata": {
        "id": "2Cbj7NXKGaUd"
      },
      "source": [
        "Observamos la comparacion de los dos modelos SVC y SVC1 el cual es el optimizado, y podemos ver que el mismo mejoro bastante en comparacion al primer modelo sin optimizar."
      ]
    },
    {
      "cell_type": "code",
      "execution_count": null,
      "metadata": {
        "cellView": "form",
        "colab": {
          "base_uri": "https://localhost:8080/",
          "height": 404
        },
        "id": "xHFfDfQcZO04",
        "outputId": "071b84de-5702-4155-c18e-6145bd62658f"
      },
      "outputs": [
        {
          "data": {
            "image/png": "[encoded data removed]",
            "text/plain": [
              "<Figure size 648x432 with 1 Axes>"
            ]
          },
          "metadata": {
            "needs_background": "light"
          },
          "output_type": "display_data"
        }
      ],
      "source": [
        "#@title\n",
        "plt.figure(figsize = (9,6))\n",
        "lw = 2\n",
        "\n",
        "plt.plot(fpr_train_sv,tpr_train_sv,color=\"darkblue\",lw=lw,label=\"ROC_Train curve SVM (area = %0.2f)\" % roc_auc_train_sv,)\n",
        "plt.plot(fpr_test_sv,tpr_test_sv,color=\"yellow\",lw=lw,label=\"ROC_Test curve SVM (area = %0.2f)\" % roc_auc_test_sv,)\n",
        "plt.plot(fpr_train_sv1,tpr_train_sv1,color=\"darkgreen\",lw=lw,label=\"ROC_Train curve SVM1 (area = %0.2f)\" % roc_auc_train_sv1,)\n",
        "plt.plot(fpr_test_sv1,tpr_test_sv1,color=\"darkred\",lw=lw,label=\"ROC_Test curve SVM1 (area = %0.2f)\" % roc_auc_test_sv1,)\n",
        "\n",
        "plt.plot([0, 1], [0, 1], color=\"navy\", lw=lw, linestyle=\"--\")\n",
        "plt.xlim([0.0, 1.0])\n",
        "plt.ylim([0.0, 1.05])\n",
        "plt.xlabel(\"False Positive Rate\")\n",
        "plt.ylabel(\"True Positive Rate\")\n",
        "plt.title(\"ROC SVC Vs SVC1\")\n",
        "plt.legend(loc=\"lower right\")\n",
        "plt.show()"
      ]
    },
    {
      "cell_type": "markdown",
      "metadata": {
        "id": "JS5Jqh00aO6K"
      },
      "source": [
        "####**Accuracy Score SVC Vs SVC1**"
      ]
    },
    {
      "cell_type": "code",
      "execution_count": null,
      "metadata": {
        "cellView": "form",
        "colab": {
          "base_uri": "https://localhost:8080/"
        },
        "id": "WZk7PCpNaMyZ",
        "outputId": "f313c7b4-e3df-4e73-de0c-2ee5282290f3"
      },
      "outputs": [
        {
          "name": "stdout",
          "output_type": "stream",
          "text": [
            "El accuracy de training SVM es: 87.61%\n",
            "El accuracy de test SVM es: 86.02%\n",
            "Predicción    0    1\n",
            "Real                \n",
            "0           630   26\n",
            "1            93  102\n",
            " \n",
            "El accuracy de training SVM1 es: 93.49%\n",
            "El accuracy de test SVM1 es: 92.71%\n",
            "Predicción    0    1\n",
            "Real                \n",
            "0           639   17\n",
            "1            45  150\n"
          ]
        }
      ],
      "source": [
        "#@title\n",
        "#SVM Accuracy\n",
        "accuracy_sv1= accuracy_score(y_true = y_train,y_pred = modelSVM.predict(X_train)  ,normalize = True)\n",
        "print(f\"El accuracy de training SVM es: {100*accuracy_sv1:.2f}%\")\n",
        "\n",
        "accuracy_sv2 = accuracy_score(y_true = y_test,y_pred = modelSVM.predict(X_test) ,normalize = True)\n",
        "print(f\"El accuracy de test SVM es: {100*accuracy_sv2:.2f}%\")\n",
        "\n",
        "confusion_matrix = pd.crosstab(\n",
        "    y_test,\n",
        "     modelSVM.predict(X_test),\n",
        "    rownames=['Real'],\n",
        "    colnames=['Predicción']\n",
        ")\n",
        "print(confusion_matrix)\n",
        "\n",
        "print(\" \")\n",
        "\n",
        "#SVM Accuracy\n",
        "accuracy_sv3= accuracy_score(y_true = y_train,y_pred = modelSVM_tuning.predict(X_train)  ,normalize = True)\n",
        "print(f\"El accuracy de training SVM1 es: {100*accuracy_sv3:.2f}%\")\n",
        "\n",
        "accuracy_sv4 = accuracy_score(y_true = y_test,y_pred = modelSVM_tuning.predict(X_test) ,normalize = True)\n",
        "print(f\"El accuracy de test SVM1 es: {100*accuracy_sv4:.2f}%\")\n",
        "\n",
        "confusion_matrix = pd.crosstab(\n",
        "    y_test,\n",
        "     modelSVM_tuning.predict(X_test),\n",
        "    rownames=['Real'],\n",
        "    colnames=['Predicción']\n",
        ")\n",
        "print(confusion_matrix)"
      ]
    }
  ],
  "metadata": {
    "colab": {
      "provenance": []
    },
    "kernelspec": {
      "display_name": "Python 3",
      "name": "python3"
    },
    "language_info": {
      "name": "python"
    }
  },
  "nbformat": 4,
  "nbformat_minor": 0
}