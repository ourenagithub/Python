{
  "nbformat": 4,
  "nbformat_minor": 0,
  "metadata": {
    "colab": {
      "provenance": []
    },
    "kernelspec": {
      "name": "python3",
      "display_name": "Python 3"
    },
    "language_info": {
      "name": "python"
    }
  },
  "cells": [
    {
      "cell_type": "markdown",
      "source": [
        "<img src=\"https://i0.wp.com/inversionisto.com/wp-content/uploads/2019/04/AC1B1546-A9B6-466E-93B0-FED2682AAD3A.jpeg?fit=1280%2C958&ssl=1\" style=\"float:right\" width=\"400\" >\n",
        "\n",
        "## **Modelo predictivo basado en regresión para estimar el precio de una vivienda**\n",
        "\n",
        "### Omar Urena"
      ],
      "metadata": {
        "id": "eht3pP_7OuCP"
      }
    },
    {
      "cell_type": "markdown",
      "source": [
        "### **Fase 1**: Importación del dataset."
      ],
      "metadata": {
        "id": "5uPebksWPQ59"
      }
    },
    {
      "cell_type": "markdown",
      "source": [
        "**Configuracion Drive y Descarga del conjunto de Datos**"
      ],
      "metadata": {
        "id": "Pq8d__mfQsA0"
      }
    },
    {
      "cell_type": "code",
      "execution_count": null,
      "metadata": {
        "id": "HOIWtfRmOkJq"
      },
      "outputs": [],
      "source": [
        "#Configuracion\n",
        "!pip install -U -q PyDrive\n",
        "from pydrive.auth import GoogleAuth\n",
        "from pydrive.drive import GoogleDrive\n",
        "from google.colab import auth\n",
        "from oauth2client.client import  GoogleCredentials\n",
        "\n",
        "#Autenticación  y creación del cliente PyDrive\n",
        "auth.authenticate_user()\n",
        "gauth = GoogleAuth()\n",
        "gauth.credentials = GoogleCredentials.get_application_default()\n",
        "drive = GoogleDrive(gauth)"
      ]
    },
    {
      "cell_type": "code",
      "source": [
        "#Crear variable con el link de donde esta almacenado el conjunto de datos\n",
        "link = 'https://drive.google.com/open?id=1tD-uZw1F99uQHWFA_ZluE4N4pIl4jzHg'\n",
        "\n",
        "#Cargar variable ID con el indendificador del documento en el link\n",
        "fluff, id = link.split('=')\n",
        "print(id)"
      ],
      "metadata": {
        "colab": {
          "base_uri": "https://localhost:8080/"
        },
        "id": "yCxrDb0FQx5k",
        "outputId": "3533f4de-ff84-4592-f4f2-270f40d59ba8"
      },
      "execution_count": null,
      "outputs": [
        {
          "output_type": "stream",
          "name": "stdout",
          "text": [
            "1tD-uZw1F99uQHWFA_ZluE4N4pIl4jzHg\n"
          ]
        }
      ]
    },
    {
      "cell_type": "code",
      "source": [
        "#Descargar el conjunto de datos del fichero en Drive\n",
        "downloaded = drive.CreateFile({'id':id})\n",
        "downloaded.GetContentFile('data.csv')"
      ],
      "metadata": {
        "id": "ouWEJ8qURPa7"
      },
      "execution_count": null,
      "outputs": []
    },
    {
      "cell_type": "markdown",
      "source": [
        "### **Fase 2**: Análisis exploratorio de los datos."
      ],
      "metadata": {
        "id": "t4Lj1qAbRfTA"
      }
    },
    {
      "cell_type": "markdown",
      "source": [
        "**Libreria**"
      ],
      "metadata": {
        "id": "P2m7zzR8RrmF"
      }
    },
    {
      "cell_type": "code",
      "source": [
        "#Analisis Exploratorio\n",
        "import pandas as pd"
      ],
      "metadata": {
        "id": "RvBh7i5URwRQ"
      },
      "execution_count": null,
      "outputs": []
    },
    {
      "cell_type": "code",
      "source": [
        "#Crear variable con el dataset\n",
        "house_prince = pd.read_csv(\"./data.csv\")"
      ],
      "metadata": {
        "id": "SL0UiBxdR3sx"
      },
      "execution_count": null,
      "outputs": []
    },
    {
      "cell_type": "code",
      "source": [
        "#Explorar Dataset: visualizamos las primera filas del conjunto de datos para familiarizarnos con las informaciones alamcenadas.\n",
        "house_prince.head()"
      ],
      "metadata": {
        "colab": {
          "base_uri": "https://localhost:8080/",
          "height": 461
        },
        "id": "l9zXhgmJSG66",
        "outputId": "707e0f98-0fd9-4df1-a8c4-527b8faa08bb"
      },
      "execution_count": null,
      "outputs": [
        {
          "output_type": "execute_result",
          "data": {
            "text/plain": [
              "                  date      price  bedrooms  bathrooms  sqft_living  sqft_lot  \\\n",
              "0  2014-05-02 00:00:00   313000.0       3.0       1.50         1340      7912   \n",
              "1  2014-05-02 00:00:00  2384000.0       5.0       2.50         3650      9050   \n",
              "2  2014-05-02 00:00:00   342000.0       3.0       2.00         1930     11947   \n",
              "3  2014-05-02 00:00:00   420000.0       3.0       2.25         2000      8030   \n",
              "4  2014-05-02 00:00:00   550000.0       4.0       2.50         1940     10500   \n",
              "\n",
              "   floors  waterfront  view  condition  sqft_above  sqft_basement  yr_built  \\\n",
              "0     1.5           0     0          3        1340              0      1955   \n",
              "1     2.0           0     4          5        3370            280      1921   \n",
              "2     1.0           0     0          4        1930              0      1966   \n",
              "3     1.0           0     0          4        1000           1000      1963   \n",
              "4     1.0           0     0          4        1140            800      1976   \n",
              "\n",
              "   yr_renovated                    street       city  statezip country  \n",
              "0          2005      18810 Densmore Ave N  Shoreline  WA 98133     USA  \n",
              "1             0           709 W Blaine St    Seattle  WA 98119     USA  \n",
              "2             0  26206-26214 143rd Ave SE       Kent  WA 98042     USA  \n",
              "3             0           857 170th Pl NE   Bellevue  WA 98008     USA  \n",
              "4          1992         9105 170th Ave NE    Redmond  WA 98052     USA  "
            ],
            "text/html": [
              "\n",
              "  <div id=\"df-0c965718-d166-4f2d-bd00-5310b9337859\">\n",
              "    <div class=\"colab-df-container\">\n",
              "      <div>\n",
              "<style scoped>\n",
              "    .dataframe tbody tr th:only-of-type {\n",
              "        vertical-align: middle;\n",
              "    }\n",
              "\n",
              "    .dataframe tbody tr th {\n",
              "        vertical-align: top;\n",
              "    }\n",
              "\n",
              "    .dataframe thead th {\n",
              "        text-align: right;\n",
              "    }\n",
              "</style>\n",
              "<table border=\"1\" class=\"dataframe\">\n",
              "  <thead>\n",
              "    <tr style=\"text-align: right;\">\n",
              "      <th></th>\n",
              "      <th>date</th>\n",
              "      <th>price</th>\n",
              "      <th>bedrooms</th>\n",
              "      <th>bathrooms</th>\n",
              "      <th>sqft_living</th>\n",
              "      <th>sqft_lot</th>\n",
              "      <th>floors</th>\n",
              "      <th>waterfront</th>\n",
              "      <th>view</th>\n",
              "      <th>condition</th>\n",
              "      <th>sqft_above</th>\n",
              "      <th>sqft_basement</th>\n",
              "      <th>yr_built</th>\n",
              "      <th>yr_renovated</th>\n",
              "      <th>street</th>\n",
              "      <th>city</th>\n",
              "      <th>statezip</th>\n",
              "      <th>country</th>\n",
              "    </tr>\n",
              "  </thead>\n",
              "  <tbody>\n",
              "    <tr>\n",
              "      <th>0</th>\n",
              "      <td>2014-05-02 00:00:00</td>\n",
              "      <td>313000.0</td>\n",
              "      <td>3.0</td>\n",
              "      <td>1.50</td>\n",
              "      <td>1340</td>\n",
              "      <td>7912</td>\n",
              "      <td>1.5</td>\n",
              "      <td>0</td>\n",
              "      <td>0</td>\n",
              "      <td>3</td>\n",
              "      <td>1340</td>\n",
              "      <td>0</td>\n",
              "      <td>1955</td>\n",
              "      <td>2005</td>\n",
              "      <td>18810 Densmore Ave N</td>\n",
              "      <td>Shoreline</td>\n",
              "      <td>WA 98133</td>\n",
              "      <td>USA</td>\n",
              "    </tr>\n",
              "    <tr>\n",
              "      <th>1</th>\n",
              "      <td>2014-05-02 00:00:00</td>\n",
              "      <td>2384000.0</td>\n",
              "      <td>5.0</td>\n",
              "      <td>2.50</td>\n",
              "      <td>3650</td>\n",
              "      <td>9050</td>\n",
              "      <td>2.0</td>\n",
              "      <td>0</td>\n",
              "      <td>4</td>\n",
              "      <td>5</td>\n",
              "      <td>3370</td>\n",
              "      <td>280</td>\n",
              "      <td>1921</td>\n",
              "      <td>0</td>\n",
              "      <td>709 W Blaine St</td>\n",
              "      <td>Seattle</td>\n",
              "      <td>WA 98119</td>\n",
              "      <td>USA</td>\n",
              "    </tr>\n",
              "    <tr>\n",
              "      <th>2</th>\n",
              "      <td>2014-05-02 00:00:00</td>\n",
              "      <td>342000.0</td>\n",
              "      <td>3.0</td>\n",
              "      <td>2.00</td>\n",
              "      <td>1930</td>\n",
              "      <td>11947</td>\n",
              "      <td>1.0</td>\n",
              "      <td>0</td>\n",
              "      <td>0</td>\n",
              "      <td>4</td>\n",
              "      <td>1930</td>\n",
              "      <td>0</td>\n",
              "      <td>1966</td>\n",
              "      <td>0</td>\n",
              "      <td>26206-26214 143rd Ave SE</td>\n",
              "      <td>Kent</td>\n",
              "      <td>WA 98042</td>\n",
              "      <td>USA</td>\n",
              "    </tr>\n",
              "    <tr>\n",
              "      <th>3</th>\n",
              "      <td>2014-05-02 00:00:00</td>\n",
              "      <td>420000.0</td>\n",
              "      <td>3.0</td>\n",
              "      <td>2.25</td>\n",
              "      <td>2000</td>\n",
              "      <td>8030</td>\n",
              "      <td>1.0</td>\n",
              "      <td>0</td>\n",
              "      <td>0</td>\n",
              "      <td>4</td>\n",
              "      <td>1000</td>\n",
              "      <td>1000</td>\n",
              "      <td>1963</td>\n",
              "      <td>0</td>\n",
              "      <td>857 170th Pl NE</td>\n",
              "      <td>Bellevue</td>\n",
              "      <td>WA 98008</td>\n",
              "      <td>USA</td>\n",
              "    </tr>\n",
              "    <tr>\n",
              "      <th>4</th>\n",
              "      <td>2014-05-02 00:00:00</td>\n",
              "      <td>550000.0</td>\n",
              "      <td>4.0</td>\n",
              "      <td>2.50</td>\n",
              "      <td>1940</td>\n",
              "      <td>10500</td>\n",
              "      <td>1.0</td>\n",
              "      <td>0</td>\n",
              "      <td>0</td>\n",
              "      <td>4</td>\n",
              "      <td>1140</td>\n",
              "      <td>800</td>\n",
              "      <td>1976</td>\n",
              "      <td>1992</td>\n",
              "      <td>9105 170th Ave NE</td>\n",
              "      <td>Redmond</td>\n",
              "      <td>WA 98052</td>\n",
              "      <td>USA</td>\n",
              "    </tr>\n",
              "  </tbody>\n",
              "</table>\n",
              "</div>\n",
              "      <button class=\"colab-df-convert\" onclick=\"convertToInteractive('df-0c965718-d166-4f2d-bd00-5310b9337859')\"\n",
              "              title=\"Convert this dataframe to an interactive table.\"\n",
              "              style=\"display:none;\">\n",
              "        \n",
              "  <svg xmlns=\"http://www.w3.org/2000/svg\" height=\"24px\"viewBox=\"0 0 24 24\"\n",
              "       width=\"24px\">\n",
              "    <path d=\"M0 0h24v24H0V0z\" fill=\"none\"/>\n",
              "    <path d=\"M18.56 5.44l.94 2.06.94-2.06 2.06-.94-2.06-.94-.94-2.06-.94 2.06-2.06.94zm-11 1L8.5 8.5l.94-2.06 2.06-.94-2.06-.94L8.5 2.5l-.94 2.06-2.06.94zm10 10l.94 2.06.94-2.06 2.06-.94-2.06-.94-.94-2.06-.94 2.06-2.06.94z\"/><path d=\"M17.41 7.96l-1.37-1.37c-.4-.4-.92-.59-1.43-.59-.52 0-1.04.2-1.43.59L10.3 9.45l-7.72 7.72c-.78.78-.78 2.05 0 2.83L4 21.41c.39.39.9.59 1.41.59.51 0 1.02-.2 1.41-.59l7.78-7.78 2.81-2.81c.8-.78.8-2.07 0-2.86zM5.41 20L4 18.59l7.72-7.72 1.47 1.35L5.41 20z\"/>\n",
              "  </svg>\n",
              "      </button>\n",
              "      \n",
              "  <style>\n",
              "    .colab-df-container {\n",
              "      display:flex;\n",
              "      flex-wrap:wrap;\n",
              "      gap: 12px;\n",
              "    }\n",
              "\n",
              "    .colab-df-convert {\n",
              "      background-color: #E8F0FE;\n",
              "      border: none;\n",
              "      border-radius: 50%;\n",
              "      cursor: pointer;\n",
              "      display: none;\n",
              "      fill: #1967D2;\n",
              "      height: 32px;\n",
              "      padding: 0 0 0 0;\n",
              "      width: 32px;\n",
              "    }\n",
              "\n",
              "    .colab-df-convert:hover {\n",
              "      background-color: #E2EBFA;\n",
              "      box-shadow: 0px 1px 2px rgba(60, 64, 67, 0.3), 0px 1px 3px 1px rgba(60, 64, 67, 0.15);\n",
              "      fill: #174EA6;\n",
              "    }\n",
              "\n",
              "    [theme=dark] .colab-df-convert {\n",
              "      background-color: #3B4455;\n",
              "      fill: #D2E3FC;\n",
              "    }\n",
              "\n",
              "    [theme=dark] .colab-df-convert:hover {\n",
              "      background-color: #434B5C;\n",
              "      box-shadow: 0px 1px 3px 1px rgba(0, 0, 0, 0.15);\n",
              "      filter: drop-shadow(0px 1px 2px rgba(0, 0, 0, 0.3));\n",
              "      fill: #FFFFFF;\n",
              "    }\n",
              "  </style>\n",
              "\n",
              "      <script>\n",
              "        const buttonEl =\n",
              "          document.querySelector('#df-0c965718-d166-4f2d-bd00-5310b9337859 button.colab-df-convert');\n",
              "        buttonEl.style.display =\n",
              "          google.colab.kernel.accessAllowed ? 'block' : 'none';\n",
              "\n",
              "        async function convertToInteractive(key) {\n",
              "          const element = document.querySelector('#df-0c965718-d166-4f2d-bd00-5310b9337859');\n",
              "          const dataTable =\n",
              "            await google.colab.kernel.invokeFunction('convertToInteractive',\n",
              "                                                     [key], {});\n",
              "          if (!dataTable) return;\n",
              "\n",
              "          const docLinkHtml = 'Like what you see? Visit the ' +\n",
              "            '<a target=\"_blank\" href=https://colab.research.google.com/notebooks/data_table.ipynb>data table notebook</a>'\n",
              "            + ' to learn more about interactive tables.';\n",
              "          element.innerHTML = '';\n",
              "          dataTable['output_type'] = 'display_data';\n",
              "          await google.colab.output.renderOutput(dataTable, element);\n",
              "          const docLink = document.createElement('div');\n",
              "          docLink.innerHTML = docLinkHtml;\n",
              "          element.appendChild(docLink);\n",
              "        }\n",
              "      </script>\n",
              "    </div>\n",
              "  </div>\n",
              "  "
            ]
          },
          "metadata": {},
          "execution_count": 6
        }
      ]
    },
    {
      "cell_type": "code",
      "source": [
        "#Informaciones del dataset\n",
        "#(Nombres de variables o columnas, cantidad de columnas (18), cantidad filas(4,600))\n",
        "#(Tipo de datos (Entero, decimales y categorico o string))\n",
        "#De primera manos visualizamos que no hay 4,600 Non-Null de 4,600 filas existentes.\n",
        "print(house_prince.info(),f'Dimesión del dataset (Rows/Col) {house_prince.shape}')"
      ],
      "metadata": {
        "colab": {
          "base_uri": "https://localhost:8080/"
        },
        "id": "koXPg49bS9fl",
        "outputId": "220831ae-a94e-4729-8b22-7897186665d4"
      },
      "execution_count": null,
      "outputs": [
        {
          "output_type": "stream",
          "name": "stdout",
          "text": [
            "<class 'pandas.core.frame.DataFrame'>\n",
            "RangeIndex: 4600 entries, 0 to 4599\n",
            "Data columns (total 18 columns):\n",
            " #   Column         Non-Null Count  Dtype  \n",
            "---  ------         --------------  -----  \n",
            " 0   date           4600 non-null   object \n",
            " 1   price          4600 non-null   float64\n",
            " 2   bedrooms       4600 non-null   float64\n",
            " 3   bathrooms      4600 non-null   float64\n",
            " 4   sqft_living    4600 non-null   int64  \n",
            " 5   sqft_lot       4600 non-null   int64  \n",
            " 6   floors         4600 non-null   float64\n",
            " 7   waterfront     4600 non-null   int64  \n",
            " 8   view           4600 non-null   int64  \n",
            " 9   condition      4600 non-null   int64  \n",
            " 10  sqft_above     4600 non-null   int64  \n",
            " 11  sqft_basement  4600 non-null   int64  \n",
            " 12  yr_built       4600 non-null   int64  \n",
            " 13  yr_renovated   4600 non-null   int64  \n",
            " 14  street         4600 non-null   object \n",
            " 15  city           4600 non-null   object \n",
            " 16  statezip       4600 non-null   object \n",
            " 17  country        4600 non-null   object \n",
            "dtypes: float64(4), int64(9), object(5)\n",
            "memory usage: 647.0+ KB\n",
            "None Dimesión del dataset (Rows/Col) (4600, 18)\n"
          ]
        }
      ]
    },
    {
      "cell_type": "code",
      "source": [
        "#En las informaciones se puede observar las variables  como 'floors', 'bedrooms', 'bathrooms' son decimales\n",
        "#la convertiremos tipo entero.\n",
        "house_prince[['floors', 'bedrooms', 'bathrooms']] = house_prince[['floors', 'bedrooms', 'bathrooms']].astype('int')"
      ],
      "metadata": {
        "id": "f1BzHsCvLZFa"
      },
      "execution_count": null,
      "outputs": []
    },
    {
      "cell_type": "code",
      "source": [
        "#Revisar si existen missing values o valores perdidos\n",
        "house_prince.isnull().sum().to_frame(\"Vacio\")"
      ],
      "metadata": {
        "colab": {
          "base_uri": "https://localhost:8080/",
          "height": 614
        },
        "id": "iCQJ1tFfTTO7",
        "outputId": "e3f01de2-30c3-4f1a-ec9e-f4a7775cfba5"
      },
      "execution_count": null,
      "outputs": [
        {
          "output_type": "execute_result",
          "data": {
            "text/plain": [
              "               Vacio\n",
              "date               0\n",
              "price              0\n",
              "bedrooms           0\n",
              "bathrooms          0\n",
              "sqft_living        0\n",
              "sqft_lot           0\n",
              "floors             0\n",
              "waterfront         0\n",
              "view               0\n",
              "condition          0\n",
              "sqft_above         0\n",
              "sqft_basement      0\n",
              "yr_built           0\n",
              "yr_renovated       0\n",
              "street             0\n",
              "city               0\n",
              "statezip           0\n",
              "country            0"
            ],
            "text/html": [
              "\n",
              "  <div id=\"df-ca844b67-99aa-421e-bf32-bcf0d7fc83f5\">\n",
              "    <div class=\"colab-df-container\">\n",
              "      <div>\n",
              "<style scoped>\n",
              "    .dataframe tbody tr th:only-of-type {\n",
              "        vertical-align: middle;\n",
              "    }\n",
              "\n",
              "    .dataframe tbody tr th {\n",
              "        vertical-align: top;\n",
              "    }\n",
              "\n",
              "    .dataframe thead th {\n",
              "        text-align: right;\n",
              "    }\n",
              "</style>\n",
              "<table border=\"1\" class=\"dataframe\">\n",
              "  <thead>\n",
              "    <tr style=\"text-align: right;\">\n",
              "      <th></th>\n",
              "      <th>Vacio</th>\n",
              "    </tr>\n",
              "  </thead>\n",
              "  <tbody>\n",
              "    <tr>\n",
              "      <th>date</th>\n",
              "      <td>0</td>\n",
              "    </tr>\n",
              "    <tr>\n",
              "      <th>price</th>\n",
              "      <td>0</td>\n",
              "    </tr>\n",
              "    <tr>\n",
              "      <th>bedrooms</th>\n",
              "      <td>0</td>\n",
              "    </tr>\n",
              "    <tr>\n",
              "      <th>bathrooms</th>\n",
              "      <td>0</td>\n",
              "    </tr>\n",
              "    <tr>\n",
              "      <th>sqft_living</th>\n",
              "      <td>0</td>\n",
              "    </tr>\n",
              "    <tr>\n",
              "      <th>sqft_lot</th>\n",
              "      <td>0</td>\n",
              "    </tr>\n",
              "    <tr>\n",
              "      <th>floors</th>\n",
              "      <td>0</td>\n",
              "    </tr>\n",
              "    <tr>\n",
              "      <th>waterfront</th>\n",
              "      <td>0</td>\n",
              "    </tr>\n",
              "    <tr>\n",
              "      <th>view</th>\n",
              "      <td>0</td>\n",
              "    </tr>\n",
              "    <tr>\n",
              "      <th>condition</th>\n",
              "      <td>0</td>\n",
              "    </tr>\n",
              "    <tr>\n",
              "      <th>sqft_above</th>\n",
              "      <td>0</td>\n",
              "    </tr>\n",
              "    <tr>\n",
              "      <th>sqft_basement</th>\n",
              "      <td>0</td>\n",
              "    </tr>\n",
              "    <tr>\n",
              "      <th>yr_built</th>\n",
              "      <td>0</td>\n",
              "    </tr>\n",
              "    <tr>\n",
              "      <th>yr_renovated</th>\n",
              "      <td>0</td>\n",
              "    </tr>\n",
              "    <tr>\n",
              "      <th>street</th>\n",
              "      <td>0</td>\n",
              "    </tr>\n",
              "    <tr>\n",
              "      <th>city</th>\n",
              "      <td>0</td>\n",
              "    </tr>\n",
              "    <tr>\n",
              "      <th>statezip</th>\n",
              "      <td>0</td>\n",
              "    </tr>\n",
              "    <tr>\n",
              "      <th>country</th>\n",
              "      <td>0</td>\n",
              "    </tr>\n",
              "  </tbody>\n",
              "</table>\n",
              "</div>\n",
              "      <button class=\"colab-df-convert\" onclick=\"convertToInteractive('df-ca844b67-99aa-421e-bf32-bcf0d7fc83f5')\"\n",
              "              title=\"Convert this dataframe to an interactive table.\"\n",
              "              style=\"display:none;\">\n",
              "        \n",
              "  <svg xmlns=\"http://www.w3.org/2000/svg\" height=\"24px\"viewBox=\"0 0 24 24\"\n",
              "       width=\"24px\">\n",
              "    <path d=\"M0 0h24v24H0V0z\" fill=\"none\"/>\n",
              "    <path d=\"M18.56 5.44l.94 2.06.94-2.06 2.06-.94-2.06-.94-.94-2.06-.94 2.06-2.06.94zm-11 1L8.5 8.5l.94-2.06 2.06-.94-2.06-.94L8.5 2.5l-.94 2.06-2.06.94zm10 10l.94 2.06.94-2.06 2.06-.94-2.06-.94-.94-2.06-.94 2.06-2.06.94z\"/><path d=\"M17.41 7.96l-1.37-1.37c-.4-.4-.92-.59-1.43-.59-.52 0-1.04.2-1.43.59L10.3 9.45l-7.72 7.72c-.78.78-.78 2.05 0 2.83L4 21.41c.39.39.9.59 1.41.59.51 0 1.02-.2 1.41-.59l7.78-7.78 2.81-2.81c.8-.78.8-2.07 0-2.86zM5.41 20L4 18.59l7.72-7.72 1.47 1.35L5.41 20z\"/>\n",
              "  </svg>\n",
              "      </button>\n",
              "      \n",
              "  <style>\n",
              "    .colab-df-container {\n",
              "      display:flex;\n",
              "      flex-wrap:wrap;\n",
              "      gap: 12px;\n",
              "    }\n",
              "\n",
              "    .colab-df-convert {\n",
              "      background-color: #E8F0FE;\n",
              "      border: none;\n",
              "      border-radius: 50%;\n",
              "      cursor: pointer;\n",
              "      display: none;\n",
              "      fill: #1967D2;\n",
              "      height: 32px;\n",
              "      padding: 0 0 0 0;\n",
              "      width: 32px;\n",
              "    }\n",
              "\n",
              "    .colab-df-convert:hover {\n",
              "      background-color: #E2EBFA;\n",
              "      box-shadow: 0px 1px 2px rgba(60, 64, 67, 0.3), 0px 1px 3px 1px rgba(60, 64, 67, 0.15);\n",
              "      fill: #174EA6;\n",
              "    }\n",
              "\n",
              "    [theme=dark] .colab-df-convert {\n",
              "      background-color: #3B4455;\n",
              "      fill: #D2E3FC;\n",
              "    }\n",
              "\n",
              "    [theme=dark] .colab-df-convert:hover {\n",
              "      background-color: #434B5C;\n",
              "      box-shadow: 0px 1px 3px 1px rgba(0, 0, 0, 0.15);\n",
              "      filter: drop-shadow(0px 1px 2px rgba(0, 0, 0, 0.3));\n",
              "      fill: #FFFFFF;\n",
              "    }\n",
              "  </style>\n",
              "\n",
              "      <script>\n",
              "        const buttonEl =\n",
              "          document.querySelector('#df-ca844b67-99aa-421e-bf32-bcf0d7fc83f5 button.colab-df-convert');\n",
              "        buttonEl.style.display =\n",
              "          google.colab.kernel.accessAllowed ? 'block' : 'none';\n",
              "\n",
              "        async function convertToInteractive(key) {\n",
              "          const element = document.querySelector('#df-ca844b67-99aa-421e-bf32-bcf0d7fc83f5');\n",
              "          const dataTable =\n",
              "            await google.colab.kernel.invokeFunction('convertToInteractive',\n",
              "                                                     [key], {});\n",
              "          if (!dataTable) return;\n",
              "\n",
              "          const docLinkHtml = 'Like what you see? Visit the ' +\n",
              "            '<a target=\"_blank\" href=https://colab.research.google.com/notebooks/data_table.ipynb>data table notebook</a>'\n",
              "            + ' to learn more about interactive tables.';\n",
              "          element.innerHTML = '';\n",
              "          dataTable['output_type'] = 'display_data';\n",
              "          await google.colab.output.renderOutput(dataTable, element);\n",
              "          const docLink = document.createElement('div');\n",
              "          docLink.innerHTML = docLinkHtml;\n",
              "          element.appendChild(docLink);\n",
              "        }\n",
              "      </script>\n",
              "    </div>\n",
              "  </div>\n",
              "  "
            ]
          },
          "metadata": {},
          "execution_count": 9
        }
      ]
    },
    {
      "cell_type": "code",
      "source": [
        "#Principales estadisticas descriptivas del dataset para las variables numericas\n",
        "house_prince.describe().T"
      ],
      "metadata": {
        "colab": {
          "base_uri": "https://localhost:8080/",
          "height": 457
        },
        "id": "8cwrbfzNSUAj",
        "outputId": "22eee75c-6d1f-43f6-cd71-41753f326290"
      },
      "execution_count": null,
      "outputs": [
        {
          "output_type": "execute_result",
          "data": {
            "text/plain": [
              "                count           mean            std     min        25%  \\\n",
              "price          4600.0  551962.988473  563834.702547     0.0  322875.00   \n",
              "bedrooms       4600.0       3.400870       0.908848     0.0       3.00   \n",
              "bathrooms      4600.0       1.788913       0.752185     0.0       1.00   \n",
              "sqft_living    4600.0    2139.346957     963.206916   370.0    1460.00   \n",
              "sqft_lot       4600.0   14852.516087   35884.436145   638.0    5000.75   \n",
              "floors         4600.0       1.459130       0.552194     1.0       1.00   \n",
              "waterfront     4600.0       0.007174       0.084404     0.0       0.00   \n",
              "view           4600.0       0.240652       0.778405     0.0       0.00   \n",
              "condition      4600.0       3.451739       0.677230     1.0       3.00   \n",
              "sqft_above     4600.0    1827.265435     862.168977   370.0    1190.00   \n",
              "sqft_basement  4600.0     312.081522     464.137228     0.0       0.00   \n",
              "yr_built       4600.0    1970.786304      29.731848  1900.0    1951.00   \n",
              "yr_renovated   4600.0     808.608261     979.414536     0.0       0.00   \n",
              "\n",
              "                         50%        75%         max  \n",
              "price          460943.461539  654962.50  26590000.0  \n",
              "bedrooms            3.000000       4.00         9.0  \n",
              "bathrooms           2.000000       2.00         8.0  \n",
              "sqft_living      1980.000000    2620.00     13540.0  \n",
              "sqft_lot         7683.000000   11001.25   1074218.0  \n",
              "floors              1.000000       2.00         3.0  \n",
              "waterfront          0.000000       0.00         1.0  \n",
              "view                0.000000       0.00         4.0  \n",
              "condition           3.000000       4.00         5.0  \n",
              "sqft_above       1590.000000    2300.00      9410.0  \n",
              "sqft_basement       0.000000     610.00      4820.0  \n",
              "yr_built         1976.000000    1997.00      2014.0  \n",
              "yr_renovated        0.000000    1999.00      2014.0  "
            ],
            "text/html": [
              "\n",
              "  <div id=\"df-b66fdafd-69b1-4a6e-b01e-2c816ca7e873\">\n",
              "    <div class=\"colab-df-container\">\n",
              "      <div>\n",
              "<style scoped>\n",
              "    .dataframe tbody tr th:only-of-type {\n",
              "        vertical-align: middle;\n",
              "    }\n",
              "\n",
              "    .dataframe tbody tr th {\n",
              "        vertical-align: top;\n",
              "    }\n",
              "\n",
              "    .dataframe thead th {\n",
              "        text-align: right;\n",
              "    }\n",
              "</style>\n",
              "<table border=\"1\" class=\"dataframe\">\n",
              "  <thead>\n",
              "    <tr style=\"text-align: right;\">\n",
              "      <th></th>\n",
              "      <th>count</th>\n",
              "      <th>mean</th>\n",
              "      <th>std</th>\n",
              "      <th>min</th>\n",
              "      <th>25%</th>\n",
              "      <th>50%</th>\n",
              "      <th>75%</th>\n",
              "      <th>max</th>\n",
              "    </tr>\n",
              "  </thead>\n",
              "  <tbody>\n",
              "    <tr>\n",
              "      <th>price</th>\n",
              "      <td>4600.0</td>\n",
              "      <td>551962.988473</td>\n",
              "      <td>563834.702547</td>\n",
              "      <td>0.0</td>\n",
              "      <td>322875.00</td>\n",
              "      <td>460943.461539</td>\n",
              "      <td>654962.50</td>\n",
              "      <td>26590000.0</td>\n",
              "    </tr>\n",
              "    <tr>\n",
              "      <th>bedrooms</th>\n",
              "      <td>4600.0</td>\n",
              "      <td>3.400870</td>\n",
              "      <td>0.908848</td>\n",
              "      <td>0.0</td>\n",
              "      <td>3.00</td>\n",
              "      <td>3.000000</td>\n",
              "      <td>4.00</td>\n",
              "      <td>9.0</td>\n",
              "    </tr>\n",
              "    <tr>\n",
              "      <th>bathrooms</th>\n",
              "      <td>4600.0</td>\n",
              "      <td>1.788913</td>\n",
              "      <td>0.752185</td>\n",
              "      <td>0.0</td>\n",
              "      <td>1.00</td>\n",
              "      <td>2.000000</td>\n",
              "      <td>2.00</td>\n",
              "      <td>8.0</td>\n",
              "    </tr>\n",
              "    <tr>\n",
              "      <th>sqft_living</th>\n",
              "      <td>4600.0</td>\n",
              "      <td>2139.346957</td>\n",
              "      <td>963.206916</td>\n",
              "      <td>370.0</td>\n",
              "      <td>1460.00</td>\n",
              "      <td>1980.000000</td>\n",
              "      <td>2620.00</td>\n",
              "      <td>13540.0</td>\n",
              "    </tr>\n",
              "    <tr>\n",
              "      <th>sqft_lot</th>\n",
              "      <td>4600.0</td>\n",
              "      <td>14852.516087</td>\n",
              "      <td>35884.436145</td>\n",
              "      <td>638.0</td>\n",
              "      <td>5000.75</td>\n",
              "      <td>7683.000000</td>\n",
              "      <td>11001.25</td>\n",
              "      <td>1074218.0</td>\n",
              "    </tr>\n",
              "    <tr>\n",
              "      <th>floors</th>\n",
              "      <td>4600.0</td>\n",
              "      <td>1.459130</td>\n",
              "      <td>0.552194</td>\n",
              "      <td>1.0</td>\n",
              "      <td>1.00</td>\n",
              "      <td>1.000000</td>\n",
              "      <td>2.00</td>\n",
              "      <td>3.0</td>\n",
              "    </tr>\n",
              "    <tr>\n",
              "      <th>waterfront</th>\n",
              "      <td>4600.0</td>\n",
              "      <td>0.007174</td>\n",
              "      <td>0.084404</td>\n",
              "      <td>0.0</td>\n",
              "      <td>0.00</td>\n",
              "      <td>0.000000</td>\n",
              "      <td>0.00</td>\n",
              "      <td>1.0</td>\n",
              "    </tr>\n",
              "    <tr>\n",
              "      <th>view</th>\n",
              "      <td>4600.0</td>\n",
              "      <td>0.240652</td>\n",
              "      <td>0.778405</td>\n",
              "      <td>0.0</td>\n",
              "      <td>0.00</td>\n",
              "      <td>0.000000</td>\n",
              "      <td>0.00</td>\n",
              "      <td>4.0</td>\n",
              "    </tr>\n",
              "    <tr>\n",
              "      <th>condition</th>\n",
              "      <td>4600.0</td>\n",
              "      <td>3.451739</td>\n",
              "      <td>0.677230</td>\n",
              "      <td>1.0</td>\n",
              "      <td>3.00</td>\n",
              "      <td>3.000000</td>\n",
              "      <td>4.00</td>\n",
              "      <td>5.0</td>\n",
              "    </tr>\n",
              "    <tr>\n",
              "      <th>sqft_above</th>\n",
              "      <td>4600.0</td>\n",
              "      <td>1827.265435</td>\n",
              "      <td>862.168977</td>\n",
              "      <td>370.0</td>\n",
              "      <td>1190.00</td>\n",
              "      <td>1590.000000</td>\n",
              "      <td>2300.00</td>\n",
              "      <td>9410.0</td>\n",
              "    </tr>\n",
              "    <tr>\n",
              "      <th>sqft_basement</th>\n",
              "      <td>4600.0</td>\n",
              "      <td>312.081522</td>\n",
              "      <td>464.137228</td>\n",
              "      <td>0.0</td>\n",
              "      <td>0.00</td>\n",
              "      <td>0.000000</td>\n",
              "      <td>610.00</td>\n",
              "      <td>4820.0</td>\n",
              "    </tr>\n",
              "    <tr>\n",
              "      <th>yr_built</th>\n",
              "      <td>4600.0</td>\n",
              "      <td>1970.786304</td>\n",
              "      <td>29.731848</td>\n",
              "      <td>1900.0</td>\n",
              "      <td>1951.00</td>\n",
              "      <td>1976.000000</td>\n",
              "      <td>1997.00</td>\n",
              "      <td>2014.0</td>\n",
              "    </tr>\n",
              "    <tr>\n",
              "      <th>yr_renovated</th>\n",
              "      <td>4600.0</td>\n",
              "      <td>808.608261</td>\n",
              "      <td>979.414536</td>\n",
              "      <td>0.0</td>\n",
              "      <td>0.00</td>\n",
              "      <td>0.000000</td>\n",
              "      <td>1999.00</td>\n",
              "      <td>2014.0</td>\n",
              "    </tr>\n",
              "  </tbody>\n",
              "</table>\n",
              "</div>\n",
              "      <button class=\"colab-df-convert\" onclick=\"convertToInteractive('df-b66fdafd-69b1-4a6e-b01e-2c816ca7e873')\"\n",
              "              title=\"Convert this dataframe to an interactive table.\"\n",
              "              style=\"display:none;\">\n",
              "        \n",
              "  <svg xmlns=\"http://www.w3.org/2000/svg\" height=\"24px\"viewBox=\"0 0 24 24\"\n",
              "       width=\"24px\">\n",
              "    <path d=\"M0 0h24v24H0V0z\" fill=\"none\"/>\n",
              "    <path d=\"M18.56 5.44l.94 2.06.94-2.06 2.06-.94-2.06-.94-.94-2.06-.94 2.06-2.06.94zm-11 1L8.5 8.5l.94-2.06 2.06-.94-2.06-.94L8.5 2.5l-.94 2.06-2.06.94zm10 10l.94 2.06.94-2.06 2.06-.94-2.06-.94-.94-2.06-.94 2.06-2.06.94z\"/><path d=\"M17.41 7.96l-1.37-1.37c-.4-.4-.92-.59-1.43-.59-.52 0-1.04.2-1.43.59L10.3 9.45l-7.72 7.72c-.78.78-.78 2.05 0 2.83L4 21.41c.39.39.9.59 1.41.59.51 0 1.02-.2 1.41-.59l7.78-7.78 2.81-2.81c.8-.78.8-2.07 0-2.86zM5.41 20L4 18.59l7.72-7.72 1.47 1.35L5.41 20z\"/>\n",
              "  </svg>\n",
              "      </button>\n",
              "      \n",
              "  <style>\n",
              "    .colab-df-container {\n",
              "      display:flex;\n",
              "      flex-wrap:wrap;\n",
              "      gap: 12px;\n",
              "    }\n",
              "\n",
              "    .colab-df-convert {\n",
              "      background-color: #E8F0FE;\n",
              "      border: none;\n",
              "      border-radius: 50%;\n",
              "      cursor: pointer;\n",
              "      display: none;\n",
              "      fill: #1967D2;\n",
              "      height: 32px;\n",
              "      padding: 0 0 0 0;\n",
              "      width: 32px;\n",
              "    }\n",
              "\n",
              "    .colab-df-convert:hover {\n",
              "      background-color: #E2EBFA;\n",
              "      box-shadow: 0px 1px 2px rgba(60, 64, 67, 0.3), 0px 1px 3px 1px rgba(60, 64, 67, 0.15);\n",
              "      fill: #174EA6;\n",
              "    }\n",
              "\n",
              "    [theme=dark] .colab-df-convert {\n",
              "      background-color: #3B4455;\n",
              "      fill: #D2E3FC;\n",
              "    }\n",
              "\n",
              "    [theme=dark] .colab-df-convert:hover {\n",
              "      background-color: #434B5C;\n",
              "      box-shadow: 0px 1px 3px 1px rgba(0, 0, 0, 0.15);\n",
              "      filter: drop-shadow(0px 1px 2px rgba(0, 0, 0, 0.3));\n",
              "      fill: #FFFFFF;\n",
              "    }\n",
              "  </style>\n",
              "\n",
              "      <script>\n",
              "        const buttonEl =\n",
              "          document.querySelector('#df-b66fdafd-69b1-4a6e-b01e-2c816ca7e873 button.colab-df-convert');\n",
              "        buttonEl.style.display =\n",
              "          google.colab.kernel.accessAllowed ? 'block' : 'none';\n",
              "\n",
              "        async function convertToInteractive(key) {\n",
              "          const element = document.querySelector('#df-b66fdafd-69b1-4a6e-b01e-2c816ca7e873');\n",
              "          const dataTable =\n",
              "            await google.colab.kernel.invokeFunction('convertToInteractive',\n",
              "                                                     [key], {});\n",
              "          if (!dataTable) return;\n",
              "\n",
              "          const docLinkHtml = 'Like what you see? Visit the ' +\n",
              "            '<a target=\"_blank\" href=https://colab.research.google.com/notebooks/data_table.ipynb>data table notebook</a>'\n",
              "            + ' to learn more about interactive tables.';\n",
              "          element.innerHTML = '';\n",
              "          dataTable['output_type'] = 'display_data';\n",
              "          await google.colab.output.renderOutput(dataTable, element);\n",
              "          const docLink = document.createElement('div');\n",
              "          docLink.innerHTML = docLinkHtml;\n",
              "          element.appendChild(docLink);\n",
              "        }\n",
              "      </script>\n",
              "    </div>\n",
              "  </div>\n",
              "  "
            ]
          },
          "metadata": {},
          "execution_count": 10
        }
      ]
    },
    {
      "cell_type": "markdown",
      "source": [
        "En las estdisticas observamos comportamientos anormales de los datos como es el caso del precio donde el valor minimo es cero, de la misma manera en las habitaciones y baños, etc..., esta parte hay que tomarla en cuenta posteriormente para el reprocesamiento de los datos."
      ],
      "metadata": {
        "id": "JJ8KILY2R4Er"
      }
    },
    {
      "cell_type": "code",
      "source": [
        "#Principales estadisticas descriptivas del dataset para las variables categoricas\n",
        "house_prince.select_dtypes(include=['object']).describe().T"
      ],
      "metadata": {
        "colab": {
          "base_uri": "https://localhost:8080/",
          "height": 206
        },
        "id": "9M20Mga9W71l",
        "outputId": "d36afb32-5d38-4e81-a628-537e10d7536f"
      },
      "execution_count": null,
      "outputs": [
        {
          "output_type": "execute_result",
          "data": {
            "text/plain": [
              "         count unique                    top  freq\n",
              "date      4600     70    2014-06-23 00:00:00   142\n",
              "street    4600   4525  2520 Mulberry Walk NE     4\n",
              "city      4600     44                Seattle  1573\n",
              "statezip  4600     77               WA 98103   148\n",
              "country   4600      1                    USA  4600"
            ],
            "text/html": [
              "\n",
              "  <div id=\"df-b7d3a419-1439-4ff2-89ca-a77a3454ba6c\">\n",
              "    <div class=\"colab-df-container\">\n",
              "      <div>\n",
              "<style scoped>\n",
              "    .dataframe tbody tr th:only-of-type {\n",
              "        vertical-align: middle;\n",
              "    }\n",
              "\n",
              "    .dataframe tbody tr th {\n",
              "        vertical-align: top;\n",
              "    }\n",
              "\n",
              "    .dataframe thead th {\n",
              "        text-align: right;\n",
              "    }\n",
              "</style>\n",
              "<table border=\"1\" class=\"dataframe\">\n",
              "  <thead>\n",
              "    <tr style=\"text-align: right;\">\n",
              "      <th></th>\n",
              "      <th>count</th>\n",
              "      <th>unique</th>\n",
              "      <th>top</th>\n",
              "      <th>freq</th>\n",
              "    </tr>\n",
              "  </thead>\n",
              "  <tbody>\n",
              "    <tr>\n",
              "      <th>date</th>\n",
              "      <td>4600</td>\n",
              "      <td>70</td>\n",
              "      <td>2014-06-23 00:00:00</td>\n",
              "      <td>142</td>\n",
              "    </tr>\n",
              "    <tr>\n",
              "      <th>street</th>\n",
              "      <td>4600</td>\n",
              "      <td>4525</td>\n",
              "      <td>2520 Mulberry Walk NE</td>\n",
              "      <td>4</td>\n",
              "    </tr>\n",
              "    <tr>\n",
              "      <th>city</th>\n",
              "      <td>4600</td>\n",
              "      <td>44</td>\n",
              "      <td>Seattle</td>\n",
              "      <td>1573</td>\n",
              "    </tr>\n",
              "    <tr>\n",
              "      <th>statezip</th>\n",
              "      <td>4600</td>\n",
              "      <td>77</td>\n",
              "      <td>WA 98103</td>\n",
              "      <td>148</td>\n",
              "    </tr>\n",
              "    <tr>\n",
              "      <th>country</th>\n",
              "      <td>4600</td>\n",
              "      <td>1</td>\n",
              "      <td>USA</td>\n",
              "      <td>4600</td>\n",
              "    </tr>\n",
              "  </tbody>\n",
              "</table>\n",
              "</div>\n",
              "      <button class=\"colab-df-convert\" onclick=\"convertToInteractive('df-b7d3a419-1439-4ff2-89ca-a77a3454ba6c')\"\n",
              "              title=\"Convert this dataframe to an interactive table.\"\n",
              "              style=\"display:none;\">\n",
              "        \n",
              "  <svg xmlns=\"http://www.w3.org/2000/svg\" height=\"24px\"viewBox=\"0 0 24 24\"\n",
              "       width=\"24px\">\n",
              "    <path d=\"M0 0h24v24H0V0z\" fill=\"none\"/>\n",
              "    <path d=\"M18.56 5.44l.94 2.06.94-2.06 2.06-.94-2.06-.94-.94-2.06-.94 2.06-2.06.94zm-11 1L8.5 8.5l.94-2.06 2.06-.94-2.06-.94L8.5 2.5l-.94 2.06-2.06.94zm10 10l.94 2.06.94-2.06 2.06-.94-2.06-.94-.94-2.06-.94 2.06-2.06.94z\"/><path d=\"M17.41 7.96l-1.37-1.37c-.4-.4-.92-.59-1.43-.59-.52 0-1.04.2-1.43.59L10.3 9.45l-7.72 7.72c-.78.78-.78 2.05 0 2.83L4 21.41c.39.39.9.59 1.41.59.51 0 1.02-.2 1.41-.59l7.78-7.78 2.81-2.81c.8-.78.8-2.07 0-2.86zM5.41 20L4 18.59l7.72-7.72 1.47 1.35L5.41 20z\"/>\n",
              "  </svg>\n",
              "      </button>\n",
              "      \n",
              "  <style>\n",
              "    .colab-df-container {\n",
              "      display:flex;\n",
              "      flex-wrap:wrap;\n",
              "      gap: 12px;\n",
              "    }\n",
              "\n",
              "    .colab-df-convert {\n",
              "      background-color: #E8F0FE;\n",
              "      border: none;\n",
              "      border-radius: 50%;\n",
              "      cursor: pointer;\n",
              "      display: none;\n",
              "      fill: #1967D2;\n",
              "      height: 32px;\n",
              "      padding: 0 0 0 0;\n",
              "      width: 32px;\n",
              "    }\n",
              "\n",
              "    .colab-df-convert:hover {\n",
              "      background-color: #E2EBFA;\n",
              "      box-shadow: 0px 1px 2px rgba(60, 64, 67, 0.3), 0px 1px 3px 1px rgba(60, 64, 67, 0.15);\n",
              "      fill: #174EA6;\n",
              "    }\n",
              "\n",
              "    [theme=dark] .colab-df-convert {\n",
              "      background-color: #3B4455;\n",
              "      fill: #D2E3FC;\n",
              "    }\n",
              "\n",
              "    [theme=dark] .colab-df-convert:hover {\n",
              "      background-color: #434B5C;\n",
              "      box-shadow: 0px 1px 3px 1px rgba(0, 0, 0, 0.15);\n",
              "      filter: drop-shadow(0px 1px 2px rgba(0, 0, 0, 0.3));\n",
              "      fill: #FFFFFF;\n",
              "    }\n",
              "  </style>\n",
              "\n",
              "      <script>\n",
              "        const buttonEl =\n",
              "          document.querySelector('#df-b7d3a419-1439-4ff2-89ca-a77a3454ba6c button.colab-df-convert');\n",
              "        buttonEl.style.display =\n",
              "          google.colab.kernel.accessAllowed ? 'block' : 'none';\n",
              "\n",
              "        async function convertToInteractive(key) {\n",
              "          const element = document.querySelector('#df-b7d3a419-1439-4ff2-89ca-a77a3454ba6c');\n",
              "          const dataTable =\n",
              "            await google.colab.kernel.invokeFunction('convertToInteractive',\n",
              "                                                     [key], {});\n",
              "          if (!dataTable) return;\n",
              "\n",
              "          const docLinkHtml = 'Like what you see? Visit the ' +\n",
              "            '<a target=\"_blank\" href=https://colab.research.google.com/notebooks/data_table.ipynb>data table notebook</a>'\n",
              "            + ' to learn more about interactive tables.';\n",
              "          element.innerHTML = '';\n",
              "          dataTable['output_type'] = 'display_data';\n",
              "          await google.colab.output.renderOutput(dataTable, element);\n",
              "          const docLink = document.createElement('div');\n",
              "          docLink.innerHTML = docLinkHtml;\n",
              "          element.appendChild(docLink);\n",
              "        }\n",
              "      </script>\n",
              "    </div>\n",
              "  </div>\n",
              "  "
            ]
          },
          "metadata": {},
          "execution_count": 11
        }
      ]
    },
    {
      "cell_type": "markdown",
      "source": [
        "En las informaciones estadisticas de las variables categoricas podemos determinar el tratamiento o uso para nuestro modelo, por lo tanto hay mucha redundancia en estas variables no seran muy util por el tipo de caso, ya que pais es unico USA, codigo postal, ciudad, calle son redundante sin embargo puede ser util solo usar una en caso de ser necesario agregar valor."
      ],
      "metadata": {
        "id": "q_DETG8XSlNI"
      }
    },
    {
      "cell_type": "markdown",
      "source": [
        "**Visualización de los Datos**"
      ],
      "metadata": {
        "id": "D30oBDsJTqDc"
      }
    },
    {
      "cell_type": "code",
      "source": [
        "#Librerias\n",
        "import matplotlib.pyplot as plt\n",
        "import seaborn as sns\n",
        "plt.style.use('ggplot')"
      ],
      "metadata": {
        "id": "HXdrX9O2TrUD"
      },
      "execution_count": null,
      "outputs": []
    },
    {
      "cell_type": "code",
      "source": [
        "#@title\n",
        "#histogramas\n",
        "#Gráfico para cada variables numericas\n",
        "\n",
        "fig, axes = plt.subplots(nrows=5, ncols=3, figsize=(12, 7))\n",
        "axes = axes.flat\n",
        "columnas_numeric = house_prince.select_dtypes(include=['int64', 'float64']).columns\n",
        "\n",
        "for i, colum in enumerate(columnas_numeric):\n",
        "    sns.histplot(\n",
        "        data    = house_prince,\n",
        "        x       = colum,\n",
        "        stat    = \"count\",\n",
        "        kde     = True,\n",
        "        color   = (list(plt.rcParams['axes.prop_cycle'])*2)[i][\"color\"],\n",
        "        line_kws= {'linewidth': 2},\n",
        "        alpha   = 0.3,\n",
        "        ax      = axes[i]\n",
        "    )\n",
        "    axes[i].set_title(colum, fontsize = 10, fontweight = \"bold\")\n",
        "    axes[i].tick_params(labelsize = 10)\n",
        "    axes[i].set_xlabel(\"\")\n",
        "\n",
        "# Se eliminan los axes vacíos\n",
        "for i in [13,14]:\n",
        "    fig.delaxes(axes[i])\n",
        "\n",
        "\n",
        "fig.tight_layout()\n",
        "plt.subplots_adjust(top = 0.9)\n",
        "fig.suptitle('Distribución variables numéricas', fontsize = 12, fontweight = \"bold\");"
      ],
      "metadata": {
        "colab": {
          "base_uri": "https://localhost:8080/",
          "height": 514
        },
        "cellView": "form",
        "id": "2P3cJNEMT6wf",
        "outputId": "f698b4cf-29ee-4ca6-8cdc-82e539fd7154"
      },
      "execution_count": null,
      "outputs": [
        {
          "output_type": "display_data",
          "data": {
            "text/plain": [
              "<Figure size 864x504 with 13 Axes>"
            ],
            "image/png": "[encoded data removed]"
          },
          "metadata": {}
        }
      ]
    },
    {
      "cell_type": "code",
      "source": [
        "#@title\n",
        "#scatter\n",
        "\n",
        "fig, axes = plt.subplots(nrows=5, ncols=3, figsize=(12, 10))\n",
        "axes = axes.flat\n",
        "columnas_ = house_prince.select_dtypes(include=['int64', 'float64']).columns\n",
        "\n",
        "for i, colum in enumerate(columnas_):\n",
        "    sns.scatterplot(\n",
        "        data    = house_prince,\n",
        "        x       = colum,\n",
        "        y       = 'price',\n",
        "        color   = (list(plt.rcParams['axes.prop_cycle'])*2)[i][\"color\"],\n",
        "        alpha   = 0.3,\n",
        "        ax      = axes[i]\n",
        "        )\n",
        "\n",
        "    axes[i].set_title(colum, fontsize = 10, fontweight = \"bold\")\n",
        "    axes[i].tick_params(labelsize = 10)\n",
        "    axes[i].set_xlabel(\"\")\n",
        "\n",
        "# Se eliminan los axes vacíos\n",
        "for i in [13,14]:\n",
        "    fig.delaxes(axes[i])\n",
        "\n",
        "fig.tight_layout()\n",
        "plt.subplots_adjust(top = 0.9)\n",
        "fig.suptitle('Relacion entre \"prince\" y las variables independientes numericas', fontsize = 12, fontweight = \"bold\");"
      ],
      "metadata": {
        "colab": {
          "base_uri": "https://localhost:8080/",
          "height": 726
        },
        "cellView": "form",
        "id": "AVhBAtRyZKF3",
        "outputId": "e16a1232-9802-43f0-f791-3ab1070eca31"
      },
      "execution_count": null,
      "outputs": [
        {
          "output_type": "display_data",
          "data": {
            "text/plain": [
              "<Figure size 864x720 with 13 Axes>"
            ],
            "image/png": "[encoded data removed]"
          },
          "metadata": {}
        }
      ]
    },
    {
      "cell_type": "code",
      "source": [
        "#Observamos el nivel de correlacion de todas las variables independientes con respectos 'price' la dependiente\n",
        "sns.heatmap(house_prince.corr()[['price']].sort_values(by='price', ascending=False), annot = True)\n",
        "plt.show()"
      ],
      "metadata": {
        "colab": {
          "base_uri": "https://localhost:8080/",
          "height": 269
        },
        "id": "xT_-Jz6xavp2",
        "outputId": "7c58157c-0b97-4ca5-9367-584d33f35aaf"
      },
      "execution_count": null,
      "outputs": [
        {
          "output_type": "display_data",
          "data": {
            "text/plain": [
              "<Figure size 432x288 with 2 Axes>"
            ],
            "image/png": "[encoded data removed]"
          },
          "metadata": {}
        }
      ]
    },
    {
      "cell_type": "code",
      "source": [
        "#@title\n",
        "#BoxPlots\n",
        "#Gráfico para cada variables numericas\n",
        "\n",
        "fig, axes = plt.subplots(nrows=5, ncols=3, figsize=(12, 7))\n",
        "axes = axes.flat\n",
        "columnas_numeric = house_prince.select_dtypes(include=['int64', 'float64']).columns\n",
        "\n",
        "for i, colum in enumerate(columnas_numeric):\n",
        "    sns.boxplot(\n",
        "        data    = house_prince,\n",
        "        x       = colum,\n",
        "        color   = (list(plt.rcParams['axes.prop_cycle'])*2)[i][\"color\"],\n",
        "        ax      = axes[i]\n",
        "    )\n",
        "    axes[i].set_title(colum, fontsize = 10, fontweight = \"bold\")\n",
        "    axes[i].tick_params(labelsize = 10)\n",
        "    axes[i].set_xlabel(\"\")\n",
        "\n",
        "# Se eliminan los axes vacíos\n",
        "for i in [13,14]:\n",
        "    fig.delaxes(axes[i])\n",
        "\n",
        "\n",
        "fig.tight_layout()\n",
        "plt.subplots_adjust(top = 0.9)\n",
        "fig.suptitle('Identificacion de Outliers variables numéricas', fontsize = 12, fontweight = \"bold\");"
      ],
      "metadata": {
        "colab": {
          "base_uri": "https://localhost:8080/",
          "height": 514
        },
        "cellView": "form",
        "id": "wCunCOioeN1j",
        "outputId": "3c4dae96-99d7-4a15-c210-941075eee3a9"
      },
      "execution_count": null,
      "outputs": [
        {
          "output_type": "display_data",
          "data": {
            "text/plain": [
              "<Figure size 864x504 with 13 Axes>"
            ],
            "image/png": "[encoded data removed]"
          },
          "metadata": {}
        }
      ]
    },
    {
      "cell_type": "markdown",
      "source": [
        "Los boxplots reflejan un conjunto de datos con muchos valores outliers y una distribucion anormal de los datos, por lo tanto sera necesario normalizarla y eliminar esos valor extremos para entrenar un modelo mas preciso."
      ],
      "metadata": {
        "id": "hPMlKaT2TeMM"
      }
    },
    {
      "cell_type": "markdown",
      "source": [
        "**Hipotesis 1:** solo utilizando las variables numericas"
      ],
      "metadata": {
        "id": "nuRimeCjmboQ"
      }
    },
    {
      "cell_type": "markdown",
      "source": [
        "### **Fase 3:** Fase de entrenamiento."
      ],
      "metadata": {
        "id": "Rs1dONQsmLFw"
      }
    },
    {
      "cell_type": "code",
      "source": [
        "#Nombre de las columnas\n",
        "house_prince.columns"
      ],
      "metadata": {
        "colab": {
          "base_uri": "https://localhost:8080/"
        },
        "id": "6U1PdruQmOzR",
        "outputId": "8799b333-56f7-44fb-8f26-a2636c0338a9"
      },
      "execution_count": null,
      "outputs": [
        {
          "output_type": "execute_result",
          "data": {
            "text/plain": [
              "Index(['date', 'price', 'bedrooms', 'bathrooms', 'sqft_living', 'sqft_lot',\n",
              "       'floors', 'waterfront', 'view', 'condition', 'sqft_above',\n",
              "       'sqft_basement', 'yr_built', 'yr_renovated', 'street', 'city',\n",
              "       'statezip', 'country'],\n",
              "      dtype='object')"
            ]
          },
          "metadata": {},
          "execution_count": 17
        }
      ]
    },
    {
      "cell_type": "code",
      "source": [
        "#identificamos las variables categoricas y la sacamos del dataset\n",
        "variables_cat = house_prince.select_dtypes('object').columns\n",
        "\n",
        "#eliminamos las variables categoricas\n",
        "df_h1 = house_prince.drop(variables_cat, axis = 1)\n",
        "\n",
        "df_h1.head()"
      ],
      "metadata": {
        "colab": {
          "base_uri": "https://localhost:8080/",
          "height": 270
        },
        "id": "5ib4OIufmxVW",
        "outputId": "da4d60a1-966b-44fb-c36d-9471d90bdf96"
      },
      "execution_count": null,
      "outputs": [
        {
          "output_type": "execute_result",
          "data": {
            "text/plain": [
              "       price  bedrooms  bathrooms  sqft_living  sqft_lot  floors  waterfront  \\\n",
              "0   313000.0         3          1         1340      7912       1           0   \n",
              "1  2384000.0         5          2         3650      9050       2           0   \n",
              "2   342000.0         3          2         1930     11947       1           0   \n",
              "3   420000.0         3          2         2000      8030       1           0   \n",
              "4   550000.0         4          2         1940     10500       1           0   \n",
              "\n",
              "   view  condition  sqft_above  sqft_basement  yr_built  yr_renovated  \n",
              "0     0          3        1340              0      1955          2005  \n",
              "1     4          5        3370            280      1921             0  \n",
              "2     0          4        1930              0      1966             0  \n",
              "3     0          4        1000           1000      1963             0  \n",
              "4     0          4        1140            800      1976          1992  "
            ],
            "text/html": [
              "\n",
              "  <div id=\"df-b69cda32-965a-46e5-982b-e7566a540fd1\">\n",
              "    <div class=\"colab-df-container\">\n",
              "      <div>\n",
              "<style scoped>\n",
              "    .dataframe tbody tr th:only-of-type {\n",
              "        vertical-align: middle;\n",
              "    }\n",
              "\n",
              "    .dataframe tbody tr th {\n",
              "        vertical-align: top;\n",
              "    }\n",
              "\n",
              "    .dataframe thead th {\n",
              "        text-align: right;\n",
              "    }\n",
              "</style>\n",
              "<table border=\"1\" class=\"dataframe\">\n",
              "  <thead>\n",
              "    <tr style=\"text-align: right;\">\n",
              "      <th></th>\n",
              "      <th>price</th>\n",
              "      <th>bedrooms</th>\n",
              "      <th>bathrooms</th>\n",
              "      <th>sqft_living</th>\n",
              "      <th>sqft_lot</th>\n",
              "      <th>floors</th>\n",
              "      <th>waterfront</th>\n",
              "      <th>view</th>\n",
              "      <th>condition</th>\n",
              "      <th>sqft_above</th>\n",
              "      <th>sqft_basement</th>\n",
              "      <th>yr_built</th>\n",
              "      <th>yr_renovated</th>\n",
              "    </tr>\n",
              "  </thead>\n",
              "  <tbody>\n",
              "    <tr>\n",
              "      <th>0</th>\n",
              "      <td>313000.0</td>\n",
              "      <td>3</td>\n",
              "      <td>1</td>\n",
              "      <td>1340</td>\n",
              "      <td>7912</td>\n",
              "      <td>1</td>\n",
              "      <td>0</td>\n",
              "      <td>0</td>\n",
              "      <td>3</td>\n",
              "      <td>1340</td>\n",
              "      <td>0</td>\n",
              "      <td>1955</td>\n",
              "      <td>2005</td>\n",
              "    </tr>\n",
              "    <tr>\n",
              "      <th>1</th>\n",
              "      <td>2384000.0</td>\n",
              "      <td>5</td>\n",
              "      <td>2</td>\n",
              "      <td>3650</td>\n",
              "      <td>9050</td>\n",
              "      <td>2</td>\n",
              "      <td>0</td>\n",
              "      <td>4</td>\n",
              "      <td>5</td>\n",
              "      <td>3370</td>\n",
              "      <td>280</td>\n",
              "      <td>1921</td>\n",
              "      <td>0</td>\n",
              "    </tr>\n",
              "    <tr>\n",
              "      <th>2</th>\n",
              "      <td>342000.0</td>\n",
              "      <td>3</td>\n",
              "      <td>2</td>\n",
              "      <td>1930</td>\n",
              "      <td>11947</td>\n",
              "      <td>1</td>\n",
              "      <td>0</td>\n",
              "      <td>0</td>\n",
              "      <td>4</td>\n",
              "      <td>1930</td>\n",
              "      <td>0</td>\n",
              "      <td>1966</td>\n",
              "      <td>0</td>\n",
              "    </tr>\n",
              "    <tr>\n",
              "      <th>3</th>\n",
              "      <td>420000.0</td>\n",
              "      <td>3</td>\n",
              "      <td>2</td>\n",
              "      <td>2000</td>\n",
              "      <td>8030</td>\n",
              "      <td>1</td>\n",
              "      <td>0</td>\n",
              "      <td>0</td>\n",
              "      <td>4</td>\n",
              "      <td>1000</td>\n",
              "      <td>1000</td>\n",
              "      <td>1963</td>\n",
              "      <td>0</td>\n",
              "    </tr>\n",
              "    <tr>\n",
              "      <th>4</th>\n",
              "      <td>550000.0</td>\n",
              "      <td>4</td>\n",
              "      <td>2</td>\n",
              "      <td>1940</td>\n",
              "      <td>10500</td>\n",
              "      <td>1</td>\n",
              "      <td>0</td>\n",
              "      <td>0</td>\n",
              "      <td>4</td>\n",
              "      <td>1140</td>\n",
              "      <td>800</td>\n",
              "      <td>1976</td>\n",
              "      <td>1992</td>\n",
              "    </tr>\n",
              "  </tbody>\n",
              "</table>\n",
              "</div>\n",
              "      <button class=\"colab-df-convert\" onclick=\"convertToInteractive('df-b69cda32-965a-46e5-982b-e7566a540fd1')\"\n",
              "              title=\"Convert this dataframe to an interactive table.\"\n",
              "              style=\"display:none;\">\n",
              "        \n",
              "  <svg xmlns=\"http://www.w3.org/2000/svg\" height=\"24px\"viewBox=\"0 0 24 24\"\n",
              "       width=\"24px\">\n",
              "    <path d=\"M0 0h24v24H0V0z\" fill=\"none\"/>\n",
              "    <path d=\"M18.56 5.44l.94 2.06.94-2.06 2.06-.94-2.06-.94-.94-2.06-.94 2.06-2.06.94zm-11 1L8.5 8.5l.94-2.06 2.06-.94-2.06-.94L8.5 2.5l-.94 2.06-2.06.94zm10 10l.94 2.06.94-2.06 2.06-.94-2.06-.94-.94-2.06-.94 2.06-2.06.94z\"/><path d=\"M17.41 7.96l-1.37-1.37c-.4-.4-.92-.59-1.43-.59-.52 0-1.04.2-1.43.59L10.3 9.45l-7.72 7.72c-.78.78-.78 2.05 0 2.83L4 21.41c.39.39.9.59 1.41.59.51 0 1.02-.2 1.41-.59l7.78-7.78 2.81-2.81c.8-.78.8-2.07 0-2.86zM5.41 20L4 18.59l7.72-7.72 1.47 1.35L5.41 20z\"/>\n",
              "  </svg>\n",
              "      </button>\n",
              "      \n",
              "  <style>\n",
              "    .colab-df-container {\n",
              "      display:flex;\n",
              "      flex-wrap:wrap;\n",
              "      gap: 12px;\n",
              "    }\n",
              "\n",
              "    .colab-df-convert {\n",
              "      background-color: #E8F0FE;\n",
              "      border: none;\n",
              "      border-radius: 50%;\n",
              "      cursor: pointer;\n",
              "      display: none;\n",
              "      fill: #1967D2;\n",
              "      height: 32px;\n",
              "      padding: 0 0 0 0;\n",
              "      width: 32px;\n",
              "    }\n",
              "\n",
              "    .colab-df-convert:hover {\n",
              "      background-color: #E2EBFA;\n",
              "      box-shadow: 0px 1px 2px rgba(60, 64, 67, 0.3), 0px 1px 3px 1px rgba(60, 64, 67, 0.15);\n",
              "      fill: #174EA6;\n",
              "    }\n",
              "\n",
              "    [theme=dark] .colab-df-convert {\n",
              "      background-color: #3B4455;\n",
              "      fill: #D2E3FC;\n",
              "    }\n",
              "\n",
              "    [theme=dark] .colab-df-convert:hover {\n",
              "      background-color: #434B5C;\n",
              "      box-shadow: 0px 1px 3px 1px rgba(0, 0, 0, 0.15);\n",
              "      filter: drop-shadow(0px 1px 2px rgba(0, 0, 0, 0.3));\n",
              "      fill: #FFFFFF;\n",
              "    }\n",
              "  </style>\n",
              "\n",
              "      <script>\n",
              "        const buttonEl =\n",
              "          document.querySelector('#df-b69cda32-965a-46e5-982b-e7566a540fd1 button.colab-df-convert');\n",
              "        buttonEl.style.display =\n",
              "          google.colab.kernel.accessAllowed ? 'block' : 'none';\n",
              "\n",
              "        async function convertToInteractive(key) {\n",
              "          const element = document.querySelector('#df-b69cda32-965a-46e5-982b-e7566a540fd1');\n",
              "          const dataTable =\n",
              "            await google.colab.kernel.invokeFunction('convertToInteractive',\n",
              "                                                     [key], {});\n",
              "          if (!dataTable) return;\n",
              "\n",
              "          const docLinkHtml = 'Like what you see? Visit the ' +\n",
              "            '<a target=\"_blank\" href=https://colab.research.google.com/notebooks/data_table.ipynb>data table notebook</a>'\n",
              "            + ' to learn more about interactive tables.';\n",
              "          element.innerHTML = '';\n",
              "          dataTable['output_type'] = 'display_data';\n",
              "          await google.colab.output.renderOutput(dataTable, element);\n",
              "          const docLink = document.createElement('div');\n",
              "          docLink.innerHTML = docLinkHtml;\n",
              "          element.appendChild(docLink);\n",
              "        }\n",
              "      </script>\n",
              "    </div>\n",
              "  </div>\n",
              "  "
            ]
          },
          "metadata": {},
          "execution_count": 18
        }
      ]
    },
    {
      "cell_type": "code",
      "source": [
        "#selecionamos nuestra variable dependiente y las independientes\n",
        "\n",
        "h1_x = df_h1.drop('price', axis = 1)\n",
        "h1_y = df_h1['price']"
      ],
      "metadata": {
        "id": "52xetxGxnDoq"
      },
      "execution_count": null,
      "outputs": []
    },
    {
      "cell_type": "code",
      "source": [
        "#Preparamos nuestro set de entrenamiento y prueba\n",
        "#Libreria\n",
        "from sklearn.model_selection import train_test_split\n",
        "\n",
        "#Separamos en train y test\n",
        "h1_xtrain, h1_xtest, h1_ytrain, h1_ytest = train_test_split(h1_x, h1_y, test_size= 0.20, random_state=43)"
      ],
      "metadata": {
        "id": "N1baX-DdnURj"
      },
      "execution_count": null,
      "outputs": []
    },
    {
      "cell_type": "code",
      "source": [
        "#importamos el modelo de regresion Linear\n",
        "from sklearn.linear_model import LinearRegression\n",
        "\n",
        "#Modelo1\n",
        "model1 = LinearRegression()\n",
        "\n",
        "#Entrenamiento\n",
        "model1.fit(h1_xtrain, h1_ytrain)"
      ],
      "metadata": {
        "colab": {
          "base_uri": "https://localhost:8080/"
        },
        "id": "ZPdivPzdnhk0",
        "outputId": "84dc2342-4c53-4af3-866c-0456e679d838"
      },
      "execution_count": null,
      "outputs": [
        {
          "output_type": "execute_result",
          "data": {
            "text/plain": [
              "LinearRegression()"
            ]
          },
          "metadata": {},
          "execution_count": 21
        }
      ]
    },
    {
      "cell_type": "markdown",
      "source": [
        "### **Fase 4:** Evaluación y análisis de los resultados."
      ],
      "metadata": {
        "id": "zeD3dvSGwGCN"
      }
    },
    {
      "cell_type": "code",
      "source": [
        "#Importamos la metrica de validacion (MSE) Error Cuadratico Medio\n",
        "from sklearn.metrics import mean_squared_error"
      ],
      "metadata": {
        "id": "V_Uyh8dunxxk"
      },
      "execution_count": null,
      "outputs": []
    },
    {
      "cell_type": "code",
      "source": [
        "#Predicion de y_train con los datos usado en el entrenamiento\n",
        "pred_h1_train = model1.predict(h1_xtrain)\n",
        "\n",
        "#Calculamos el MSE\n",
        "h1_mse_train = mean_squared_error(y_true = h1_ytrain, y_pred = pred_h1_train)\n",
        "print(f'Error cuadratico Medio Train_h1: {h1_mse_train:,.2f}')\n",
        "\n",
        "#Predicion de y_test con los datos usado en el entrenamiento\n",
        "pred_h1_test = model1.predict(h1_xtest)\n",
        "\n",
        "#Calculamos el MSE\n",
        "h1_mse_test = mean_squared_error(y_true = h1_ytest, y_pred = pred_h1_test)\n",
        "print(f'Error cuadratico Medio Test_h1: {h1_mse_test:,.2f}')\n",
        "\n",
        "accuracy = model1.score(h1_xtrain, h1_ytrain)\n",
        "print(f\"Model Accuracy:  {accuracy:.2f}\")"
      ],
      "metadata": {
        "colab": {
          "base_uri": "https://localhost:8080/"
        },
        "id": "BXdyqaxEn1GL",
        "outputId": "24b494d5-0eec-460e-9859-8c2b0a6ecbb7"
      },
      "execution_count": null,
      "outputs": [
        {
          "output_type": "stream",
          "name": "stdout",
          "text": [
            "Error cuadratico Medio Train_h1: 292,362,391,426.87\n",
            "Error cuadratico Medio Test_h1: 75,194,221,478.41\n",
            "Model Accuracy:  0.18\n"
          ]
        }
      ]
    },
    {
      "cell_type": "markdown",
      "source": [
        "**Hipotesis 2**: Haremos una selecion de las variables mas significativas con relacion a 'price' de acuerdo al analisis de correlacion, eliminaremos los outliers observados en  los boxplots y eliminaremos los valores en ceros observados en estadisticas para price, bathrooms y bedrooms que no deberian ser."
      ],
      "metadata": {
        "id": "xXuHcnXFo5Gq"
      }
    },
    {
      "cell_type": "code",
      "source": [
        "#selecionaremos las varibles > 0.2\n",
        "house_prince.corr()[['price']].sort_values(by='price', ascending=False)"
      ],
      "metadata": {
        "colab": {
          "base_uri": "https://localhost:8080/",
          "height": 457
        },
        "id": "K9N7NlhQtOnx",
        "outputId": "ac07ab5e-79ce-4d83-f579-f3cceeaf14fc"
      },
      "execution_count": null,
      "outputs": [
        {
          "output_type": "execute_result",
          "data": {
            "text/plain": [
              "                  price\n",
              "price          1.000000\n",
              "sqft_living    0.430410\n",
              "sqft_above     0.367570\n",
              "bathrooms      0.317229\n",
              "view           0.228504\n",
              "sqft_basement  0.210427\n",
              "bedrooms       0.200336\n",
              "floors         0.137125\n",
              "waterfront     0.135648\n",
              "sqft_lot       0.050451\n",
              "condition      0.034915\n",
              "yr_built       0.021857\n",
              "yr_renovated  -0.028774"
            ],
            "text/html": [
              "\n",
              "  <div id=\"df-9cf0b494-2fdd-43d0-9450-2712a54fcc91\">\n",
              "    <div class=\"colab-df-container\">\n",
              "      <div>\n",
              "<style scoped>\n",
              "    .dataframe tbody tr th:only-of-type {\n",
              "        vertical-align: middle;\n",
              "    }\n",
              "\n",
              "    .dataframe tbody tr th {\n",
              "        vertical-align: top;\n",
              "    }\n",
              "\n",
              "    .dataframe thead th {\n",
              "        text-align: right;\n",
              "    }\n",
              "</style>\n",
              "<table border=\"1\" class=\"dataframe\">\n",
              "  <thead>\n",
              "    <tr style=\"text-align: right;\">\n",
              "      <th></th>\n",
              "      <th>price</th>\n",
              "    </tr>\n",
              "  </thead>\n",
              "  <tbody>\n",
              "    <tr>\n",
              "      <th>price</th>\n",
              "      <td>1.000000</td>\n",
              "    </tr>\n",
              "    <tr>\n",
              "      <th>sqft_living</th>\n",
              "      <td>0.430410</td>\n",
              "    </tr>\n",
              "    <tr>\n",
              "      <th>sqft_above</th>\n",
              "      <td>0.367570</td>\n",
              "    </tr>\n",
              "    <tr>\n",
              "      <th>bathrooms</th>\n",
              "      <td>0.317229</td>\n",
              "    </tr>\n",
              "    <tr>\n",
              "      <th>view</th>\n",
              "      <td>0.228504</td>\n",
              "    </tr>\n",
              "    <tr>\n",
              "      <th>sqft_basement</th>\n",
              "      <td>0.210427</td>\n",
              "    </tr>\n",
              "    <tr>\n",
              "      <th>bedrooms</th>\n",
              "      <td>0.200336</td>\n",
              "    </tr>\n",
              "    <tr>\n",
              "      <th>floors</th>\n",
              "      <td>0.137125</td>\n",
              "    </tr>\n",
              "    <tr>\n",
              "      <th>waterfront</th>\n",
              "      <td>0.135648</td>\n",
              "    </tr>\n",
              "    <tr>\n",
              "      <th>sqft_lot</th>\n",
              "      <td>0.050451</td>\n",
              "    </tr>\n",
              "    <tr>\n",
              "      <th>condition</th>\n",
              "      <td>0.034915</td>\n",
              "    </tr>\n",
              "    <tr>\n",
              "      <th>yr_built</th>\n",
              "      <td>0.021857</td>\n",
              "    </tr>\n",
              "    <tr>\n",
              "      <th>yr_renovated</th>\n",
              "      <td>-0.028774</td>\n",
              "    </tr>\n",
              "  </tbody>\n",
              "</table>\n",
              "</div>\n",
              "      <button class=\"colab-df-convert\" onclick=\"convertToInteractive('df-9cf0b494-2fdd-43d0-9450-2712a54fcc91')\"\n",
              "              title=\"Convert this dataframe to an interactive table.\"\n",
              "              style=\"display:none;\">\n",
              "        \n",
              "  <svg xmlns=\"http://www.w3.org/2000/svg\" height=\"24px\"viewBox=\"0 0 24 24\"\n",
              "       width=\"24px\">\n",
              "    <path d=\"M0 0h24v24H0V0z\" fill=\"none\"/>\n",
              "    <path d=\"M18.56 5.44l.94 2.06.94-2.06 2.06-.94-2.06-.94-.94-2.06-.94 2.06-2.06.94zm-11 1L8.5 8.5l.94-2.06 2.06-.94-2.06-.94L8.5 2.5l-.94 2.06-2.06.94zm10 10l.94 2.06.94-2.06 2.06-.94-2.06-.94-.94-2.06-.94 2.06-2.06.94z\"/><path d=\"M17.41 7.96l-1.37-1.37c-.4-.4-.92-.59-1.43-.59-.52 0-1.04.2-1.43.59L10.3 9.45l-7.72 7.72c-.78.78-.78 2.05 0 2.83L4 21.41c.39.39.9.59 1.41.59.51 0 1.02-.2 1.41-.59l7.78-7.78 2.81-2.81c.8-.78.8-2.07 0-2.86zM5.41 20L4 18.59l7.72-7.72 1.47 1.35L5.41 20z\"/>\n",
              "  </svg>\n",
              "      </button>\n",
              "      \n",
              "  <style>\n",
              "    .colab-df-container {\n",
              "      display:flex;\n",
              "      flex-wrap:wrap;\n",
              "      gap: 12px;\n",
              "    }\n",
              "\n",
              "    .colab-df-convert {\n",
              "      background-color: #E8F0FE;\n",
              "      border: none;\n",
              "      border-radius: 50%;\n",
              "      cursor: pointer;\n",
              "      display: none;\n",
              "      fill: #1967D2;\n",
              "      height: 32px;\n",
              "      padding: 0 0 0 0;\n",
              "      width: 32px;\n",
              "    }\n",
              "\n",
              "    .colab-df-convert:hover {\n",
              "      background-color: #E2EBFA;\n",
              "      box-shadow: 0px 1px 2px rgba(60, 64, 67, 0.3), 0px 1px 3px 1px rgba(60, 64, 67, 0.15);\n",
              "      fill: #174EA6;\n",
              "    }\n",
              "\n",
              "    [theme=dark] .colab-df-convert {\n",
              "      background-color: #3B4455;\n",
              "      fill: #D2E3FC;\n",
              "    }\n",
              "\n",
              "    [theme=dark] .colab-df-convert:hover {\n",
              "      background-color: #434B5C;\n",
              "      box-shadow: 0px 1px 3px 1px rgba(0, 0, 0, 0.15);\n",
              "      filter: drop-shadow(0px 1px 2px rgba(0, 0, 0, 0.3));\n",
              "      fill: #FFFFFF;\n",
              "    }\n",
              "  </style>\n",
              "\n",
              "      <script>\n",
              "        const buttonEl =\n",
              "          document.querySelector('#df-9cf0b494-2fdd-43d0-9450-2712a54fcc91 button.colab-df-convert');\n",
              "        buttonEl.style.display =\n",
              "          google.colab.kernel.accessAllowed ? 'block' : 'none';\n",
              "\n",
              "        async function convertToInteractive(key) {\n",
              "          const element = document.querySelector('#df-9cf0b494-2fdd-43d0-9450-2712a54fcc91');\n",
              "          const dataTable =\n",
              "            await google.colab.kernel.invokeFunction('convertToInteractive',\n",
              "                                                     [key], {});\n",
              "          if (!dataTable) return;\n",
              "\n",
              "          const docLinkHtml = 'Like what you see? Visit the ' +\n",
              "            '<a target=\"_blank\" href=https://colab.research.google.com/notebooks/data_table.ipynb>data table notebook</a>'\n",
              "            + ' to learn more about interactive tables.';\n",
              "          element.innerHTML = '';\n",
              "          dataTable['output_type'] = 'display_data';\n",
              "          await google.colab.output.renderOutput(dataTable, element);\n",
              "          const docLink = document.createElement('div');\n",
              "          docLink.innerHTML = docLinkHtml;\n",
              "          element.appendChild(docLink);\n",
              "        }\n",
              "      </script>\n",
              "    </div>\n",
              "  </div>\n",
              "  "
            ]
          },
          "metadata": {},
          "execution_count": 24
        }
      ]
    },
    {
      "cell_type": "markdown",
      "source": [
        "### **Fase 3:** Fase de entrenamiento."
      ],
      "metadata": {
        "id": "0uNyqZlJpAjQ"
      }
    },
    {
      "cell_type": "code",
      "source": [
        "#identificamos las variables mas significativas > 0.2 el nivel de correlacion\n",
        "df_h2 = house_prince[['price','sqft_living', 'sqft_above', 'bathrooms', 'view','sqft_basement','bedrooms']]\n",
        "\n",
        "df_h2.head(5)"
      ],
      "metadata": {
        "colab": {
          "base_uri": "https://localhost:8080/",
          "height": 206
        },
        "id": "JpVNNf7dpQD0",
        "outputId": "14fa7303-2e91-4c31-d76f-5ddff9ac6d21"
      },
      "execution_count": null,
      "outputs": [
        {
          "output_type": "execute_result",
          "data": {
            "text/plain": [
              "       price  sqft_living  sqft_above  bathrooms  view  sqft_basement  \\\n",
              "0   313000.0         1340        1340          1     0              0   \n",
              "1  2384000.0         3650        3370          2     4            280   \n",
              "2   342000.0         1930        1930          2     0              0   \n",
              "3   420000.0         2000        1000          2     0           1000   \n",
              "4   550000.0         1940        1140          2     0            800   \n",
              "\n",
              "   bedrooms  \n",
              "0         3  \n",
              "1         5  \n",
              "2         3  \n",
              "3         3  \n",
              "4         4  "
            ],
            "text/html": [
              "\n",
              "  <div id=\"df-36a4894b-0c41-4ea3-9ad0-829baac70f7b\">\n",
              "    <div class=\"colab-df-container\">\n",
              "      <div>\n",
              "<style scoped>\n",
              "    .dataframe tbody tr th:only-of-type {\n",
              "        vertical-align: middle;\n",
              "    }\n",
              "\n",
              "    .dataframe tbody tr th {\n",
              "        vertical-align: top;\n",
              "    }\n",
              "\n",
              "    .dataframe thead th {\n",
              "        text-align: right;\n",
              "    }\n",
              "</style>\n",
              "<table border=\"1\" class=\"dataframe\">\n",
              "  <thead>\n",
              "    <tr style=\"text-align: right;\">\n",
              "      <th></th>\n",
              "      <th>price</th>\n",
              "      <th>sqft_living</th>\n",
              "      <th>sqft_above</th>\n",
              "      <th>bathrooms</th>\n",
              "      <th>view</th>\n",
              "      <th>sqft_basement</th>\n",
              "      <th>bedrooms</th>\n",
              "    </tr>\n",
              "  </thead>\n",
              "  <tbody>\n",
              "    <tr>\n",
              "      <th>0</th>\n",
              "      <td>313000.0</td>\n",
              "      <td>1340</td>\n",
              "      <td>1340</td>\n",
              "      <td>1</td>\n",
              "      <td>0</td>\n",
              "      <td>0</td>\n",
              "      <td>3</td>\n",
              "    </tr>\n",
              "    <tr>\n",
              "      <th>1</th>\n",
              "      <td>2384000.0</td>\n",
              "      <td>3650</td>\n",
              "      <td>3370</td>\n",
              "      <td>2</td>\n",
              "      <td>4</td>\n",
              "      <td>280</td>\n",
              "      <td>5</td>\n",
              "    </tr>\n",
              "    <tr>\n",
              "      <th>2</th>\n",
              "      <td>342000.0</td>\n",
              "      <td>1930</td>\n",
              "      <td>1930</td>\n",
              "      <td>2</td>\n",
              "      <td>0</td>\n",
              "      <td>0</td>\n",
              "      <td>3</td>\n",
              "    </tr>\n",
              "    <tr>\n",
              "      <th>3</th>\n",
              "      <td>420000.0</td>\n",
              "      <td>2000</td>\n",
              "      <td>1000</td>\n",
              "      <td>2</td>\n",
              "      <td>0</td>\n",
              "      <td>1000</td>\n",
              "      <td>3</td>\n",
              "    </tr>\n",
              "    <tr>\n",
              "      <th>4</th>\n",
              "      <td>550000.0</td>\n",
              "      <td>1940</td>\n",
              "      <td>1140</td>\n",
              "      <td>2</td>\n",
              "      <td>0</td>\n",
              "      <td>800</td>\n",
              "      <td>4</td>\n",
              "    </tr>\n",
              "  </tbody>\n",
              "</table>\n",
              "</div>\n",
              "      <button class=\"colab-df-convert\" onclick=\"convertToInteractive('df-36a4894b-0c41-4ea3-9ad0-829baac70f7b')\"\n",
              "              title=\"Convert this dataframe to an interactive table.\"\n",
              "              style=\"display:none;\">\n",
              "        \n",
              "  <svg xmlns=\"http://www.w3.org/2000/svg\" height=\"24px\"viewBox=\"0 0 24 24\"\n",
              "       width=\"24px\">\n",
              "    <path d=\"M0 0h24v24H0V0z\" fill=\"none\"/>\n",
              "    <path d=\"M18.56 5.44l.94 2.06.94-2.06 2.06-.94-2.06-.94-.94-2.06-.94 2.06-2.06.94zm-11 1L8.5 8.5l.94-2.06 2.06-.94-2.06-.94L8.5 2.5l-.94 2.06-2.06.94zm10 10l.94 2.06.94-2.06 2.06-.94-2.06-.94-.94-2.06-.94 2.06-2.06.94z\"/><path d=\"M17.41 7.96l-1.37-1.37c-.4-.4-.92-.59-1.43-.59-.52 0-1.04.2-1.43.59L10.3 9.45l-7.72 7.72c-.78.78-.78 2.05 0 2.83L4 21.41c.39.39.9.59 1.41.59.51 0 1.02-.2 1.41-.59l7.78-7.78 2.81-2.81c.8-.78.8-2.07 0-2.86zM5.41 20L4 18.59l7.72-7.72 1.47 1.35L5.41 20z\"/>\n",
              "  </svg>\n",
              "      </button>\n",
              "      \n",
              "  <style>\n",
              "    .colab-df-container {\n",
              "      display:flex;\n",
              "      flex-wrap:wrap;\n",
              "      gap: 12px;\n",
              "    }\n",
              "\n",
              "    .colab-df-convert {\n",
              "      background-color: #E8F0FE;\n",
              "      border: none;\n",
              "      border-radius: 50%;\n",
              "      cursor: pointer;\n",
              "      display: none;\n",
              "      fill: #1967D2;\n",
              "      height: 32px;\n",
              "      padding: 0 0 0 0;\n",
              "      width: 32px;\n",
              "    }\n",
              "\n",
              "    .colab-df-convert:hover {\n",
              "      background-color: #E2EBFA;\n",
              "      box-shadow: 0px 1px 2px rgba(60, 64, 67, 0.3), 0px 1px 3px 1px rgba(60, 64, 67, 0.15);\n",
              "      fill: #174EA6;\n",
              "    }\n",
              "\n",
              "    [theme=dark] .colab-df-convert {\n",
              "      background-color: #3B4455;\n",
              "      fill: #D2E3FC;\n",
              "    }\n",
              "\n",
              "    [theme=dark] .colab-df-convert:hover {\n",
              "      background-color: #434B5C;\n",
              "      box-shadow: 0px 1px 3px 1px rgba(0, 0, 0, 0.15);\n",
              "      filter: drop-shadow(0px 1px 2px rgba(0, 0, 0, 0.3));\n",
              "      fill: #FFFFFF;\n",
              "    }\n",
              "  </style>\n",
              "\n",
              "      <script>\n",
              "        const buttonEl =\n",
              "          document.querySelector('#df-36a4894b-0c41-4ea3-9ad0-829baac70f7b button.colab-df-convert');\n",
              "        buttonEl.style.display =\n",
              "          google.colab.kernel.accessAllowed ? 'block' : 'none';\n",
              "\n",
              "        async function convertToInteractive(key) {\n",
              "          const element = document.querySelector('#df-36a4894b-0c41-4ea3-9ad0-829baac70f7b');\n",
              "          const dataTable =\n",
              "            await google.colab.kernel.invokeFunction('convertToInteractive',\n",
              "                                                     [key], {});\n",
              "          if (!dataTable) return;\n",
              "\n",
              "          const docLinkHtml = 'Like what you see? Visit the ' +\n",
              "            '<a target=\"_blank\" href=https://colab.research.google.com/notebooks/data_table.ipynb>data table notebook</a>'\n",
              "            + ' to learn more about interactive tables.';\n",
              "          element.innerHTML = '';\n",
              "          dataTable['output_type'] = 'display_data';\n",
              "          await google.colab.output.renderOutput(dataTable, element);\n",
              "          const docLink = document.createElement('div');\n",
              "          docLink.innerHTML = docLinkHtml;\n",
              "          element.appendChild(docLink);\n",
              "        }\n",
              "      </script>\n",
              "    </div>\n",
              "  </div>\n",
              "  "
            ]
          },
          "metadata": {},
          "execution_count": 25
        }
      ]
    },
    {
      "cell_type": "code",
      "source": [
        "#eliminaremos los valores en ceros en price, bathrooms y bedrooms\n",
        "\n",
        "df_h2.drop(df_h2[df_h2['price'] == 0].index, inplace = True)\n",
        "df_h2.drop(df_h2[df_h2['bedrooms'] == 0].index, inplace = True)\n",
        "df_h2.drop(df_h2[df_h2['bathrooms'] == 0].index, inplace = True)\n",
        "\n",
        "df_h2[df_h2==0].count()"
      ],
      "metadata": {
        "colab": {
          "base_uri": "https://localhost:8080/"
        },
        "id": "9HhrSjpTz2Fw",
        "outputId": "a8b70ca9-bd80-4bcf-dbcb-4147b4d49768"
      },
      "execution_count": null,
      "outputs": [
        {
          "output_type": "stream",
          "name": "stderr",
          "text": [
            "/usr/local/lib/python3.8/dist-packages/pandas/core/frame.py:4906: SettingWithCopyWarning: \n",
            "A value is trying to be set on a copy of a slice from a DataFrame\n",
            "\n",
            "See the caveats in the documentation: https://pandas.pydata.org/pandas-docs/stable/user_guide/indexing.html#returning-a-view-versus-a-copy\n",
            "  return super().drop(\n"
          ]
        },
        {
          "output_type": "execute_result",
          "data": {
            "text/plain": [
              "price               0\n",
              "sqft_living         0\n",
              "sqft_above          0\n",
              "bathrooms           0\n",
              "view             4087\n",
              "sqft_basement    2702\n",
              "bedrooms            0\n",
              "dtype: int64"
            ]
          },
          "metadata": {},
          "execution_count": 26
        }
      ]
    },
    {
      "cell_type": "code",
      "source": [
        "#Remover los outliers sqft_basement\n",
        "import numpy as np\n",
        "\n",
        "Q3 = np.quantile(df_h2['sqft_basement'], 0.75)\n",
        "Q1 = np.quantile(df_h2['sqft_basement'], 0.25)\n",
        "IQR = Q3 - Q1\n",
        "\n",
        "lower_sqft_basement = Q1 - 1.5 * IQR\n",
        "upper_sqft_basement = Q3 + 1.5 * IQR\n",
        "\n",
        "df_h2s = df_h2[(df_h2.sqft_basement > lower_sqft_basement) & (df_h2.sqft_basement < upper_sqft_basement)]"
      ],
      "metadata": {
        "id": "_ljJeP7jDFfT"
      },
      "execution_count": null,
      "outputs": []
    },
    {
      "cell_type": "code",
      "source": [
        "#Remover los outliers sqft_above\n",
        "import numpy as np\n",
        "\n",
        "Q3 = np.quantile(df_h2s['sqft_above'], 0.75)\n",
        "Q1 = np.quantile(df_h2s['sqft_above'], 0.25)\n",
        "IQR = Q3 - Q1\n",
        "\n",
        "lower_sqft_above = Q1 - 1.5 * IQR\n",
        "upper_sqft_above = Q3 + 1.5 * IQR\n",
        "\n",
        "df_h2a = df_h2s[(df_h2s.sqft_above > lower_sqft_above) & (df_h2s.sqft_above < upper_sqft_above)]"
      ],
      "metadata": {
        "id": "Hj4Wdw2YCfYh"
      },
      "execution_count": null,
      "outputs": []
    },
    {
      "cell_type": "code",
      "source": [
        "#Remover los outliers sqft_living\n",
        "import numpy as np\n",
        "\n",
        "Q3 = np.quantile(df_h2a['sqft_living'], 0.75)\n",
        "Q1 = np.quantile(df_h2a['sqft_living'], 0.25)\n",
        "IQR = Q3 - Q1\n",
        "\n",
        "lower_sqft_living = Q1 - 1.5 * IQR\n",
        "upper_sqft_living = Q3 + 1.5 * IQR\n",
        "\n",
        "df_h2l = df_h2a[(df_h2a.sqft_living > lower_sqft_living) & (df_h2a.sqft_living < upper_sqft_living)]"
      ],
      "metadata": {
        "id": "IrC_k4vnA6wa"
      },
      "execution_count": null,
      "outputs": []
    },
    {
      "cell_type": "code",
      "source": [
        "#Remover los outliers price\n",
        "import numpy as np\n",
        "\n",
        "Q3 = np.quantile(df_h2l['price'], 0.75)\n",
        "Q1 = np.quantile(df_h2l['price'], 0.25)\n",
        "IQR = Q3 - Q1\n",
        "\n",
        "lower_price = Q1 - 1.5 * IQR\n",
        "upper_price = Q3 + 1.5 * IQR\n",
        "\n",
        "df_h2p = df_h2l[(df_h2l.price > lower_price) & (df_h2l.price < upper_price)]"
      ],
      "metadata": {
        "id": "L7xKBe2R1Aev"
      },
      "execution_count": null,
      "outputs": []
    },
    {
      "cell_type": "code",
      "source": [
        "#Remover los outliers bedrooms\n",
        "import numpy as np\n",
        "\n",
        "Q3 = np.quantile(df_h2p['bedrooms'], 0.75)\n",
        "Q1 = np.quantile(df_h2p['bedrooms'], 0.25)\n",
        "IQR = Q3 - Q1\n",
        "\n",
        "lower_bedrooms = Q1 - 1.5 * IQR\n",
        "upper_bedrooms = Q3 + 1.5 * IQR\n",
        "\n",
        "df_h2b = df_h2p[(df_h2p.bedrooms > lower_bedrooms) & (df_h2p.bedrooms < upper_bedrooms)]"
      ],
      "metadata": {
        "id": "oyjYeD7K6Vpm"
      },
      "execution_count": null,
      "outputs": []
    },
    {
      "cell_type": "code",
      "source": [
        "#Remover los outliers bathrooms\n",
        "import numpy as np\n",
        "\n",
        "Q3 = np.quantile(df_h2b['bathrooms'], 0.75)\n",
        "Q1 = np.quantile(df_h2b['bathrooms'], 0.25)\n",
        "IQR = Q3 - Q1\n",
        "\n",
        "lower_bathrooms = Q1 - 1.5 * IQR\n",
        "upper_bathrooms = Q3 + 1.5 * IQR\n",
        "\n",
        "df_h2_final = df_h2b[(df_h2b.bathrooms > lower_bathrooms) & (df_h2b.bathrooms < upper_bathrooms)]"
      ],
      "metadata": {
        "id": "uzIBoLQf6WBw"
      },
      "execution_count": null,
      "outputs": []
    },
    {
      "cell_type": "code",
      "source": [
        "#@title\n",
        "\n",
        "#BoxPlots\n",
        "#Gráfico para cada variables numericas\n",
        "\n",
        "fig, axes = plt.subplots(nrows=2, ncols=3, figsize=(12, 7))\n",
        "axes = axes.flat\n",
        "columnas_numeric = df_h2_final[['price', 'bathrooms','bedrooms', 'sqft_basement','sqft_living','sqft_above']].columns\n",
        "\n",
        "for i, colum in enumerate(columnas_numeric):\n",
        "    sns.boxplot(\n",
        "        data    = df_h2_final,\n",
        "        x       = colum,\n",
        "        color   = (list(plt.rcParams['axes.prop_cycle'])*2)[i][\"color\"],\n",
        "        ax      = axes[i]\n",
        "    )\n",
        "    axes[i].set_title(colum, fontsize = 10, fontweight = \"bold\")\n",
        "    axes[i].tick_params(labelsize = 10)\n",
        "    axes[i].set_xlabel(\"\")\n",
        "\n",
        "\n",
        "\n",
        "fig.tight_layout()\n",
        "plt.subplots_adjust(top = 0.9)\n",
        "fig.suptitle('Identificacion de Outliers variables numéricas', fontsize = 12, fontweight = \"bold\");"
      ],
      "metadata": {
        "colab": {
          "base_uri": "https://localhost:8080/",
          "height": 514
        },
        "id": "wrFXZY_07XcF",
        "outputId": "b6517d08-bbed-4450-c02b-4f27590a5054"
      },
      "execution_count": null,
      "outputs": [
        {
          "output_type": "display_data",
          "data": {
            "text/plain": [
              "<Figure size 864x504 with 6 Axes>"
            ],
            "image/png": "[encoded data removed]"
          },
          "metadata": {}
        }
      ]
    },
    {
      "cell_type": "code",
      "source": [
        "#selecionamos nuestra variable dependiente y las independientes\n",
        "\n",
        "h2_x = df_h2_final.drop('price', axis = 1)\n",
        "h2_y = df_h2_final['price']"
      ],
      "metadata": {
        "id": "MUWYv4CdvjjV"
      },
      "execution_count": null,
      "outputs": []
    },
    {
      "cell_type": "code",
      "source": [
        "#Preparamos nuestro set de entrenamiento y prueba\n",
        "\n",
        "h2_xtrain, h2_xtest, h2_ytrain, h2_ytest = train_test_split(h2_x, h2_y, test_size= 0.20, random_state=43)"
      ],
      "metadata": {
        "id": "7IlZ70yrvy8o"
      },
      "execution_count": null,
      "outputs": []
    },
    {
      "cell_type": "code",
      "source": [
        "#Modelo2\n",
        "model2 = LinearRegression()\n",
        "\n",
        "#Entrenamiento\n",
        "model2.fit(h2_xtrain, h2_ytrain)"
      ],
      "metadata": {
        "colab": {
          "base_uri": "https://localhost:8080/"
        },
        "id": "-Afb5DeCv3iS",
        "outputId": "493db13d-a525-436b-e263-1c41e6effa52"
      },
      "execution_count": null,
      "outputs": [
        {
          "output_type": "execute_result",
          "data": {
            "text/plain": [
              "LinearRegression()"
            ]
          },
          "metadata": {},
          "execution_count": 36
        }
      ]
    },
    {
      "cell_type": "markdown",
      "source": [
        "### **Fase 4:** Evaluación y análisis de los resultados."
      ],
      "metadata": {
        "id": "jupANKSWnpHd"
      }
    },
    {
      "cell_type": "code",
      "source": [
        "#Predicion de y_train con los datos usado en el entrenamiento\n",
        "pred_h2_train = model2.predict(h2_xtrain)\n",
        "\n",
        "#Calculamos el MSE\n",
        "h2_mse_train = mean_squared_error(y_true = h2_ytrain, y_pred = pred_h2_train)\n",
        "print(f'Error cuadratico Medio Train_h2: {h2_mse_train:,.2f}')\n",
        "print(f'Error cuadratico Medio Train_h1: {h1_mse_train:,.2f}')\n",
        "\n",
        "print('')\n",
        "\n",
        "#Predicion de y_test con los datos usado en el entrenamiento\n",
        "pred_h2_test = model2.predict(h2_xtest)\n",
        "\n",
        "#Calculamos el MSE\n",
        "h2_mse_test = mean_squared_error(y_true = h2_ytest, y_pred = pred_h2_test)\n",
        "print(f'Error cuadratico Medio Test_h2: {h2_mse_test:,.2f}')\n",
        "print(f'Error cuadratico Medio Test_h1: {h1_mse_test:,.2f}')\n",
        "\n",
        "print('')\n",
        "\n",
        "accuracy2 = model2.score(h2_xtrain, h2_ytrain)\n",
        "print(f\"Model Accuracy2:  {accuracy2:.2f}\")\n",
        "\n",
        "accuracy1 = model1.score(h1_xtrain, h1_ytrain)\n",
        "print(f\"Model Accuracy1:  {accuracy1:.2f}\")\n",
        "\n"
      ],
      "metadata": {
        "colab": {
          "base_uri": "https://localhost:8080/"
        },
        "id": "tv8S-XrfwkOQ",
        "outputId": "2db2419a-3759-4892-bd1e-c2a2193c5b12"
      },
      "execution_count": null,
      "outputs": [
        {
          "output_type": "stream",
          "name": "stdout",
          "text": [
            "Error cuadratico Medio Train_h2: 24,667,989,407.62\n",
            "Error cuadratico Medio Train_h1: 292,362,391,426.87\n",
            "\n",
            "Error cuadratico Medio Test_h2: 24,468,361,277.21\n",
            "Error cuadratico Medio Test_h1: 75,194,221,478.41\n",
            "\n",
            "Model Accuracy2:  0.38\n",
            "Model Accuracy1:  0.18\n"
          ]
        }
      ]
    },
    {
      "cell_type": "markdown",
      "source": [
        "**Hipotesis 3**: Como ultimo escenario utilizaremos la tecnica de escalado de los datos  y agregaremos la variable city con una transformacion hot_encoding ya que la misma es categorica en addicion a las tecnicas utilizadas anteriormente."
      ],
      "metadata": {
        "id": "4JUjq1BuGjvI"
      }
    },
    {
      "cell_type": "markdown",
      "source": [
        "### **Fase 3:** Fase de entrenamiento."
      ],
      "metadata": {
        "id": "Wa_ux8IZHwsG"
      }
    },
    {
      "cell_type": "code",
      "source": [
        "#hacemos la transformacion hot_encoding de la variable ciudad\n",
        "ciudad = pd.get_dummies(house_prince['city'])\n",
        "\n",
        "#La agregamos al dataset final, el cual ultilizamos en la ultima hipotesis y eliminamos N/A de las filas eliminada por valores ceros\n",
        "df = pd.concat([df_h2_final,ciudad],axis = 1)\n",
        "df = df.dropna()\n",
        "df.head(5)"
      ],
      "metadata": {
        "colab": {
          "base_uri": "https://localhost:8080/",
          "height": 334
        },
        "id": "lDtqlsA1MrKk",
        "outputId": "f66f0188-c839-4bb5-e1a8-e24e8f326284"
      },
      "execution_count": null,
      "outputs": [
        {
          "output_type": "execute_result",
          "data": {
            "text/plain": [
              "      price  sqft_living  sqft_above  bathrooms  view  sqft_basement  \\\n",
              "0  313000.0       1340.0      1340.0        1.0   0.0            0.0   \n",
              "2  342000.0       1930.0      1930.0        2.0   0.0            0.0   \n",
              "3  420000.0       2000.0      1000.0        2.0   0.0         1000.0   \n",
              "4  550000.0       1940.0      1140.0        2.0   0.0          800.0   \n",
              "5  490000.0        880.0       880.0        1.0   0.0            0.0   \n",
              "\n",
              "   bedrooms  Algona  Auburn  Beaux Arts Village  ...  SeaTac  Seattle  \\\n",
              "0       3.0       0       0                   0  ...       0        0   \n",
              "2       3.0       0       0                   0  ...       0        0   \n",
              "3       3.0       0       0                   0  ...       0        0   \n",
              "4       4.0       0       0                   0  ...       0        0   \n",
              "5       2.0       0       0                   0  ...       0        1   \n",
              "\n",
              "   Shoreline  Skykomish  Snoqualmie  Snoqualmie Pass  Tukwila  Vashon  \\\n",
              "0          1          0           0                0        0       0   \n",
              "2          0          0           0                0        0       0   \n",
              "3          0          0           0                0        0       0   \n",
              "4          0          0           0                0        0       0   \n",
              "5          0          0           0                0        0       0   \n",
              "\n",
              "   Woodinville  Yarrow Point  \n",
              "0            0             0  \n",
              "2            0             0  \n",
              "3            0             0  \n",
              "4            0             0  \n",
              "5            0             0  \n",
              "\n",
              "[5 rows x 51 columns]"
            ],
            "text/html": [
              "\n",
              "  <div id=\"df-6b1e0243-9e30-4392-a1ec-1b4bb42fae90\">\n",
              "    <div class=\"colab-df-container\">\n",
              "      <div>\n",
              "<style scoped>\n",
              "    .dataframe tbody tr th:only-of-type {\n",
              "        vertical-align: middle;\n",
              "    }\n",
              "\n",
              "    .dataframe tbody tr th {\n",
              "        vertical-align: top;\n",
              "    }\n",
              "\n",
              "    .dataframe thead th {\n",
              "        text-align: right;\n",
              "    }\n",
              "</style>\n",
              "<table border=\"1\" class=\"dataframe\">\n",
              "  <thead>\n",
              "    <tr style=\"text-align: right;\">\n",
              "      <th></th>\n",
              "      <th>price</th>\n",
              "      <th>sqft_living</th>\n",
              "      <th>sqft_above</th>\n",
              "      <th>bathrooms</th>\n",
              "      <th>view</th>\n",
              "      <th>sqft_basement</th>\n",
              "      <th>bedrooms</th>\n",
              "      <th>Algona</th>\n",
              "      <th>Auburn</th>\n",
              "      <th>Beaux Arts Village</th>\n",
              "      <th>...</th>\n",
              "      <th>SeaTac</th>\n",
              "      <th>Seattle</th>\n",
              "      <th>Shoreline</th>\n",
              "      <th>Skykomish</th>\n",
              "      <th>Snoqualmie</th>\n",
              "      <th>Snoqualmie Pass</th>\n",
              "      <th>Tukwila</th>\n",
              "      <th>Vashon</th>\n",
              "      <th>Woodinville</th>\n",
              "      <th>Yarrow Point</th>\n",
              "    </tr>\n",
              "  </thead>\n",
              "  <tbody>\n",
              "    <tr>\n",
              "      <th>0</th>\n",
              "      <td>313000.0</td>\n",
              "      <td>1340.0</td>\n",
              "      <td>1340.0</td>\n",
              "      <td>1.0</td>\n",
              "      <td>0.0</td>\n",
              "      <td>0.0</td>\n",
              "      <td>3.0</td>\n",
              "      <td>0</td>\n",
              "      <td>0</td>\n",
              "      <td>0</td>\n",
              "      <td>...</td>\n",
              "      <td>0</td>\n",
              "      <td>0</td>\n",
              "      <td>1</td>\n",
              "      <td>0</td>\n",
              "      <td>0</td>\n",
              "      <td>0</td>\n",
              "      <td>0</td>\n",
              "      <td>0</td>\n",
              "      <td>0</td>\n",
              "      <td>0</td>\n",
              "    </tr>\n",
              "    <tr>\n",
              "      <th>2</th>\n",
              "      <td>342000.0</td>\n",
              "      <td>1930.0</td>\n",
              "      <td>1930.0</td>\n",
              "      <td>2.0</td>\n",
              "      <td>0.0</td>\n",
              "      <td>0.0</td>\n",
              "      <td>3.0</td>\n",
              "      <td>0</td>\n",
              "      <td>0</td>\n",
              "      <td>0</td>\n",
              "      <td>...</td>\n",
              "      <td>0</td>\n",
              "      <td>0</td>\n",
              "      <td>0</td>\n",
              "      <td>0</td>\n",
              "      <td>0</td>\n",
              "      <td>0</td>\n",
              "      <td>0</td>\n",
              "      <td>0</td>\n",
              "      <td>0</td>\n",
              "      <td>0</td>\n",
              "    </tr>\n",
              "    <tr>\n",
              "      <th>3</th>\n",
              "      <td>420000.0</td>\n",
              "      <td>2000.0</td>\n",
              "      <td>1000.0</td>\n",
              "      <td>2.0</td>\n",
              "      <td>0.0</td>\n",
              "      <td>1000.0</td>\n",
              "      <td>3.0</td>\n",
              "      <td>0</td>\n",
              "      <td>0</td>\n",
              "      <td>0</td>\n",
              "      <td>...</td>\n",
              "      <td>0</td>\n",
              "      <td>0</td>\n",
              "      <td>0</td>\n",
              "      <td>0</td>\n",
              "      <td>0</td>\n",
              "      <td>0</td>\n",
              "      <td>0</td>\n",
              "      <td>0</td>\n",
              "      <td>0</td>\n",
              "      <td>0</td>\n",
              "    </tr>\n",
              "    <tr>\n",
              "      <th>4</th>\n",
              "      <td>550000.0</td>\n",
              "      <td>1940.0</td>\n",
              "      <td>1140.0</td>\n",
              "      <td>2.0</td>\n",
              "      <td>0.0</td>\n",
              "      <td>800.0</td>\n",
              "      <td>4.0</td>\n",
              "      <td>0</td>\n",
              "      <td>0</td>\n",
              "      <td>0</td>\n",
              "      <td>...</td>\n",
              "      <td>0</td>\n",
              "      <td>0</td>\n",
              "      <td>0</td>\n",
              "      <td>0</td>\n",
              "      <td>0</td>\n",
              "      <td>0</td>\n",
              "      <td>0</td>\n",
              "      <td>0</td>\n",
              "      <td>0</td>\n",
              "      <td>0</td>\n",
              "    </tr>\n",
              "    <tr>\n",
              "      <th>5</th>\n",
              "      <td>490000.0</td>\n",
              "      <td>880.0</td>\n",
              "      <td>880.0</td>\n",
              "      <td>1.0</td>\n",
              "      <td>0.0</td>\n",
              "      <td>0.0</td>\n",
              "      <td>2.0</td>\n",
              "      <td>0</td>\n",
              "      <td>0</td>\n",
              "      <td>0</td>\n",
              "      <td>...</td>\n",
              "      <td>0</td>\n",
              "      <td>1</td>\n",
              "      <td>0</td>\n",
              "      <td>0</td>\n",
              "      <td>0</td>\n",
              "      <td>0</td>\n",
              "      <td>0</td>\n",
              "      <td>0</td>\n",
              "      <td>0</td>\n",
              "      <td>0</td>\n",
              "    </tr>\n",
              "  </tbody>\n",
              "</table>\n",
              "<p>5 rows × 51 columns</p>\n",
              "</div>\n",
              "      <button class=\"colab-df-convert\" onclick=\"convertToInteractive('df-6b1e0243-9e30-4392-a1ec-1b4bb42fae90')\"\n",
              "              title=\"Convert this dataframe to an interactive table.\"\n",
              "              style=\"display:none;\">\n",
              "        \n",
              "  <svg xmlns=\"http://www.w3.org/2000/svg\" height=\"24px\"viewBox=\"0 0 24 24\"\n",
              "       width=\"24px\">\n",
              "    <path d=\"M0 0h24v24H0V0z\" fill=\"none\"/>\n",
              "    <path d=\"M18.56 5.44l.94 2.06.94-2.06 2.06-.94-2.06-.94-.94-2.06-.94 2.06-2.06.94zm-11 1L8.5 8.5l.94-2.06 2.06-.94-2.06-.94L8.5 2.5l-.94 2.06-2.06.94zm10 10l.94 2.06.94-2.06 2.06-.94-2.06-.94-.94-2.06-.94 2.06-2.06.94z\"/><path d=\"M17.41 7.96l-1.37-1.37c-.4-.4-.92-.59-1.43-.59-.52 0-1.04.2-1.43.59L10.3 9.45l-7.72 7.72c-.78.78-.78 2.05 0 2.83L4 21.41c.39.39.9.59 1.41.59.51 0 1.02-.2 1.41-.59l7.78-7.78 2.81-2.81c.8-.78.8-2.07 0-2.86zM5.41 20L4 18.59l7.72-7.72 1.47 1.35L5.41 20z\"/>\n",
              "  </svg>\n",
              "      </button>\n",
              "      \n",
              "  <style>\n",
              "    .colab-df-container {\n",
              "      display:flex;\n",
              "      flex-wrap:wrap;\n",
              "      gap: 12px;\n",
              "    }\n",
              "\n",
              "    .colab-df-convert {\n",
              "      background-color: #E8F0FE;\n",
              "      border: none;\n",
              "      border-radius: 50%;\n",
              "      cursor: pointer;\n",
              "      display: none;\n",
              "      fill: #1967D2;\n",
              "      height: 32px;\n",
              "      padding: 0 0 0 0;\n",
              "      width: 32px;\n",
              "    }\n",
              "\n",
              "    .colab-df-convert:hover {\n",
              "      background-color: #E2EBFA;\n",
              "      box-shadow: 0px 1px 2px rgba(60, 64, 67, 0.3), 0px 1px 3px 1px rgba(60, 64, 67, 0.15);\n",
              "      fill: #174EA6;\n",
              "    }\n",
              "\n",
              "    [theme=dark] .colab-df-convert {\n",
              "      background-color: #3B4455;\n",
              "      fill: #D2E3FC;\n",
              "    }\n",
              "\n",
              "    [theme=dark] .colab-df-convert:hover {\n",
              "      background-color: #434B5C;\n",
              "      box-shadow: 0px 1px 3px 1px rgba(0, 0, 0, 0.15);\n",
              "      filter: drop-shadow(0px 1px 2px rgba(0, 0, 0, 0.3));\n",
              "      fill: #FFFFFF;\n",
              "    }\n",
              "  </style>\n",
              "\n",
              "      <script>\n",
              "        const buttonEl =\n",
              "          document.querySelector('#df-6b1e0243-9e30-4392-a1ec-1b4bb42fae90 button.colab-df-convert');\n",
              "        buttonEl.style.display =\n",
              "          google.colab.kernel.accessAllowed ? 'block' : 'none';\n",
              "\n",
              "        async function convertToInteractive(key) {\n",
              "          const element = document.querySelector('#df-6b1e0243-9e30-4392-a1ec-1b4bb42fae90');\n",
              "          const dataTable =\n",
              "            await google.colab.kernel.invokeFunction('convertToInteractive',\n",
              "                                                     [key], {});\n",
              "          if (!dataTable) return;\n",
              "\n",
              "          const docLinkHtml = 'Like what you see? Visit the ' +\n",
              "            '<a target=\"_blank\" href=https://colab.research.google.com/notebooks/data_table.ipynb>data table notebook</a>'\n",
              "            + ' to learn more about interactive tables.';\n",
              "          element.innerHTML = '';\n",
              "          dataTable['output_type'] = 'display_data';\n",
              "          await google.colab.output.renderOutput(dataTable, element);\n",
              "          const docLink = document.createElement('div');\n",
              "          docLink.innerHTML = docLinkHtml;\n",
              "          element.appendChild(docLink);\n",
              "        }\n",
              "      </script>\n",
              "    </div>\n",
              "  </div>\n",
              "  "
            ]
          },
          "metadata": {},
          "execution_count": 38
        }
      ]
    },
    {
      "cell_type": "code",
      "source": [
        "#selecionamos nuestra variable dependiente y las independientes\n",
        "\n",
        "h3_x = df.drop('price', axis = 1)\n",
        "h3_y = df['price']"
      ],
      "metadata": {
        "id": "9MGxRDWNHYf1"
      },
      "execution_count": null,
      "outputs": []
    },
    {
      "cell_type": "code",
      "source": [
        "#Importamos la tecnica a utilizar para escalar la variable\n",
        "from sklearn.preprocessing import StandardScaler, scale\n",
        "scaler = StandardScaler()\n",
        "\n",
        "#Pasamos la serie a un array de numpy ya que esta tecnica esta optimizada para trabajar con matrices\n",
        "h3_y = scaler.fit_transform(h3_y.to_numpy().reshape(-1,1))\n",
        "\n",
        "#Luego de escalar, volvemos a convertir el array en 1xn\n",
        "h3_y = h3_y.reshape(1,-1)[0]"
      ],
      "metadata": {
        "id": "eS3dOMmYF4Pz"
      },
      "execution_count": null,
      "outputs": []
    },
    {
      "cell_type": "code",
      "source": [
        "#Preparamos nuestro set de entrenamiento y prueba\n",
        "\n",
        "h3_xtrain, h3_xtest, h3_ytrain, h3_ytest = train_test_split(h3_x, h3_y, test_size= 0.20, random_state=43)"
      ],
      "metadata": {
        "id": "rRvDt9dyHiIv"
      },
      "execution_count": null,
      "outputs": []
    },
    {
      "cell_type": "code",
      "source": [
        "#Modelo3\n",
        "model3 = LinearRegression()\n",
        "\n",
        "#Entrenamiento\n",
        "model3.fit(h3_xtrain, h3_ytrain)"
      ],
      "metadata": {
        "colab": {
          "base_uri": "https://localhost:8080/"
        },
        "id": "1l_Y7r1YHpAD",
        "outputId": "f82bf56e-c6f0-43d5-bcf3-913dc7345bee"
      },
      "execution_count": null,
      "outputs": [
        {
          "output_type": "execute_result",
          "data": {
            "text/plain": [
              "LinearRegression()"
            ]
          },
          "metadata": {},
          "execution_count": 42
        }
      ]
    },
    {
      "cell_type": "markdown",
      "source": [
        "### **Fase 4:** Evaluación y análisis de los resultados."
      ],
      "metadata": {
        "id": "2u6qLvHlH0wX"
      }
    },
    {
      "cell_type": "code",
      "source": [
        "#Predicion de y_train con los datos usado en el entrenamiento\n",
        "pred_h3_train = model3.predict(h3_xtrain)\n",
        "\n",
        "print('Resultados del MSE: ')\n",
        "\n",
        "#Calculamos el MSE\n",
        "h3_mse_train = mean_squared_error(y_true = h3_ytrain, y_pred = pred_h3_train)\n",
        "print(f'Error cuadratico Medio Train_h3: {h3_mse_train:,.2f}')\n",
        "print(f'Error cuadratico Medio Train_h2: {h2_mse_train:,.2f}')\n",
        "print(f'Error cuadratico Medio Train_h1: {h1_mse_train:,.2f}')\n",
        "\n",
        "print('')\n",
        "\n",
        "#Predicion de y_test con los datos usado en el entrenamiento\n",
        "pred_h3_test = model3.predict(h3_xtest)\n",
        "\n",
        "#Calculamos el MSE\n",
        "h3_mse_test = mean_squared_error(y_true = h3_ytest, y_pred = pred_h3_test)\n",
        "print(f'Error cuadratico Medio Test_h3: {h3_mse_test:,.2f}')\n",
        "print(f'Error cuadratico Medio Test_h2: {h2_mse_test:,.2f}')\n",
        "print(f'Error cuadratico Medio Test_h1: {h1_mse_test:,.2f}')\n",
        "\n",
        "print('')\n",
        "\n",
        "accuracy3 = model3.score(h3_xtrain, h3_ytrain)\n",
        "print(f\"Model Accuracy3:  {accuracy3:.2f}\")\n",
        "\n",
        "accuracy2 = model2.score(h2_xtrain, h2_ytrain)\n",
        "print(f\"Model Accuracy2:  {accuracy2:.2f}\")\n",
        "\n",
        "accuracy1 = model1.score(h1_xtrain, h1_ytrain)\n",
        "print(f\"Model Accuracy1:  {accuracy1:.2f}\")\n",
        "\n"
      ],
      "metadata": {
        "colab": {
          "base_uri": "https://localhost:8080/"
        },
        "id": "dHgVvSg7H9Gr",
        "outputId": "bc0209dc-6c3e-4c01-f070-0691f14970d2"
      },
      "execution_count": null,
      "outputs": [
        {
          "output_type": "stream",
          "name": "stdout",
          "text": [
            "Resultados del MSE: \n",
            "Error cuadratico Medio Train_h3: 0.31\n",
            "Error cuadratico Medio Train_h2: 24,667,989,407.62\n",
            "Error cuadratico Medio Train_h1: 292,362,391,426.87\n",
            "\n",
            "Error cuadratico Medio Test_h3: 0.34\n",
            "Error cuadratico Medio Test_h2: 24,468,361,277.21\n",
            "Error cuadratico Medio Test_h1: 75,194,221,478.41\n",
            "\n",
            "Model Accuracy3:  0.68\n",
            "Model Accuracy2:  0.38\n",
            "Model Accuracy1:  0.18\n"
          ]
        }
      ]
    },
    {
      "cell_type": "markdown",
      "source": [
        "### **Conclusiones**"
      ],
      "metadata": {
        "id": "uWsGpnylQbCE"
      }
    },
    {
      "cell_type": "markdown",
      "source": [
        "Hemos llevado a cabo una serie de hipotesis donde hemos utilizmos varias tecnicas de reprocesamientos del conjunto de datos para optimizar el modelo y obtener un resultado adecuado a la metrica de evaluacion que utilizamos, en este caso MSE Error Cuadratico Medio que indica lo seguiente:\n",
        "\n",
        "Es la media de las diferencias cuadradas entre los\n",
        "valores observados y los predichos, por lo tanto entre mas cercano a Cero (0.0) mucho mejor es muestro modelo a la hora de predecir.\n",
        "\n",
        "En vista a los 3 resultamos obtenidos, concluimos que la hipotesis 3 es la aceptada luego de agregar la normalizacion de las variables objetivo y agregar la variable categorica 'city' a traves de la tecnica hot encoding que resulto ser muy significativa en la ciudad que esta ubicada la vivienda a la hora de determinarse su precio, asi como tambien en adicion a las demas tecnicas."
      ],
      "metadata": {
        "id": "Pel4FG7yQiIq"
      }
    }
  ]
}